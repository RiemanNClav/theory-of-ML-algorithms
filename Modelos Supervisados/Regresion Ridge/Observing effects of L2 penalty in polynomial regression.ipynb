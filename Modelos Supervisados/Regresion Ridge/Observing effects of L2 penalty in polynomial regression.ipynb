{
 "cells": [
  {
   "cell_type": "code",
   "execution_count": 1,
   "id": "258ca618",
   "metadata": {},
   "outputs": [],
   "source": [
    "import os \n",
    "import pandas as pd \n",
    "import numpy as np \n",
    "import matplotlib.pyplot as plt\n",
    "import seaborn as sns\n",
    "from functools import reduce\n",
    "\n",
    "#librerias para relizar aprendizaje automatico \n",
    "##para separar el conjunto de datos en entrenamiento y test \n",
    "from sklearn.model_selection import train_test_split \n",
    "\n",
    "#construir el modelo con el algoritmo de regresion lineal\n",
    "from sklearn.linear_model import LinearRegression,Ridge\n",
    "\n",
    "#para determinar el rendimiento del modelo con las metricas MSE, MAE y R2\n",
    "from sklearn.metrics import mean_squared_error, mean_absolute_error, r2_score\n",
    "\n",
    "#para sacar un reporte estadistico que podemos usar para determinar la importancia de las variables explicativas \n",
    "import statsmodels.api as sm\n",
    "\n",
    "#Con este paquete crearemos un modelo lineal. \n",
    "import statsmodels.formula.api as smf\n",
    "\n"
   ]
  },
  {
   "cell_type": "code",
   "execution_count": 2,
   "id": "75a6470c",
   "metadata": {},
   "outputs": [],
   "source": [
    "sales = pd.read_csv('C:/Users/XMX5634/Documents/theory-of-ML-algorithms/Datasets/kc_house_data.csv')"
   ]
  },
  {
   "cell_type": "code",
   "execution_count": 3,
   "id": "b888a334",
   "metadata": {},
   "outputs": [],
   "source": [
    "train_data = pd.read_csv('C:/Users/XMX5634/Documents/theory-of-ML-algorithms/Datasets/wk3_kc_house_train_data.csv')"
   ]
  },
  {
   "cell_type": "code",
   "execution_count": 13,
   "id": "dac73a35",
   "metadata": {},
   "outputs": [
    {
     "data": {
      "text/plain": [
       "45.16263360014806"
      ]
     },
     "execution_count": 13,
     "metadata": {},
     "output_type": "execute_result"
    }
   ],
   "source": [
    "(len(train_data) / len(sales)) * 100"
   ]
  },
  {
   "cell_type": "code",
   "execution_count": 14,
   "id": "d83eaa20",
   "metadata": {},
   "outputs": [],
   "source": [
    "valid_data = pd.read_csv('C:/Users/XMX5634/Documents/theory-of-ML-algorithms/Datasets/wk3_kc_house_valid_data.csv')"
   ]
  },
  {
   "cell_type": "code",
   "execution_count": 15,
   "id": "06da5c82",
   "metadata": {},
   "outputs": [
    {
     "data": {
      "text/plain": [
       "44.57965113589044"
      ]
     },
     "execution_count": 15,
     "metadata": {},
     "output_type": "execute_result"
    }
   ],
   "source": [
    "(len(valid_data) / len(sales)) * 100"
   ]
  },
  {
   "cell_type": "code",
   "execution_count": 16,
   "id": "f3ea6ed7",
   "metadata": {},
   "outputs": [],
   "source": [
    "test_data = pd.read_csv('C:/Users/XMX5634/Documents/theory-of-ML-algorithms/Datasets/wk3_kc_house_test_data.csv')"
   ]
  },
  {
   "cell_type": "code",
   "execution_count": 17,
   "id": "d60b7786",
   "metadata": {},
   "outputs": [
    {
     "data": {
      "text/plain": [
       "10.257715263961504"
      ]
     },
     "execution_count": 17,
     "metadata": {},
     "output_type": "execute_result"
    }
   ],
   "source": [
    "(len(test_data) / len(sales)) * 100"
   ]
  },
  {
   "cell_type": "code",
   "execution_count": 18,
   "id": "28bf7e2a",
   "metadata": {},
   "outputs": [],
   "source": [
    "set_1 = pd.read_csv('C:/Users/XMX5634/Documents/theory-of-ML-algorithms/Datasets/wk3_kc_house_set_1_data.csv')"
   ]
  },
  {
   "cell_type": "code",
   "execution_count": 19,
   "id": "8380c725",
   "metadata": {},
   "outputs": [],
   "source": [
    "set_2 = pd.read_csv('C:/Users/XMX5634/Documents/theory-of-ML-algorithms/Datasets/wk3_kc_house_set_2_data.csv')"
   ]
  },
  {
   "cell_type": "code",
   "execution_count": 20,
   "id": "6dc4faae",
   "metadata": {},
   "outputs": [],
   "source": [
    "set_3 = pd.read_csv('C:/Users/XMX5634/Documents/theory-of-ML-algorithms/Datasets/wk3_kc_house_set_3_data.csv')"
   ]
  },
  {
   "cell_type": "code",
   "execution_count": 21,
   "id": "06a17a0f",
   "metadata": {},
   "outputs": [],
   "source": [
    "set_4 = pd.read_csv('C:/Users/XMX5634/Documents/theory-of-ML-algorithms/Datasets/wk3_kc_house_set_4_data.csv')"
   ]
  },
  {
   "cell_type": "markdown",
   "id": "405ad474",
   "metadata": {},
   "source": [
    "# --------------------------------------------------------------------------------"
   ]
  },
  {
   "cell_type": "markdown",
   "id": "27d02821",
   "metadata": {},
   "source": [
    "En esta tarea, ejecutaremos la regresión ridge varias veces con diferentes penalizaciones L2 para ver cuál produce el mejor ajuste. Revisaremos el ejemplo de la regresión polinómica para ver el efecto de la regularización L2. En particular:\n",
    "\n",
    "Utilizar una implementación pre-construida de regresión para ejecutar la regresión polinomial\n",
    "\n",
    "Utilizar matplotlib para visualizar regresiones polinómicas\n",
    "\n",
    "Utilizar una implementación pre-construida de regresión para ejecutar la regresión polinómica, esta vez con penalización L2\n",
    "\n",
    "Utiliza matplotlib para visualizar regresiones polinómicas con regularización L2\n",
    "\n",
    "Elija la mejor penalización L2 utilizando validación cruzada.\n",
    "\n",
    "Evalúe el ajuste final utilizando datos de prueba.\n"
   ]
  },
  {
   "cell_type": "markdown",
   "id": "f6142c76",
   "metadata": {},
   "source": [
    "1. Copy and paste an equivalent of ‘polynomial_sframe’ function from Module 3 (Polynomial Regression). This function accepts an array ‘feature’ (of type  pandas.Series) and a maximal ‘degree’ and returns an data frame (of type  pandas.DataFrame) with the first column equal to ‘feature’ and the remaining columns equal to ‘feature’ to increasing integer powers up to ‘degree’."
   ]
  },
  {
   "cell_type": "code",
   "execution_count": 22,
   "id": "ca82fcf1",
   "metadata": {},
   "outputs": [],
   "source": [
    "def polynomial_dataframe(feature, degree): # feature is pandas.Series type\n",
    "    import pandas\n",
    "    # assume that degree >= 1\n",
    "    # initialize the dataframe:\n",
    "    poly_dataframe = pandas.DataFrame()\n",
    "    # and set poly_dataframe['power_1'] equal to the passed feature\n",
    "    poly_dataframe['power_1'] = feature\n",
    "    # first check if degree > 1\n",
    "    if degree > 1:\n",
    "        # then loop over the remaining degrees:\n",
    "        for power in range(2, degree+1):\n",
    "            # first we'll give the column a name:\n",
    "            name = 'power_' + str(power)\n",
    "            # assign poly_dataframe[name] to be feature^power; use apply(*)\n",
    "            poly_dataframe[name] = feature ** power\n",
    "    return poly_dataframe"
   ]
  },
  {
   "cell_type": "code",
   "execution_count": 23,
   "id": "e76d399f",
   "metadata": {},
   "outputs": [
    {
     "data": {
      "text/html": [
       "<div>\n",
       "<style scoped>\n",
       "    .dataframe tbody tr th:only-of-type {\n",
       "        vertical-align: middle;\n",
       "    }\n",
       "\n",
       "    .dataframe tbody tr th {\n",
       "        vertical-align: top;\n",
       "    }\n",
       "\n",
       "    .dataframe thead th {\n",
       "        text-align: right;\n",
       "    }\n",
       "</style>\n",
       "<table border=\"1\" class=\"dataframe\">\n",
       "  <thead>\n",
       "    <tr style=\"text-align: right;\">\n",
       "      <th></th>\n",
       "      <th>power_1</th>\n",
       "      <th>power_2</th>\n",
       "      <th>power_3</th>\n",
       "      <th>power_4</th>\n",
       "      <th>power_5</th>\n",
       "    </tr>\n",
       "  </thead>\n",
       "  <tbody>\n",
       "    <tr>\n",
       "      <th>19452</th>\n",
       "      <td>142000.0</td>\n",
       "      <td>2.016400e+10</td>\n",
       "      <td>2.863288e+15</td>\n",
       "      <td>4.065869e+20</td>\n",
       "      <td>5.773534e+25</td>\n",
       "    </tr>\n",
       "    <tr>\n",
       "      <th>15381</th>\n",
       "      <td>276000.0</td>\n",
       "      <td>7.617600e+10</td>\n",
       "      <td>2.102458e+16</td>\n",
       "      <td>5.802783e+21</td>\n",
       "      <td>1.601568e+27</td>\n",
       "    </tr>\n",
       "    <tr>\n",
       "      <th>860</th>\n",
       "      <td>245000.0</td>\n",
       "      <td>6.002500e+10</td>\n",
       "      <td>1.470612e+16</td>\n",
       "      <td>3.603001e+21</td>\n",
       "      <td>8.827352e+26</td>\n",
       "    </tr>\n",
       "    <tr>\n",
       "      <th>18379</th>\n",
       "      <td>265000.0</td>\n",
       "      <td>7.022500e+10</td>\n",
       "      <td>1.860962e+16</td>\n",
       "      <td>4.931551e+21</td>\n",
       "      <td>1.306861e+27</td>\n",
       "    </tr>\n",
       "    <tr>\n",
       "      <th>4868</th>\n",
       "      <td>228000.0</td>\n",
       "      <td>5.198400e+10</td>\n",
       "      <td>1.185235e+16</td>\n",
       "      <td>2.702336e+21</td>\n",
       "      <td>6.161327e+26</td>\n",
       "    </tr>\n",
       "  </tbody>\n",
       "</table>\n",
       "</div>"
      ],
      "text/plain": [
       "        power_1       power_2       power_3       power_4       power_5\n",
       "19452  142000.0  2.016400e+10  2.863288e+15  4.065869e+20  5.773534e+25\n",
       "15381  276000.0  7.617600e+10  2.102458e+16  5.802783e+21  1.601568e+27\n",
       "860    245000.0  6.002500e+10  1.470612e+16  3.603001e+21  8.827352e+26\n",
       "18379  265000.0  7.022500e+10  1.860962e+16  4.931551e+21  1.306861e+27\n",
       "4868   228000.0  5.198400e+10  1.185235e+16  2.702336e+21  6.161327e+26"
      ]
     },
     "execution_count": 23,
     "metadata": {},
     "output_type": "execute_result"
    }
   ],
   "source": [
    "polynomial_dataframe(sales['price'],5).head(5)"
   ]
  },
  {
   "cell_type": "markdown",
   "id": "028c1509",
   "metadata": {},
   "source": [
    "2. For the remainder of the assignment we will be working with the house Sales data as in Module 3 (Polynomial Regression). Load in the data and also sort the sales data frame by ‘sqft_living’. When we plot the fitted values we want to join them up in a line and this works best if the variable on the X-axis (which will be ‘sqft_living’) is sorted. For houses with identical square footage, we break the tie by their prices."
   ]
  },
  {
   "cell_type": "code",
   "execution_count": 24,
   "id": "01048d06",
   "metadata": {},
   "outputs": [],
   "source": [
    "sales = sales.sort_values(['sqft_living','price'])"
   ]
  },
  {
   "cell_type": "markdown",
   "id": "4fe07d95",
   "metadata": {},
   "source": [
    "3. Let us revisit the 15th-order polynomial model using the 'sqft_living' input. Generate polynomial features up to degree 15 using `polynomial_sframe()` and fit a model with these features. When fitting the model, use an L2 penalty of 1.5e-5:"
   ]
  },
  {
   "cell_type": "code",
   "execution_count": 25,
   "id": "056fb342",
   "metadata": {},
   "outputs": [],
   "source": [
    "l2_small_penalty = 1.5e-5"
   ]
  },
  {
   "cell_type": "code",
   "execution_count": 26,
   "id": "c5ecec23",
   "metadata": {},
   "outputs": [
    {
     "data": {
      "text/html": [
       "<div>\n",
       "<style scoped>\n",
       "    .dataframe tbody tr th:only-of-type {\n",
       "        vertical-align: middle;\n",
       "    }\n",
       "\n",
       "    .dataframe tbody tr th {\n",
       "        vertical-align: top;\n",
       "    }\n",
       "\n",
       "    .dataframe thead th {\n",
       "        text-align: right;\n",
       "    }\n",
       "</style>\n",
       "<table border=\"1\" class=\"dataframe\">\n",
       "  <thead>\n",
       "    <tr style=\"text-align: right;\">\n",
       "      <th></th>\n",
       "      <th>power_1</th>\n",
       "      <th>power_2</th>\n",
       "      <th>power_3</th>\n",
       "      <th>power_4</th>\n",
       "      <th>power_5</th>\n",
       "      <th>power_6</th>\n",
       "      <th>power_7</th>\n",
       "      <th>power_8</th>\n",
       "      <th>power_9</th>\n",
       "      <th>power_10</th>\n",
       "      <th>power_11</th>\n",
       "      <th>power_12</th>\n",
       "      <th>power_13</th>\n",
       "      <th>power_14</th>\n",
       "      <th>power_15</th>\n",
       "    </tr>\n",
       "  </thead>\n",
       "  <tbody>\n",
       "    <tr>\n",
       "      <th>19452</th>\n",
       "      <td>290</td>\n",
       "      <td>84100</td>\n",
       "      <td>24389000</td>\n",
       "      <td>7072810000</td>\n",
       "      <td>2051114900000</td>\n",
       "      <td>594823321000000</td>\n",
       "      <td>172498763090000000</td>\n",
       "      <td>-5315590925028654848</td>\n",
       "      <td>8005133933292429824</td>\n",
       "      <td>-2800912632598854656</td>\n",
       "      <td>-607924210447579136</td>\n",
       "      <td>8169419707297566720</td>\n",
       "      <td>7948473681471741952</td>\n",
       "      <td>-785641586888785920</td>\n",
       "      <td>-6475131313233297408</td>\n",
       "    </tr>\n",
       "    <tr>\n",
       "      <th>15381</th>\n",
       "      <td>370</td>\n",
       "      <td>136900</td>\n",
       "      <td>50653000</td>\n",
       "      <td>18741610000</td>\n",
       "      <td>6934395700000</td>\n",
       "      <td>2565726409000000</td>\n",
       "      <td>949318771330000000</td>\n",
       "      <td>759807991618519296</td>\n",
       "      <td>4427795793208865280</td>\n",
       "      <td>-3475779072869940224</td>\n",
       "      <td>5233828197790730240</td>\n",
       "      <td>-391694556932730880</td>\n",
       "      <td>2646966524565987328</td>\n",
       "      <td>1700178182809075712</td>\n",
       "      <td>1876629133233258496</td>\n",
       "    </tr>\n",
       "    <tr>\n",
       "      <th>860</th>\n",
       "      <td>380</td>\n",
       "      <td>144400</td>\n",
       "      <td>54872000</td>\n",
       "      <td>20851360000</td>\n",
       "      <td>7923516800000</td>\n",
       "      <td>3010936384000000</td>\n",
       "      <td>1144155825920000000</td>\n",
       "      <td>-7942643919429238784</td>\n",
       "      <td>7061338705255727104</td>\n",
       "      <td>8530817309291315200</td>\n",
       "      <td>-4916379442181308416</td>\n",
       "      <td>-5103036584232484864</td>\n",
       "      <td>-2245774268841328640</td>\n",
       "      <td>-4843994769065508864</td>\n",
       "      <td>3956395126061793280</td>\n",
       "    </tr>\n",
       "    <tr>\n",
       "      <th>18379</th>\n",
       "      <td>384</td>\n",
       "      <td>147456</td>\n",
       "      <td>56623104</td>\n",
       "      <td>21743271936</td>\n",
       "      <td>8349416423424</td>\n",
       "      <td>3206175906594816</td>\n",
       "      <td>1231171548132409344</td>\n",
       "      <td>-6845471433603153920</td>\n",
       "      <td>-9223372036854775808</td>\n",
       "      <td>0</td>\n",
       "      <td>0</td>\n",
       "      <td>0</td>\n",
       "      <td>0</td>\n",
       "      <td>0</td>\n",
       "      <td>0</td>\n",
       "    </tr>\n",
       "    <tr>\n",
       "      <th>4868</th>\n",
       "      <td>390</td>\n",
       "      <td>152100</td>\n",
       "      <td>59319000</td>\n",
       "      <td>23134410000</td>\n",
       "      <td>9022419900000</td>\n",
       "      <td>3518743761000000</td>\n",
       "      <td>1372310066790000000</td>\n",
       "      <td>245347910523003136</td>\n",
       "      <td>3451964735423464960</td>\n",
       "      <td>-346070565645933568</td>\n",
       "      <td>-5840312085947230208</td>\n",
       "      <td>-8772192453144932352</td>\n",
       "      <td>-8507403090256568320</td>\n",
       "      <td>2526728067657646080</td>\n",
       "      <td>7746510479875735552</td>\n",
       "    </tr>\n",
       "  </tbody>\n",
       "</table>\n",
       "</div>"
      ],
      "text/plain": [
       "       power_1  power_2   power_3      power_4        power_5  \\\n",
       "19452      290    84100  24389000   7072810000  2051114900000   \n",
       "15381      370   136900  50653000  18741610000  6934395700000   \n",
       "860        380   144400  54872000  20851360000  7923516800000   \n",
       "18379      384   147456  56623104  21743271936  8349416423424   \n",
       "4868       390   152100  59319000  23134410000  9022419900000   \n",
       "\n",
       "                power_6              power_7              power_8  \\\n",
       "19452   594823321000000   172498763090000000 -5315590925028654848   \n",
       "15381  2565726409000000   949318771330000000   759807991618519296   \n",
       "860    3010936384000000  1144155825920000000 -7942643919429238784   \n",
       "18379  3206175906594816  1231171548132409344 -6845471433603153920   \n",
       "4868   3518743761000000  1372310066790000000   245347910523003136   \n",
       "\n",
       "                   power_9             power_10             power_11  \\\n",
       "19452  8005133933292429824 -2800912632598854656  -607924210447579136   \n",
       "15381  4427795793208865280 -3475779072869940224  5233828197790730240   \n",
       "860    7061338705255727104  8530817309291315200 -4916379442181308416   \n",
       "18379 -9223372036854775808                    0                    0   \n",
       "4868   3451964735423464960  -346070565645933568 -5840312085947230208   \n",
       "\n",
       "                  power_12             power_13             power_14  \\\n",
       "19452  8169419707297566720  7948473681471741952  -785641586888785920   \n",
       "15381  -391694556932730880  2646966524565987328  1700178182809075712   \n",
       "860   -5103036584232484864 -2245774268841328640 -4843994769065508864   \n",
       "18379                    0                    0                    0   \n",
       "4868  -8772192453144932352 -8507403090256568320  2526728067657646080   \n",
       "\n",
       "                  power_15  \n",
       "19452 -6475131313233297408  \n",
       "15381  1876629133233258496  \n",
       "860    3956395126061793280  \n",
       "18379                    0  \n",
       "4868   7746510479875735552  "
      ]
     },
     "execution_count": 26,
     "metadata": {},
     "output_type": "execute_result"
    }
   ],
   "source": [
    "polynomial_dataframe(sales['sqft_living'],15).head(5)"
   ]
  },
  {
   "cell_type": "markdown",
   "id": "192cd157",
   "metadata": {},
   "source": [
    "Note: When we have so many features and so few data points, the solution can become highly numerically unstable, which can sometimes lead to strange unpredictable results. Thus, rather than using no regularization, we will introduce a tiny amount of regularization (l2_penalty=1.5e-5) to make the solution numerically stable. (In lecture, we discussed the fact that regularization can also help with numerical stability, and here we are seeing a practical example.)\n",
    "\n",
    "With the L2 penalty specified above, fit the model and print out the learned weights. Add \"alpha=l2_small_penalty\" and \"normalize=True\" to the parameter list of linear_model.Ridge:"
   ]
  },
  {
   "cell_type": "code",
   "execution_count": 27,
   "id": "416c185f",
   "metadata": {},
   "outputs": [
    {
     "data": {
      "text/plain": [
       "Ridge(alpha=1.5e-05, normalize=True)"
      ]
     },
     "execution_count": 27,
     "metadata": {},
     "output_type": "execute_result"
    }
   ],
   "source": [
    "\n",
    "\n",
    "poly15_data = polynomial_dataframe(sales['sqft_living'], 15) # use equivalent of `polynomial_sframe`\n",
    "model = Ridge(alpha=l2_small_penalty, normalize=True)\n",
    "model.fit(poly15_data, sales['price'])"
   ]
  },
  {
   "cell_type": "code",
   "execution_count": 28,
   "id": "ac06e95a",
   "metadata": {},
   "outputs": [
    {
     "data": {
      "text/plain": [
       "array([ 7.01020132e+01,  1.37941144e-02,  8.65543688e-06, -6.27671473e-10,\n",
       "       -1.94650224e-14, -1.57815966e-16, -4.60871912e-16,  3.42228860e-16,\n",
       "       -1.99319710e-16, -2.50411580e-16,  2.16777428e-16,  6.76179392e-16,\n",
       "        4.48006670e-16, -4.08142514e-16,  6.70601594e-17])"
      ]
     },
     "execution_count": 28,
     "metadata": {},
     "output_type": "execute_result"
    }
   ],
   "source": [
    "model.coef_"
   ]
  },
  {
   "cell_type": "code",
   "execution_count": 29,
   "id": "1ee8cf24",
   "metadata": {},
   "outputs": [
    {
     "data": {
      "text/plain": [
       "227788.20029745833"
      ]
     },
     "execution_count": 29,
     "metadata": {},
     "output_type": "execute_result"
    }
   ],
   "source": [
    "model.intercept_"
   ]
  },
  {
   "cell_type": "markdown",
   "id": "4bbf1454",
   "metadata": {},
   "source": [
    "**4. Quiz Question: What’s the learned value for the coefficient of feature power_1?**"
   ]
  },
  {
   "cell_type": "markdown",
   "id": "325f90c4",
   "metadata": {},
   "source": [
    "# Observe Overfitting"
   ]
  },
  {
   "cell_type": "markdown",
   "id": "6e5260d2",
   "metadata": {},
   "source": [
    "5. Recall from Module 3 (Polynomial Regression) that the polynomial fit of degree 15 changed wildly whenever the data changed. In particular, when we split the sales data into four subsets and fit the model of degree 15, the result came out to be very different for each subset. The model had a high variance. We will see in a moment that ridge regression reduces such variance. But first, we must reproduce the experiment we did in Module 3."
   ]
  },
  {
   "cell_type": "code",
   "execution_count": 30,
   "id": "dd152fde",
   "metadata": {},
   "outputs": [],
   "source": [
    "l2_small_penalty=1e-9"
   ]
  },
  {
   "cell_type": "markdown",
   "id": "1103e0e5",
   "metadata": {},
   "source": [
    "8. Quiz Question: For the models learned in each of these training sets, what are the smallest and largest values you learned for the coefficient of feature power_1? (For the purpose of answering this question, negative numbers are considered \"smaller\" than positive numbers. So -5 is smaller than -3, and -3 is smaller than 5 and so forth.)"
   ]
  },
  {
   "cell_type": "code",
   "execution_count": 31,
   "id": "4517b554",
   "metadata": {},
   "outputs": [],
   "source": [
    "def get_poly_model(set_data, l2_small_penalty):\n",
    "    poly15_data = polynomial_dataframe(set_data['sqft_living'], 15)\n",
    "    poly15_features = poly15_data.columns # get the name of the features\n",
    "    poly15_data['price'] = set_data['price'] # add price to the data since it's the target\n",
    "    model15 = Ridge(alpha=l2_small_penalty, normalize=True)\n",
    "    model15.fit(poly15_data[poly15_features],poly15_data['price'])\n",
    "    return poly15_data, model15\n",
    "    \n",
    "\n",
    "def get_coef(set_data, l2_small_penalty):\n",
    "    poly15_data, model15 = get_poly_model(set_data, l2_small_penalty)\n",
    "    return model15.coef_, model.intercept_\n",
    "\n",
    "def plot_fitted_line(set_data, l2_penalty):\n",
    "    poly15_data, model15 = get_poly_model(set_data, l2_penalty)\n",
    "    plt.plot(poly15_data['power_1'], poly15_data['price'],'.')\n",
    "    plt.plot(poly15_data['power_1'], model15.predict(poly15_data.iloc[:,0:15]),'-')"
   ]
  },
  {
   "cell_type": "code",
   "execution_count": 32,
   "id": "a265386b",
   "metadata": {},
   "outputs": [
    {
     "name": "stdout",
     "output_type": "stream",
     "text": [
      "set 1\n",
      "power 1 = 62.38577180038298\n"
     ]
    },
    {
     "data": {
      "image/png": "[encoded data removed]",
      "text/plain": [
       "<Figure size 432x288 with 1 Axes>"
      ]
     },
     "metadata": {
      "needs_background": "light"
     },
     "output_type": "display_data"
    }
   ],
   "source": [
    "print('set 1')\n",
    "set1_coef = get_coef(set_1, l2_small_penalty)\n",
    "print('power 1 = '+str(set1_coef[0][0]))\n",
    "plot_fitted_line(set_1, l2_small_penalty)"
   ]
  },
  {
   "cell_type": "code",
   "execution_count": 33,
   "id": "ce27c236",
   "metadata": {},
   "outputs": [
    {
     "name": "stdout",
     "output_type": "stream",
     "text": [
      "set 2\n",
      "power 1 = -219.8946861789479\n"
     ]
    },
    {
     "data": {
      "image/png": "[encoded data removed]",
      "text/plain": [
       "<Figure size 432x288 with 1 Axes>"
      ]
     },
     "metadata": {
      "needs_background": "light"
     },
     "output_type": "display_data"
    }
   ],
   "source": [
    "print('set 2')\n",
    "set1_coef = get_coef(set_2, l2_small_penalty)\n",
    "print('power 1 = '+str(set1_coef[0][0]))\n",
    "plot_fitted_line(set_2, l2_small_penalty)"
   ]
  },
  {
   "cell_type": "code",
   "execution_count": 34,
   "id": "601b1982",
   "metadata": {},
   "outputs": [
    {
     "name": "stdout",
     "output_type": "stream",
     "text": [
      "set 3\n",
      "power 1 = -198.97017666597822\n"
     ]
    },
    {
     "data": {
      "image/png": "[encoded data removed]",
      "text/plain": [
       "<Figure size 432x288 with 1 Axes>"
      ]
     },
     "metadata": {
      "needs_background": "light"
     },
     "output_type": "display_data"
    }
   ],
   "source": [
    "print('set 3')\n",
    "set1_coef = get_coef(set_3, l2_small_penalty)\n",
    "print('power 1 = '+str(set1_coef[0][0]))\n",
    "plot_fitted_line(set_3, l2_small_penalty)"
   ]
  },
  {
   "cell_type": "code",
   "execution_count": 35,
   "id": "ee54113e",
   "metadata": {},
   "outputs": [
    {
     "name": "stdout",
     "output_type": "stream",
     "text": [
      "set 4\n",
      "power 1 = -34.82482021560476\n"
     ]
    },
    {
     "data": {
      "image/png": "[encoded data removed]",
      "text/plain": [
       "<Figure size 432x288 with 1 Axes>"
      ]
     },
     "metadata": {
      "needs_background": "light"
     },
     "output_type": "display_data"
    }
   ],
   "source": [
    "print('set 4')\n",
    "set1_coef = get_coef(set_4, l2_small_penalty)\n",
    "print('power 1 = '+str(set1_coef[0][0]))\n",
    "plot_fitted_line(set_4, l2_small_penalty)"
   ]
  },
  {
   "cell_type": "markdown",
   "id": "782600e7",
   "metadata": {},
   "source": [
    "**QUIZ QUESTION: For the models learned in each of these training sets, what are the smallest and largest values you learned for the coefficient of feature power_1?** \n"
   ]
  },
  {
   "cell_type": "markdown",
   "id": "65b008f7",
   "metadata": {},
   "source": [
    "# Ridge regression comes to rescue"
   ]
  },
  {
   "cell_type": "markdown",
   "id": "0c26441e",
   "metadata": {},
   "source": [
    "9. Generally, whenever we see weights change so much in response to change in data, we believe the variance of our estimate to be large. Ridge regression aims to address this issue by penalizing \"large\" weights. (The weights looked quite small, but they are not that small because 'sqft_living' input is in the order of thousands.)"
   ]
  },
  {
   "cell_type": "code",
   "execution_count": 41,
   "id": "7e03baf1",
   "metadata": {},
   "outputs": [],
   "source": [
    "l2_large_penalty=1.23e2"
   ]
  },
  {
   "cell_type": "code",
   "execution_count": 42,
   "id": "62379761",
   "metadata": {},
   "outputs": [
    {
     "name": "stdout",
     "output_type": "stream",
     "text": [
      "set 1\n",
      "power 1 = 2.333022928259653\n"
     ]
    },
    {
     "data": {
      "image/png": "[encoded data removed]",
      "text/plain": [
       "<Figure size 432x288 with 1 Axes>"
      ]
     },
     "metadata": {
      "needs_background": "light"
     },
     "output_type": "display_data"
    }
   ],
   "source": [
    "print('set 1')\n",
    "set1_coef = get_coef(set_1, l2_large_penalty)\n",
    "print('power 1 = '+str(set1_coef[0][0]))\n",
    "plot_fitted_line(set_1, l2_large_penalty)"
   ]
  },
  {
   "cell_type": "code",
   "execution_count": 43,
   "id": "f26470d6",
   "metadata": {},
   "outputs": [
    {
     "name": "stdout",
     "output_type": "stream",
     "text": [
      "set 2\n",
      "power 1 = 2.107722686907466\n"
     ]
    },
    {
     "data": {
      "image/png": "[encoded data removed]",
      "text/plain": [
       "<Figure size 432x288 with 1 Axes>"
      ]
     },
     "metadata": {
      "needs_background": "light"
     },
     "output_type": "display_data"
    }
   ],
   "source": [
    "print('set 2')\n",
    "set1_coef = get_coef(set_2, l2_large_penalty)\n",
    "print('power 1 = '+str(set1_coef[0][0]))\n",
    "plot_fitted_line(set_2, l2_large_penalty)"
   ]
  },
  {
   "cell_type": "code",
   "execution_count": 44,
   "id": "fa39a931",
   "metadata": {},
   "outputs": [
    {
     "name": "stdout",
     "output_type": "stream",
     "text": [
      "set 3\n",
      "power 1 = 2.311236407795472\n"
     ]
    },
    {
     "data": {
      "image/png": "[encoded data removed]",
      "text/plain": [
       "<Figure size 432x288 with 1 Axes>"
      ]
     },
     "metadata": {
      "needs_background": "light"
     },
     "output_type": "display_data"
    }
   ],
   "source": [
    "print('set 3')\n",
    "set1_coef = get_coef(set_3, l2_large_penalty)\n",
    "print('power 1 = '+str(set1_coef[0][0]))\n",
    "plot_fitted_line(set_3, l2_large_penalty)"
   ]
  },
  {
   "cell_type": "code",
   "execution_count": 45,
   "id": "c80174e6",
   "metadata": {},
   "outputs": [
    {
     "name": "stdout",
     "output_type": "stream",
     "text": [
      "set 4\n",
      "power 1 = 2.1001837846924767\n"
     ]
    },
    {
     "data": {
      "image/png": "[encoded data removed]",
      "text/plain": [
       "<Figure size 432x288 with 1 Axes>"
      ]
     },
     "metadata": {
      "needs_background": "light"
     },
     "output_type": "display_data"
    }
   ],
   "source": [
    "print('set 4')\n",
    "set1_coef = get_coef(set_4, l2_large_penalty)\n",
    "print('power 1 = '+str(set1_coef[0][0]))\n",
    "plot_fitted_line(set_4, l2_large_penalty)"
   ]
  },
  {
   "cell_type": "markdown",
   "id": "f4868218",
   "metadata": {},
   "source": [
    "# Selecting an L2 penalty via cross-validation\n"
   ]
  },
  {
   "cell_type": "markdown",
   "id": "56c68997",
   "metadata": {},
   "source": [
    "Just like the polynomial degree, the L2 penalty is a \"magic\" parameter we need to select. We could use the validation set approach as we did in the last module, but that approach has a major disadvantage: it leaves fewer observations available for training. Cross-validation seeks to overcome this issue by using all of the training set in a smart way.\n",
    "\n",
    "We will implement a kind of cross-validation called k-fold cross-validation. The method gets its name because it involves dividing the training set into k segments of roughtly equal size. Similar to the validation set method, we measure the validation error with one of the segments designated as the validation set. The major difference is that we repeat the process k times as follows:\n",
    "\n",
    "Set aside segment 0 as the validation set, and fit a model on rest of data, and evalutate it on this validation set\n",
    "\n",
    "Set aside segment 1 as the validation set, and fit a model on rest of data, and evalutate it on this validation set\n",
    "\n",
    "...\n",
    "\n",
    "Set aside segment k-1 as the validation set, and fit a model on rest of data, and evalutate it on this validation set\n",
    "\n",
    "After this process, we compute the average of the k validation errors, and use it as an estimate of the generalization error. Notice that all observations are used for both training and validation, as we iterate over segments of data.\n",
    "\n",
    "13. To estimate the generalization error well, it is crucial to shuffle the training data before dividing them into segments. We reserve 10% of the data as the test set and randomly shuffle the remainder. Le'ts call the shuffled data 'train_valid_shuffled'.\n",
    "\n",
    "For the purpose of this assignment, let us download the csv file containing pre-shuffled rows of training and validation sets combined:"
   ]
  },
  {
   "cell_type": "code",
   "execution_count": 55,
   "id": "3a89e64f",
   "metadata": {},
   "outputs": [],
   "source": [
    "train_valid_shuffled = pd.read_csv('C:/Users/XMX5634/Documents/theory-of-ML-algorithms/Datasets/wk3_kc_house_train_valid_shuffled.csv')"
   ]
  },
  {
   "cell_type": "code",
   "execution_count": 47,
   "id": "25deb347",
   "metadata": {},
   "outputs": [
    {
     "data": {
      "text/html": [
       "<div>\n",
       "<style scoped>\n",
       "    .dataframe tbody tr th:only-of-type {\n",
       "        vertical-align: middle;\n",
       "    }\n",
       "\n",
       "    .dataframe tbody tr th {\n",
       "        vertical-align: top;\n",
       "    }\n",
       "\n",
       "    .dataframe thead th {\n",
       "        text-align: right;\n",
       "    }\n",
       "</style>\n",
       "<table border=\"1\" class=\"dataframe\">\n",
       "  <thead>\n",
       "    <tr style=\"text-align: right;\">\n",
       "      <th></th>\n",
       "      <th>id</th>\n",
       "      <th>date</th>\n",
       "      <th>price</th>\n",
       "      <th>bedrooms</th>\n",
       "      <th>bathrooms</th>\n",
       "      <th>sqft_living</th>\n",
       "      <th>sqft_lot</th>\n",
       "      <th>floors</th>\n",
       "      <th>waterfront</th>\n",
       "      <th>view</th>\n",
       "      <th>...</th>\n",
       "      <th>grade</th>\n",
       "      <th>sqft_above</th>\n",
       "      <th>sqft_basement</th>\n",
       "      <th>yr_built</th>\n",
       "      <th>yr_renovated</th>\n",
       "      <th>zipcode</th>\n",
       "      <th>lat</th>\n",
       "      <th>long</th>\n",
       "      <th>sqft_living15</th>\n",
       "      <th>sqft_lot15</th>\n",
       "    </tr>\n",
       "  </thead>\n",
       "  <tbody>\n",
       "    <tr>\n",
       "      <th>0</th>\n",
       "      <td>3793500160</td>\n",
       "      <td>20150312T000000</td>\n",
       "      <td>323000.0</td>\n",
       "      <td>3</td>\n",
       "      <td>2.50</td>\n",
       "      <td>1890</td>\n",
       "      <td>6560</td>\n",
       "      <td>2.0</td>\n",
       "      <td>0</td>\n",
       "      <td>0</td>\n",
       "      <td>...</td>\n",
       "      <td>7</td>\n",
       "      <td>1890</td>\n",
       "      <td>0</td>\n",
       "      <td>2003</td>\n",
       "      <td>0</td>\n",
       "      <td>98038</td>\n",
       "      <td>47.3684</td>\n",
       "      <td>-122.031</td>\n",
       "      <td>2390</td>\n",
       "      <td>7570</td>\n",
       "    </tr>\n",
       "    <tr>\n",
       "      <th>1</th>\n",
       "      <td>1175000570</td>\n",
       "      <td>20150312T000000</td>\n",
       "      <td>530000.0</td>\n",
       "      <td>5</td>\n",
       "      <td>2.00</td>\n",
       "      <td>1810</td>\n",
       "      <td>4850</td>\n",
       "      <td>1.5</td>\n",
       "      <td>0</td>\n",
       "      <td>0</td>\n",
       "      <td>...</td>\n",
       "      <td>7</td>\n",
       "      <td>1810</td>\n",
       "      <td>0</td>\n",
       "      <td>1900</td>\n",
       "      <td>0</td>\n",
       "      <td>98107</td>\n",
       "      <td>47.6700</td>\n",
       "      <td>-122.394</td>\n",
       "      <td>1360</td>\n",
       "      <td>4850</td>\n",
       "    </tr>\n",
       "    <tr>\n",
       "      <th>2</th>\n",
       "      <td>16000397</td>\n",
       "      <td>20141205T000000</td>\n",
       "      <td>189000.0</td>\n",
       "      <td>2</td>\n",
       "      <td>1.00</td>\n",
       "      <td>1200</td>\n",
       "      <td>9850</td>\n",
       "      <td>1.0</td>\n",
       "      <td>0</td>\n",
       "      <td>0</td>\n",
       "      <td>...</td>\n",
       "      <td>7</td>\n",
       "      <td>1200</td>\n",
       "      <td>0</td>\n",
       "      <td>1921</td>\n",
       "      <td>0</td>\n",
       "      <td>98002</td>\n",
       "      <td>47.3089</td>\n",
       "      <td>-122.210</td>\n",
       "      <td>1060</td>\n",
       "      <td>5095</td>\n",
       "    </tr>\n",
       "    <tr>\n",
       "      <th>3</th>\n",
       "      <td>461000390</td>\n",
       "      <td>20140624T000000</td>\n",
       "      <td>687500.0</td>\n",
       "      <td>4</td>\n",
       "      <td>1.75</td>\n",
       "      <td>2330</td>\n",
       "      <td>5000</td>\n",
       "      <td>1.5</td>\n",
       "      <td>0</td>\n",
       "      <td>0</td>\n",
       "      <td>...</td>\n",
       "      <td>7</td>\n",
       "      <td>1510</td>\n",
       "      <td>820</td>\n",
       "      <td>1929</td>\n",
       "      <td>0</td>\n",
       "      <td>98117</td>\n",
       "      <td>47.6823</td>\n",
       "      <td>-122.368</td>\n",
       "      <td>1460</td>\n",
       "      <td>5000</td>\n",
       "    </tr>\n",
       "    <tr>\n",
       "      <th>4</th>\n",
       "      <td>7895500070</td>\n",
       "      <td>20150213T000000</td>\n",
       "      <td>240000.0</td>\n",
       "      <td>4</td>\n",
       "      <td>1.00</td>\n",
       "      <td>1220</td>\n",
       "      <td>8075</td>\n",
       "      <td>1.0</td>\n",
       "      <td>0</td>\n",
       "      <td>0</td>\n",
       "      <td>...</td>\n",
       "      <td>7</td>\n",
       "      <td>890</td>\n",
       "      <td>330</td>\n",
       "      <td>1969</td>\n",
       "      <td>0</td>\n",
       "      <td>98001</td>\n",
       "      <td>47.3341</td>\n",
       "      <td>-122.282</td>\n",
       "      <td>1290</td>\n",
       "      <td>7800</td>\n",
       "    </tr>\n",
       "    <tr>\n",
       "      <th>...</th>\n",
       "      <td>...</td>\n",
       "      <td>...</td>\n",
       "      <td>...</td>\n",
       "      <td>...</td>\n",
       "      <td>...</td>\n",
       "      <td>...</td>\n",
       "      <td>...</td>\n",
       "      <td>...</td>\n",
       "      <td>...</td>\n",
       "      <td>...</td>\n",
       "      <td>...</td>\n",
       "      <td>...</td>\n",
       "      <td>...</td>\n",
       "      <td>...</td>\n",
       "      <td>...</td>\n",
       "      <td>...</td>\n",
       "      <td>...</td>\n",
       "      <td>...</td>\n",
       "      <td>...</td>\n",
       "      <td>...</td>\n",
       "      <td>...</td>\n",
       "    </tr>\n",
       "    <tr>\n",
       "      <th>2212</th>\n",
       "      <td>6669080120</td>\n",
       "      <td>20141215T000000</td>\n",
       "      <td>405000.0</td>\n",
       "      <td>4</td>\n",
       "      <td>2.50</td>\n",
       "      <td>1980</td>\n",
       "      <td>5020</td>\n",
       "      <td>2.0</td>\n",
       "      <td>0</td>\n",
       "      <td>0</td>\n",
       "      <td>...</td>\n",
       "      <td>7</td>\n",
       "      <td>1980</td>\n",
       "      <td>0</td>\n",
       "      <td>2007</td>\n",
       "      <td>0</td>\n",
       "      <td>98056</td>\n",
       "      <td>47.5147</td>\n",
       "      <td>-122.190</td>\n",
       "      <td>1980</td>\n",
       "      <td>5064</td>\n",
       "    </tr>\n",
       "    <tr>\n",
       "      <th>2213</th>\n",
       "      <td>2855000110</td>\n",
       "      <td>20140808T000000</td>\n",
       "      <td>388000.0</td>\n",
       "      <td>3</td>\n",
       "      <td>2.50</td>\n",
       "      <td>2198</td>\n",
       "      <td>6222</td>\n",
       "      <td>2.0</td>\n",
       "      <td>0</td>\n",
       "      <td>2</td>\n",
       "      <td>...</td>\n",
       "      <td>8</td>\n",
       "      <td>2198</td>\n",
       "      <td>0</td>\n",
       "      <td>2010</td>\n",
       "      <td>0</td>\n",
       "      <td>98198</td>\n",
       "      <td>47.3906</td>\n",
       "      <td>-122.304</td>\n",
       "      <td>2198</td>\n",
       "      <td>7621</td>\n",
       "    </tr>\n",
       "    <tr>\n",
       "      <th>2214</th>\n",
       "      <td>3345700207</td>\n",
       "      <td>20150502T000000</td>\n",
       "      <td>608500.0</td>\n",
       "      <td>4</td>\n",
       "      <td>3.50</td>\n",
       "      <td>2850</td>\n",
       "      <td>5577</td>\n",
       "      <td>2.0</td>\n",
       "      <td>0</td>\n",
       "      <td>0</td>\n",
       "      <td>...</td>\n",
       "      <td>8</td>\n",
       "      <td>1950</td>\n",
       "      <td>900</td>\n",
       "      <td>2014</td>\n",
       "      <td>0</td>\n",
       "      <td>98056</td>\n",
       "      <td>47.5252</td>\n",
       "      <td>-122.192</td>\n",
       "      <td>2850</td>\n",
       "      <td>5708</td>\n",
       "    </tr>\n",
       "    <tr>\n",
       "      <th>2215</th>\n",
       "      <td>6056111067</td>\n",
       "      <td>20140707T000000</td>\n",
       "      <td>230000.0</td>\n",
       "      <td>3</td>\n",
       "      <td>1.75</td>\n",
       "      <td>1140</td>\n",
       "      <td>1201</td>\n",
       "      <td>2.0</td>\n",
       "      <td>0</td>\n",
       "      <td>0</td>\n",
       "      <td>...</td>\n",
       "      <td>8</td>\n",
       "      <td>1140</td>\n",
       "      <td>0</td>\n",
       "      <td>2014</td>\n",
       "      <td>0</td>\n",
       "      <td>98108</td>\n",
       "      <td>47.5637</td>\n",
       "      <td>-122.295</td>\n",
       "      <td>1210</td>\n",
       "      <td>1552</td>\n",
       "    </tr>\n",
       "    <tr>\n",
       "      <th>2216</th>\n",
       "      <td>2767600688</td>\n",
       "      <td>20141113T000000</td>\n",
       "      <td>414500.0</td>\n",
       "      <td>2</td>\n",
       "      <td>1.50</td>\n",
       "      <td>1210</td>\n",
       "      <td>1278</td>\n",
       "      <td>2.0</td>\n",
       "      <td>0</td>\n",
       "      <td>0</td>\n",
       "      <td>...</td>\n",
       "      <td>8</td>\n",
       "      <td>1020</td>\n",
       "      <td>190</td>\n",
       "      <td>2007</td>\n",
       "      <td>0</td>\n",
       "      <td>98117</td>\n",
       "      <td>47.6756</td>\n",
       "      <td>-122.375</td>\n",
       "      <td>1210</td>\n",
       "      <td>1118</td>\n",
       "    </tr>\n",
       "  </tbody>\n",
       "</table>\n",
       "<p>2217 rows × 21 columns</p>\n",
       "</div>"
      ],
      "text/plain": [
       "              id             date     price  bedrooms  bathrooms  sqft_living  \\\n",
       "0     3793500160  20150312T000000  323000.0         3       2.50         1890   \n",
       "1     1175000570  20150312T000000  530000.0         5       2.00         1810   \n",
       "2       16000397  20141205T000000  189000.0         2       1.00         1200   \n",
       "3      461000390  20140624T000000  687500.0         4       1.75         2330   \n",
       "4     7895500070  20150213T000000  240000.0         4       1.00         1220   \n",
       "...          ...              ...       ...       ...        ...          ...   \n",
       "2212  6669080120  20141215T000000  405000.0         4       2.50         1980   \n",
       "2213  2855000110  20140808T000000  388000.0         3       2.50         2198   \n",
       "2214  3345700207  20150502T000000  608500.0         4       3.50         2850   \n",
       "2215  6056111067  20140707T000000  230000.0         3       1.75         1140   \n",
       "2216  2767600688  20141113T000000  414500.0         2       1.50         1210   \n",
       "\n",
       "      sqft_lot  floors  waterfront  view  ...  grade  sqft_above  \\\n",
       "0         6560     2.0           0     0  ...      7        1890   \n",
       "1         4850     1.5           0     0  ...      7        1810   \n",
       "2         9850     1.0           0     0  ...      7        1200   \n",
       "3         5000     1.5           0     0  ...      7        1510   \n",
       "4         8075     1.0           0     0  ...      7         890   \n",
       "...        ...     ...         ...   ...  ...    ...         ...   \n",
       "2212      5020     2.0           0     0  ...      7        1980   \n",
       "2213      6222     2.0           0     2  ...      8        2198   \n",
       "2214      5577     2.0           0     0  ...      8        1950   \n",
       "2215      1201     2.0           0     0  ...      8        1140   \n",
       "2216      1278     2.0           0     0  ...      8        1020   \n",
       "\n",
       "      sqft_basement  yr_built  yr_renovated  zipcode      lat     long  \\\n",
       "0                 0      2003             0    98038  47.3684 -122.031   \n",
       "1                 0      1900             0    98107  47.6700 -122.394   \n",
       "2                 0      1921             0    98002  47.3089 -122.210   \n",
       "3               820      1929             0    98117  47.6823 -122.368   \n",
       "4               330      1969             0    98001  47.3341 -122.282   \n",
       "...             ...       ...           ...      ...      ...      ...   \n",
       "2212              0      2007             0    98056  47.5147 -122.190   \n",
       "2213              0      2010             0    98198  47.3906 -122.304   \n",
       "2214            900      2014             0    98056  47.5252 -122.192   \n",
       "2215              0      2014             0    98108  47.5637 -122.295   \n",
       "2216            190      2007             0    98117  47.6756 -122.375   \n",
       "\n",
       "      sqft_living15  sqft_lot15  \n",
       "0              2390        7570  \n",
       "1              1360        4850  \n",
       "2              1060        5095  \n",
       "3              1460        5000  \n",
       "4              1290        7800  \n",
       "...             ...         ...  \n",
       "2212           1980        5064  \n",
       "2213           2198        7621  \n",
       "2214           2850        5708  \n",
       "2215           1210        1552  \n",
       "2216           1210        1118  \n",
       "\n",
       "[2217 rows x 21 columns]"
      ]
     },
     "execution_count": 47,
     "metadata": {},
     "output_type": "execute_result"
    }
   ],
   "source": [
    "test_data"
   ]
  },
  {
   "cell_type": "markdown",
   "id": "be10c75f",
   "metadata": {},
   "source": [
    "14. Divide the combined training and validation set into equal segments. Each segment should receive n/k elements, where n is the number of observations in the training set and k is the number of segments. Since the segment 0 starts at index 0 and contains n/k elements, it ends at index (n/k) - 1. The segment 1 starts where the segment 0 left off, at index (n/k). With n/k elements, the segment 1 ends at index (n*2/k) - 1. Continuing in this fashion, we deduce that the segment i starts at index (n*i/k) and ends at (n*(i+1)/k)-1.\n",
    "\n",
    "With this pattern in mind, we write a short loop that prints the starting and ending indices of each segment, just to make sure you are getting the splits right."
   ]
  },
  {
   "cell_type": "code",
   "execution_count": 48,
   "id": "cf1e1d93",
   "metadata": {},
   "outputs": [
    {
     "name": "stdout",
     "output_type": "stream",
     "text": [
      "0 (0.0, 1938.6)\n",
      "1 (1939.6, 3878.2)\n",
      "2 (3879.2, 5817.8)\n",
      "3 (5818.8, 7757.4)\n",
      "4 (7758.4, 9697.0)\n",
      "5 (9698.0, 11636.6)\n",
      "6 (11637.6, 13576.2)\n",
      "7 (13577.2, 15515.8)\n",
      "8 (15516.8, 17455.4)\n",
      "9 (17456.4, 19395.0)\n"
     ]
    }
   ],
   "source": [
    "n = len(train_valid_shuffled)\n",
    "k = 10 # 10-fold cross-validation\n",
    "\n",
    "for i in range(k):\n",
    "    start = (n*i)/k\n",
    "    end = (n*(i+1))/k-1\n",
    "    print (i, (start, end))"
   ]
  },
  {
   "cell_type": "markdown",
   "id": "9d4194e3",
   "metadata": {},
   "source": [
    "Let us familiarize ourselves with array slicing with Pandas. To extract a continuous slice from a DataFrame, use colon in square brackets. For instance, the following cell extracts rows 0 to 9 of train_valid_shuffled. Notice that the first index (0) is included in the slice but the last index (10) is omitted."
   ]
  },
  {
   "cell_type": "markdown",
   "id": "057e2586",
   "metadata": {},
   "source": [
    "If the observations are grouped into 10 segments, the segment i is given by"
   ]
  },
  {
   "cell_type": "code",
   "execution_count": 49,
   "id": "c117a6af",
   "metadata": {},
   "outputs": [
    {
     "data": {
      "text/plain": [
       "19396"
      ]
     },
     "execution_count": 49,
     "metadata": {},
     "output_type": "execute_result"
    }
   ],
   "source": [
    "n"
   ]
  },
  {
   "cell_type": "code",
   "execution_count": 53,
   "id": "f034bf3a",
   "metadata": {},
   "outputs": [
    {
     "data": {
      "text/html": [
       "<div>\n",
       "<style scoped>\n",
       "    .dataframe tbody tr th:only-of-type {\n",
       "        vertical-align: middle;\n",
       "    }\n",
       "\n",
       "    .dataframe tbody tr th {\n",
       "        vertical-align: top;\n",
       "    }\n",
       "\n",
       "    .dataframe thead th {\n",
       "        text-align: right;\n",
       "    }\n",
       "</style>\n",
       "<table border=\"1\" class=\"dataframe\">\n",
       "  <thead>\n",
       "    <tr style=\"text-align: right;\">\n",
       "      <th></th>\n",
       "      <th>id</th>\n",
       "      <th>date</th>\n",
       "      <th>price</th>\n",
       "      <th>bedrooms</th>\n",
       "      <th>bathrooms</th>\n",
       "      <th>sqft_living</th>\n",
       "      <th>sqft_lot</th>\n",
       "      <th>floors</th>\n",
       "      <th>waterfront</th>\n",
       "      <th>view</th>\n",
       "      <th>...</th>\n",
       "      <th>grade</th>\n",
       "      <th>sqft_above</th>\n",
       "      <th>sqft_basement</th>\n",
       "      <th>yr_built</th>\n",
       "      <th>yr_renovated</th>\n",
       "      <th>zipcode</th>\n",
       "      <th>lat</th>\n",
       "      <th>long</th>\n",
       "      <th>sqft_living15</th>\n",
       "      <th>sqft_lot15</th>\n",
       "    </tr>\n",
       "  </thead>\n",
       "  <tbody>\n",
       "    <tr>\n",
       "      <th>0</th>\n",
       "      <td>2780400035</td>\n",
       "      <td>20140505T000000</td>\n",
       "      <td>665000.0</td>\n",
       "      <td>4</td>\n",
       "      <td>2.50</td>\n",
       "      <td>2800</td>\n",
       "      <td>5900</td>\n",
       "      <td>1.0</td>\n",
       "      <td>0</td>\n",
       "      <td>0</td>\n",
       "      <td>...</td>\n",
       "      <td>8</td>\n",
       "      <td>1660</td>\n",
       "      <td>1140</td>\n",
       "      <td>1963</td>\n",
       "      <td>0</td>\n",
       "      <td>98115</td>\n",
       "      <td>47.6809</td>\n",
       "      <td>-122.286</td>\n",
       "      <td>2580</td>\n",
       "      <td>5900</td>\n",
       "    </tr>\n",
       "    <tr>\n",
       "      <th>1</th>\n",
       "      <td>1703050500</td>\n",
       "      <td>20150321T000000</td>\n",
       "      <td>645000.0</td>\n",
       "      <td>3</td>\n",
       "      <td>2.50</td>\n",
       "      <td>2490</td>\n",
       "      <td>5978</td>\n",
       "      <td>2.0</td>\n",
       "      <td>0</td>\n",
       "      <td>0</td>\n",
       "      <td>...</td>\n",
       "      <td>9</td>\n",
       "      <td>2490</td>\n",
       "      <td>0</td>\n",
       "      <td>2003</td>\n",
       "      <td>0</td>\n",
       "      <td>98074</td>\n",
       "      <td>47.6298</td>\n",
       "      <td>-122.022</td>\n",
       "      <td>2710</td>\n",
       "      <td>6629</td>\n",
       "    </tr>\n",
       "    <tr>\n",
       "      <th>2</th>\n",
       "      <td>5700002325</td>\n",
       "      <td>20140605T000000</td>\n",
       "      <td>640000.0</td>\n",
       "      <td>3</td>\n",
       "      <td>1.75</td>\n",
       "      <td>2340</td>\n",
       "      <td>4206</td>\n",
       "      <td>1.0</td>\n",
       "      <td>0</td>\n",
       "      <td>0</td>\n",
       "      <td>...</td>\n",
       "      <td>7</td>\n",
       "      <td>1170</td>\n",
       "      <td>1170</td>\n",
       "      <td>1917</td>\n",
       "      <td>0</td>\n",
       "      <td>98144</td>\n",
       "      <td>47.5759</td>\n",
       "      <td>-122.288</td>\n",
       "      <td>1360</td>\n",
       "      <td>4725</td>\n",
       "    </tr>\n",
       "    <tr>\n",
       "      <th>3</th>\n",
       "      <td>475000510</td>\n",
       "      <td>20141118T000000</td>\n",
       "      <td>594000.0</td>\n",
       "      <td>3</td>\n",
       "      <td>1.00</td>\n",
       "      <td>1320</td>\n",
       "      <td>5000</td>\n",
       "      <td>1.0</td>\n",
       "      <td>0</td>\n",
       "      <td>0</td>\n",
       "      <td>...</td>\n",
       "      <td>7</td>\n",
       "      <td>1090</td>\n",
       "      <td>230</td>\n",
       "      <td>1920</td>\n",
       "      <td>0</td>\n",
       "      <td>98107</td>\n",
       "      <td>47.6674</td>\n",
       "      <td>-122.365</td>\n",
       "      <td>1700</td>\n",
       "      <td>5000</td>\n",
       "    </tr>\n",
       "    <tr>\n",
       "      <th>4</th>\n",
       "      <td>844001052</td>\n",
       "      <td>20150128T000000</td>\n",
       "      <td>365000.0</td>\n",
       "      <td>4</td>\n",
       "      <td>2.50</td>\n",
       "      <td>1904</td>\n",
       "      <td>8200</td>\n",
       "      <td>2.0</td>\n",
       "      <td>0</td>\n",
       "      <td>0</td>\n",
       "      <td>...</td>\n",
       "      <td>7</td>\n",
       "      <td>1904</td>\n",
       "      <td>0</td>\n",
       "      <td>1999</td>\n",
       "      <td>0</td>\n",
       "      <td>98010</td>\n",
       "      <td>47.3107</td>\n",
       "      <td>-122.001</td>\n",
       "      <td>1560</td>\n",
       "      <td>12426</td>\n",
       "    </tr>\n",
       "    <tr>\n",
       "      <th>...</th>\n",
       "      <td>...</td>\n",
       "      <td>...</td>\n",
       "      <td>...</td>\n",
       "      <td>...</td>\n",
       "      <td>...</td>\n",
       "      <td>...</td>\n",
       "      <td>...</td>\n",
       "      <td>...</td>\n",
       "      <td>...</td>\n",
       "      <td>...</td>\n",
       "      <td>...</td>\n",
       "      <td>...</td>\n",
       "      <td>...</td>\n",
       "      <td>...</td>\n",
       "      <td>...</td>\n",
       "      <td>...</td>\n",
       "      <td>...</td>\n",
       "      <td>...</td>\n",
       "      <td>...</td>\n",
       "      <td>...</td>\n",
       "      <td>...</td>\n",
       "    </tr>\n",
       "    <tr>\n",
       "      <th>19391</th>\n",
       "      <td>2473450870</td>\n",
       "      <td>20141006T000000</td>\n",
       "      <td>325000.0</td>\n",
       "      <td>3</td>\n",
       "      <td>2.25</td>\n",
       "      <td>2480</td>\n",
       "      <td>8755</td>\n",
       "      <td>2.0</td>\n",
       "      <td>0</td>\n",
       "      <td>0</td>\n",
       "      <td>...</td>\n",
       "      <td>8</td>\n",
       "      <td>2480</td>\n",
       "      <td>0</td>\n",
       "      <td>1979</td>\n",
       "      <td>0</td>\n",
       "      <td>98058</td>\n",
       "      <td>47.4543</td>\n",
       "      <td>-122.125</td>\n",
       "      <td>2280</td>\n",
       "      <td>9940</td>\n",
       "    </tr>\n",
       "    <tr>\n",
       "      <th>19392</th>\n",
       "      <td>9328500630</td>\n",
       "      <td>20150302T000000</td>\n",
       "      <td>545000.0</td>\n",
       "      <td>3</td>\n",
       "      <td>2.25</td>\n",
       "      <td>1670</td>\n",
       "      <td>6240</td>\n",
       "      <td>1.0</td>\n",
       "      <td>0</td>\n",
       "      <td>0</td>\n",
       "      <td>...</td>\n",
       "      <td>8</td>\n",
       "      <td>1240</td>\n",
       "      <td>430</td>\n",
       "      <td>1974</td>\n",
       "      <td>0</td>\n",
       "      <td>98008</td>\n",
       "      <td>47.6413</td>\n",
       "      <td>-122.113</td>\n",
       "      <td>1910</td>\n",
       "      <td>7000</td>\n",
       "    </tr>\n",
       "    <tr>\n",
       "      <th>19393</th>\n",
       "      <td>5631500254</td>\n",
       "      <td>20141007T000000</td>\n",
       "      <td>519900.0</td>\n",
       "      <td>4</td>\n",
       "      <td>2.50</td>\n",
       "      <td>2403</td>\n",
       "      <td>6172</td>\n",
       "      <td>2.0</td>\n",
       "      <td>0</td>\n",
       "      <td>0</td>\n",
       "      <td>...</td>\n",
       "      <td>9</td>\n",
       "      <td>2403</td>\n",
       "      <td>0</td>\n",
       "      <td>1999</td>\n",
       "      <td>0</td>\n",
       "      <td>98028</td>\n",
       "      <td>47.7361</td>\n",
       "      <td>-122.234</td>\n",
       "      <td>2380</td>\n",
       "      <td>6075</td>\n",
       "    </tr>\n",
       "    <tr>\n",
       "      <th>19394</th>\n",
       "      <td>4139480190</td>\n",
       "      <td>20140916T000000</td>\n",
       "      <td>1153000.0</td>\n",
       "      <td>3</td>\n",
       "      <td>3.25</td>\n",
       "      <td>3780</td>\n",
       "      <td>10623</td>\n",
       "      <td>1.0</td>\n",
       "      <td>0</td>\n",
       "      <td>1</td>\n",
       "      <td>...</td>\n",
       "      <td>11</td>\n",
       "      <td>2650</td>\n",
       "      <td>1130</td>\n",
       "      <td>1999</td>\n",
       "      <td>0</td>\n",
       "      <td>98006</td>\n",
       "      <td>47.5506</td>\n",
       "      <td>-122.101</td>\n",
       "      <td>3850</td>\n",
       "      <td>11170</td>\n",
       "    </tr>\n",
       "    <tr>\n",
       "      <th>19395</th>\n",
       "      <td>7237300290</td>\n",
       "      <td>20150326T000000</td>\n",
       "      <td>338000.0</td>\n",
       "      <td>5</td>\n",
       "      <td>2.50</td>\n",
       "      <td>2400</td>\n",
       "      <td>4496</td>\n",
       "      <td>2.0</td>\n",
       "      <td>0</td>\n",
       "      <td>0</td>\n",
       "      <td>...</td>\n",
       "      <td>7</td>\n",
       "      <td>2400</td>\n",
       "      <td>0</td>\n",
       "      <td>2004</td>\n",
       "      <td>0</td>\n",
       "      <td>98042</td>\n",
       "      <td>47.3692</td>\n",
       "      <td>-122.126</td>\n",
       "      <td>1880</td>\n",
       "      <td>4319</td>\n",
       "    </tr>\n",
       "  </tbody>\n",
       "</table>\n",
       "<p>17456 rows × 21 columns</p>\n",
       "</div>"
      ],
      "text/plain": [
       "               id             date      price  bedrooms  bathrooms  \\\n",
       "0      2780400035  20140505T000000   665000.0         4       2.50   \n",
       "1      1703050500  20150321T000000   645000.0         3       2.50   \n",
       "2      5700002325  20140605T000000   640000.0         3       1.75   \n",
       "3       475000510  20141118T000000   594000.0         3       1.00   \n",
       "4       844001052  20150128T000000   365000.0         4       2.50   \n",
       "...           ...              ...        ...       ...        ...   \n",
       "19391  2473450870  20141006T000000   325000.0         3       2.25   \n",
       "19392  9328500630  20150302T000000   545000.0         3       2.25   \n",
       "19393  5631500254  20141007T000000   519900.0         4       2.50   \n",
       "19394  4139480190  20140916T000000  1153000.0         3       3.25   \n",
       "19395  7237300290  20150326T000000   338000.0         5       2.50   \n",
       "\n",
       "       sqft_living  sqft_lot  floors  waterfront  view  ...  grade  \\\n",
       "0             2800      5900     1.0           0     0  ...      8   \n",
       "1             2490      5978     2.0           0     0  ...      9   \n",
       "2             2340      4206     1.0           0     0  ...      7   \n",
       "3             1320      5000     1.0           0     0  ...      7   \n",
       "4             1904      8200     2.0           0     0  ...      7   \n",
       "...            ...       ...     ...         ...   ...  ...    ...   \n",
       "19391         2480      8755     2.0           0     0  ...      8   \n",
       "19392         1670      6240     1.0           0     0  ...      8   \n",
       "19393         2403      6172     2.0           0     0  ...      9   \n",
       "19394         3780     10623     1.0           0     1  ...     11   \n",
       "19395         2400      4496     2.0           0     0  ...      7   \n",
       "\n",
       "       sqft_above  sqft_basement  yr_built  yr_renovated  zipcode      lat  \\\n",
       "0            1660           1140      1963             0    98115  47.6809   \n",
       "1            2490              0      2003             0    98074  47.6298   \n",
       "2            1170           1170      1917             0    98144  47.5759   \n",
       "3            1090            230      1920             0    98107  47.6674   \n",
       "4            1904              0      1999             0    98010  47.3107   \n",
       "...           ...            ...       ...           ...      ...      ...   \n",
       "19391        2480              0      1979             0    98058  47.4543   \n",
       "19392        1240            430      1974             0    98008  47.6413   \n",
       "19393        2403              0      1999             0    98028  47.7361   \n",
       "19394        2650           1130      1999             0    98006  47.5506   \n",
       "19395        2400              0      2004             0    98042  47.3692   \n",
       "\n",
       "          long  sqft_living15  sqft_lot15  \n",
       "0     -122.286           2580        5900  \n",
       "1     -122.022           2710        6629  \n",
       "2     -122.288           1360        4725  \n",
       "3     -122.365           1700        5000  \n",
       "4     -122.001           1560       12426  \n",
       "...        ...            ...         ...  \n",
       "19391 -122.125           2280        9940  \n",
       "19392 -122.113           1910        7000  \n",
       "19393 -122.234           2380        6075  \n",
       "19394 -122.101           3850       11170  \n",
       "19395 -122.126           1880        4319  \n",
       "\n",
       "[17456 rows x 21 columns]"
      ]
     },
     "execution_count": 53,
     "metadata": {},
     "output_type": "execute_result"
    }
   ],
   "source": [
    "train_valid_shuffled[0:1939].append(train_valid_shuffled[3878+1:n])"
   ]
  },
  {
   "cell_type": "code",
   "execution_count": 51,
   "id": "f5d303f7",
   "metadata": {},
   "outputs": [
    {
     "data": {
      "text/html": [
       "<div>\n",
       "<style scoped>\n",
       "    .dataframe tbody tr th:only-of-type {\n",
       "        vertical-align: middle;\n",
       "    }\n",
       "\n",
       "    .dataframe tbody tr th {\n",
       "        vertical-align: top;\n",
       "    }\n",
       "\n",
       "    .dataframe thead th {\n",
       "        text-align: right;\n",
       "    }\n",
       "</style>\n",
       "<table border=\"1\" class=\"dataframe\">\n",
       "  <thead>\n",
       "    <tr style=\"text-align: right;\">\n",
       "      <th></th>\n",
       "      <th>id</th>\n",
       "      <th>date</th>\n",
       "      <th>price</th>\n",
       "      <th>bedrooms</th>\n",
       "      <th>bathrooms</th>\n",
       "      <th>sqft_living</th>\n",
       "      <th>sqft_lot</th>\n",
       "      <th>floors</th>\n",
       "      <th>waterfront</th>\n",
       "      <th>view</th>\n",
       "      <th>...</th>\n",
       "      <th>grade</th>\n",
       "      <th>sqft_above</th>\n",
       "      <th>sqft_basement</th>\n",
       "      <th>yr_built</th>\n",
       "      <th>yr_renovated</th>\n",
       "      <th>zipcode</th>\n",
       "      <th>lat</th>\n",
       "      <th>long</th>\n",
       "      <th>sqft_living15</th>\n",
       "      <th>sqft_lot15</th>\n",
       "    </tr>\n",
       "  </thead>\n",
       "  <tbody>\n",
       "    <tr>\n",
       "      <th>1939</th>\n",
       "      <td>7857000716</td>\n",
       "      <td>20150313T000000</td>\n",
       "      <td>334998.0</td>\n",
       "      <td>2</td>\n",
       "      <td>1.00</td>\n",
       "      <td>1800</td>\n",
       "      <td>5182</td>\n",
       "      <td>1.0</td>\n",
       "      <td>0</td>\n",
       "      <td>0</td>\n",
       "      <td>...</td>\n",
       "      <td>6</td>\n",
       "      <td>900</td>\n",
       "      <td>900</td>\n",
       "      <td>1942</td>\n",
       "      <td>0</td>\n",
       "      <td>98108</td>\n",
       "      <td>47.5508</td>\n",
       "      <td>-122.300</td>\n",
       "      <td>1570</td>\n",
       "      <td>5876</td>\n",
       "    </tr>\n",
       "    <tr>\n",
       "      <th>1940</th>\n",
       "      <td>9527000330</td>\n",
       "      <td>20140811T000000</td>\n",
       "      <td>508000.0</td>\n",
       "      <td>6</td>\n",
       "      <td>2.75</td>\n",
       "      <td>2890</td>\n",
       "      <td>7500</td>\n",
       "      <td>1.0</td>\n",
       "      <td>0</td>\n",
       "      <td>0</td>\n",
       "      <td>...</td>\n",
       "      <td>8</td>\n",
       "      <td>1830</td>\n",
       "      <td>1060</td>\n",
       "      <td>1976</td>\n",
       "      <td>0</td>\n",
       "      <td>98034</td>\n",
       "      <td>47.7099</td>\n",
       "      <td>-122.230</td>\n",
       "      <td>1880</td>\n",
       "      <td>7500</td>\n",
       "    </tr>\n",
       "    <tr>\n",
       "      <th>1941</th>\n",
       "      <td>1310440470</td>\n",
       "      <td>20150113T000000</td>\n",
       "      <td>441000.0</td>\n",
       "      <td>3</td>\n",
       "      <td>2.50</td>\n",
       "      <td>2740</td>\n",
       "      <td>7923</td>\n",
       "      <td>2.0</td>\n",
       "      <td>0</td>\n",
       "      <td>0</td>\n",
       "      <td>...</td>\n",
       "      <td>9</td>\n",
       "      <td>2740</td>\n",
       "      <td>0</td>\n",
       "      <td>1998</td>\n",
       "      <td>0</td>\n",
       "      <td>98058</td>\n",
       "      <td>47.4349</td>\n",
       "      <td>-122.105</td>\n",
       "      <td>2740</td>\n",
       "      <td>8815</td>\n",
       "    </tr>\n",
       "    <tr>\n",
       "      <th>1942</th>\n",
       "      <td>1118000340</td>\n",
       "      <td>20150408T000000</td>\n",
       "      <td>3000000.0</td>\n",
       "      <td>5</td>\n",
       "      <td>3.75</td>\n",
       "      <td>4590</td>\n",
       "      <td>11265</td>\n",
       "      <td>2.0</td>\n",
       "      <td>0</td>\n",
       "      <td>0</td>\n",
       "      <td>...</td>\n",
       "      <td>11</td>\n",
       "      <td>3450</td>\n",
       "      <td>1140</td>\n",
       "      <td>1927</td>\n",
       "      <td>0</td>\n",
       "      <td>98112</td>\n",
       "      <td>47.6389</td>\n",
       "      <td>-122.288</td>\n",
       "      <td>3870</td>\n",
       "      <td>8996</td>\n",
       "    </tr>\n",
       "    <tr>\n",
       "      <th>1943</th>\n",
       "      <td>3121500020</td>\n",
       "      <td>20140702T000000</td>\n",
       "      <td>700000.0</td>\n",
       "      <td>3</td>\n",
       "      <td>2.50</td>\n",
       "      <td>2490</td>\n",
       "      <td>23891</td>\n",
       "      <td>2.0</td>\n",
       "      <td>0</td>\n",
       "      <td>0</td>\n",
       "      <td>...</td>\n",
       "      <td>9</td>\n",
       "      <td>2490</td>\n",
       "      <td>0</td>\n",
       "      <td>1993</td>\n",
       "      <td>0</td>\n",
       "      <td>98053</td>\n",
       "      <td>47.6716</td>\n",
       "      <td>-122.029</td>\n",
       "      <td>2900</td>\n",
       "      <td>34705</td>\n",
       "    </tr>\n",
       "    <tr>\n",
       "      <th>...</th>\n",
       "      <td>...</td>\n",
       "      <td>...</td>\n",
       "      <td>...</td>\n",
       "      <td>...</td>\n",
       "      <td>...</td>\n",
       "      <td>...</td>\n",
       "      <td>...</td>\n",
       "      <td>...</td>\n",
       "      <td>...</td>\n",
       "      <td>...</td>\n",
       "      <td>...</td>\n",
       "      <td>...</td>\n",
       "      <td>...</td>\n",
       "      <td>...</td>\n",
       "      <td>...</td>\n",
       "      <td>...</td>\n",
       "      <td>...</td>\n",
       "      <td>...</td>\n",
       "      <td>...</td>\n",
       "      <td>...</td>\n",
       "      <td>...</td>\n",
       "    </tr>\n",
       "    <tr>\n",
       "      <th>3873</th>\n",
       "      <td>3975400085</td>\n",
       "      <td>20140624T000000</td>\n",
       "      <td>850000.0</td>\n",
       "      <td>4</td>\n",
       "      <td>3.00</td>\n",
       "      <td>3330</td>\n",
       "      <td>4000</td>\n",
       "      <td>1.0</td>\n",
       "      <td>0</td>\n",
       "      <td>0</td>\n",
       "      <td>...</td>\n",
       "      <td>8</td>\n",
       "      <td>1790</td>\n",
       "      <td>1540</td>\n",
       "      <td>1958</td>\n",
       "      <td>0</td>\n",
       "      <td>98103</td>\n",
       "      <td>47.6559</td>\n",
       "      <td>-122.344</td>\n",
       "      <td>1610</td>\n",
       "      <td>4000</td>\n",
       "    </tr>\n",
       "    <tr>\n",
       "      <th>3874</th>\n",
       "      <td>1310970380</td>\n",
       "      <td>20140519T000000</td>\n",
       "      <td>296500.0</td>\n",
       "      <td>3</td>\n",
       "      <td>2.75</td>\n",
       "      <td>2170</td>\n",
       "      <td>7900</td>\n",
       "      <td>1.0</td>\n",
       "      <td>0</td>\n",
       "      <td>0</td>\n",
       "      <td>...</td>\n",
       "      <td>8</td>\n",
       "      <td>1380</td>\n",
       "      <td>790</td>\n",
       "      <td>1978</td>\n",
       "      <td>0</td>\n",
       "      <td>98032</td>\n",
       "      <td>47.3620</td>\n",
       "      <td>-122.277</td>\n",
       "      <td>2170</td>\n",
       "      <td>7700</td>\n",
       "    </tr>\n",
       "    <tr>\n",
       "      <th>3875</th>\n",
       "      <td>6071200195</td>\n",
       "      <td>20150408T000000</td>\n",
       "      <td>621000.0</td>\n",
       "      <td>4</td>\n",
       "      <td>2.50</td>\n",
       "      <td>2030</td>\n",
       "      <td>9905</td>\n",
       "      <td>1.0</td>\n",
       "      <td>0</td>\n",
       "      <td>0</td>\n",
       "      <td>...</td>\n",
       "      <td>8</td>\n",
       "      <td>2030</td>\n",
       "      <td>0</td>\n",
       "      <td>1959</td>\n",
       "      <td>0</td>\n",
       "      <td>98006</td>\n",
       "      <td>47.5518</td>\n",
       "      <td>-122.184</td>\n",
       "      <td>2130</td>\n",
       "      <td>10008</td>\n",
       "    </tr>\n",
       "    <tr>\n",
       "      <th>3876</th>\n",
       "      <td>3438500037</td>\n",
       "      <td>20150405T000000</td>\n",
       "      <td>545000.0</td>\n",
       "      <td>5</td>\n",
       "      <td>4.00</td>\n",
       "      <td>1680</td>\n",
       "      <td>7268</td>\n",
       "      <td>1.0</td>\n",
       "      <td>0</td>\n",
       "      <td>0</td>\n",
       "      <td>...</td>\n",
       "      <td>8</td>\n",
       "      <td>1370</td>\n",
       "      <td>310</td>\n",
       "      <td>2008</td>\n",
       "      <td>0</td>\n",
       "      <td>98106</td>\n",
       "      <td>47.5571</td>\n",
       "      <td>-122.356</td>\n",
       "      <td>2040</td>\n",
       "      <td>8259</td>\n",
       "    </tr>\n",
       "    <tr>\n",
       "      <th>3877</th>\n",
       "      <td>1310960190</td>\n",
       "      <td>20141021T000000</td>\n",
       "      <td>263000.0</td>\n",
       "      <td>3</td>\n",
       "      <td>1.75</td>\n",
       "      <td>1660</td>\n",
       "      <td>7210</td>\n",
       "      <td>1.0</td>\n",
       "      <td>0</td>\n",
       "      <td>0</td>\n",
       "      <td>...</td>\n",
       "      <td>7</td>\n",
       "      <td>1660</td>\n",
       "      <td>0</td>\n",
       "      <td>1977</td>\n",
       "      <td>0</td>\n",
       "      <td>98032</td>\n",
       "      <td>47.3609</td>\n",
       "      <td>-122.274</td>\n",
       "      <td>2150</td>\n",
       "      <td>7350</td>\n",
       "    </tr>\n",
       "  </tbody>\n",
       "</table>\n",
       "<p>1939 rows × 21 columns</p>\n",
       "</div>"
      ],
      "text/plain": [
       "              id             date      price  bedrooms  bathrooms  \\\n",
       "1939  7857000716  20150313T000000   334998.0         2       1.00   \n",
       "1940  9527000330  20140811T000000   508000.0         6       2.75   \n",
       "1941  1310440470  20150113T000000   441000.0         3       2.50   \n",
       "1942  1118000340  20150408T000000  3000000.0         5       3.75   \n",
       "1943  3121500020  20140702T000000   700000.0         3       2.50   \n",
       "...          ...              ...        ...       ...        ...   \n",
       "3873  3975400085  20140624T000000   850000.0         4       3.00   \n",
       "3874  1310970380  20140519T000000   296500.0         3       2.75   \n",
       "3875  6071200195  20150408T000000   621000.0         4       2.50   \n",
       "3876  3438500037  20150405T000000   545000.0         5       4.00   \n",
       "3877  1310960190  20141021T000000   263000.0         3       1.75   \n",
       "\n",
       "      sqft_living  sqft_lot  floors  waterfront  view  ...  grade  sqft_above  \\\n",
       "1939         1800      5182     1.0           0     0  ...      6         900   \n",
       "1940         2890      7500     1.0           0     0  ...      8        1830   \n",
       "1941         2740      7923     2.0           0     0  ...      9        2740   \n",
       "1942         4590     11265     2.0           0     0  ...     11        3450   \n",
       "1943         2490     23891     2.0           0     0  ...      9        2490   \n",
       "...           ...       ...     ...         ...   ...  ...    ...         ...   \n",
       "3873         3330      4000     1.0           0     0  ...      8        1790   \n",
       "3874         2170      7900     1.0           0     0  ...      8        1380   \n",
       "3875         2030      9905     1.0           0     0  ...      8        2030   \n",
       "3876         1680      7268     1.0           0     0  ...      8        1370   \n",
       "3877         1660      7210     1.0           0     0  ...      7        1660   \n",
       "\n",
       "      sqft_basement  yr_built  yr_renovated  zipcode      lat     long  \\\n",
       "1939            900      1942             0    98108  47.5508 -122.300   \n",
       "1940           1060      1976             0    98034  47.7099 -122.230   \n",
       "1941              0      1998             0    98058  47.4349 -122.105   \n",
       "1942           1140      1927             0    98112  47.6389 -122.288   \n",
       "1943              0      1993             0    98053  47.6716 -122.029   \n",
       "...             ...       ...           ...      ...      ...      ...   \n",
       "3873           1540      1958             0    98103  47.6559 -122.344   \n",
       "3874            790      1978             0    98032  47.3620 -122.277   \n",
       "3875              0      1959             0    98006  47.5518 -122.184   \n",
       "3876            310      2008             0    98106  47.5571 -122.356   \n",
       "3877              0      1977             0    98032  47.3609 -122.274   \n",
       "\n",
       "      sqft_living15  sqft_lot15  \n",
       "1939           1570        5876  \n",
       "1940           1880        7500  \n",
       "1941           2740        8815  \n",
       "1942           3870        8996  \n",
       "1943           2900       34705  \n",
       "...             ...         ...  \n",
       "3873           1610        4000  \n",
       "3874           2170        7700  \n",
       "3875           2130       10008  \n",
       "3876           2040        8259  \n",
       "3877           2150        7350  \n",
       "\n",
       "[1939 rows x 21 columns]"
      ]
     },
     "execution_count": 51,
     "metadata": {},
     "output_type": "execute_result"
    }
   ],
   "source": [
    "start = (n*i)/10\n",
    "end = (n*(i+1))/10\n",
    "train_valid_shuffled[1939:3878]"
   ]
  },
  {
   "cell_type": "markdown",
   "id": "1895438e",
   "metadata": {},
   "source": [
    "15. Now we are ready to implement k-fold cross-validation. Write a function that computes k validation errors by designating each of the k segments as the validation set. It accepts as parameters (i) k, (ii) l2_penalty, (iii) dataframe containing input features (e.g. poly15_data) and (iv) column of output values (e.g. price). The function returns the average validation error using k segments as validation sets. We shall assume that the input dataframe does not contain the output column.\n",
    "\n",
    "For each i in [0, 1, ... k-1]:\n",
    "\n",
    "Compute starting and ending indices of segment i and call 'start' and 'end'\n",
    "\n",
    "Form validation set by taking a slice (start:end+1) from the data.\n",
    "\n",
    "Form training set by appending slice (end+1:n) to the end of slice (0:start).\n",
    "\n",
    "Train a linear model using training set just formed, with a given l2_penalty\n",
    "\n",
    "Compute validation error (RSS) using validation set just formed\n",
    "\n",
    "e.g. in Python:"
   ]
  },
  {
   "cell_type": "code",
   "execution_count": 66,
   "id": "0c8e1ac6",
   "metadata": {},
   "outputs": [],
   "source": [
    "import numpy as np\n",
    "def k_fold_cross_validation(k, l2_penalty, data, output_name, features_list):    \n",
    "    rss_sum = 0\n",
    "    n = len(data)\n",
    "    for i in range(k):\n",
    "        start = int((n*i)/k)\n",
    "        end = int((n*(i+1))/k-1)\n",
    "        validation_set = data[start:end+1]\n",
    "        training_set = data[0:start].append(data[end+1:n]) \n",
    "        model = Ridge(alpha=l2_penalty, normalize=True)\n",
    "        model.fit(training_set[features_list], training_set[output_name])\n",
    "     \n",
    "        predictions = model.predict(validation_set[features_list])\n",
    "        residuals = validation_set[output_name] - predictions\n",
    "        rss = sum(residuals * residuals)\n",
    "        rss_sum += rss\n",
    "        \n",
    "    validation_error = rss_sum / k # average = sum / size or you can use np.mean(list_of_validation_error)\n",
    "    return validation_error  "
   ]
  },
  {
   "cell_type": "markdown",
   "id": "0f144a3f",
   "metadata": {},
   "source": [
    "Once we have a function to compute the average validation error for a model, we can write a loop to find the model that minimizes the average validation error. Write a loop that does the following:\n",
    "\n",
    "* We will again be aiming to fit a 15th-order polynomial model using the sqft_living input\n",
    "* For l2_penalty in [10^1, 10^1.5, 10^2, 10^2.5, ..., 10^7] (to get this in Python, you can use this Numpy function: np.logspace(1, 7, num=13).)\n",
    "* Run 10-fold cross-validation with l2_penalty\n",
    "* Report which L2 penalty produced the lowest average validation error.\n",
    "\n",
    "Note: since the degree of the polynomial is now fixed to 15, to make things faster, you should generate polynomial features in advance and re-use them throughout the loop. Make sure to use train_valid_shuffled when generating polynomial features!"
   ]
  },
  {
   "cell_type": "code",
   "execution_count": 69,
   "id": "754a5e6f",
   "metadata": {},
   "outputs": [
    {
     "data": {
      "text/plain": [
       "{10.0: 206956194229051.2,\n",
       " 31.622776601683793: 241108256650438.4,\n",
       " 100.0: 257260867876359.94,\n",
       " 316.22776601683796: 263157473257590.1,\n",
       " 1000.0: 265112635027120.2,\n",
       " 3162.2776601683795: 265740379779639.7,\n",
       " 10000.0: 265939850773897.6,\n",
       " 31622.776601683792: 266003025551996.1,\n",
       " 100000.0: 266023012836160.3,\n",
       " 316227.7660168379: 266029334337348.6,\n",
       " 1000000.0: 266031333468258.25,\n",
       " 3162277.6601683795: 266031965658631.25,\n",
       " 10000000.0: 266032165575747.66}"
      ]
     },
     "execution_count": 69,
     "metadata": {},
     "output_type": "execute_result"
    }
   ],
   "source": [
    "poly_data = polynomial_dataframe(train_valid_shuffled['sqft_living'], 15)\n",
    "my_features = poly_data.columns\n",
    "poly_data['price'] = train_valid_shuffled['price']\n",
    "\n",
    "val_err_dict = {}\n",
    "for l2_penalty in np.logspace(1, 7, num=13):\n",
    "    val_err = k_fold_cross_validation(10, l2_penalty, poly_data, 'price', my_features)  \n",
    "    \n",
    "    val_err_dict[l2_penalty] = val_err\n",
    "    \n",
    "val_err_dict"
   ]
  },
  {
   "cell_type": "code",
   "execution_count": 71,
   "id": "2e326d87",
   "metadata": {},
   "outputs": [
    {
     "name": "stdout",
     "output_type": "stream",
     "text": [
      "(10.0, 206956194229051.2)\n"
     ]
    }
   ],
   "source": [
    "print(min(val_err_dict.items(), key=lambda x: x[1]))"
   ]
  },
  {
   "cell_type": "markdown",
   "id": "a9b06074",
   "metadata": {},
   "source": [
    "**17. Quiz Question: What is the best value for the L2 penalty according to 10-fold validation?**\n"
   ]
  },
  {
   "cell_type": "markdown",
   "id": "32456941",
   "metadata": {},
   "source": [
    "18. Once you found the best value for the L2 penalty using cross-validation, it is important to retrain a final model on all of the training data using this value of l2_penalty. This way, your final model will be trained on the entire dataset."
   ]
  },
  {
   "cell_type": "code",
   "execution_count": 81,
   "id": "c348ac2c",
   "metadata": {},
   "outputs": [],
   "source": [
    "\n",
    "df = pd.DataFrame({'l2_penalty': val_err_dict.keys(),\n",
    "                  'validation_error' : val_err_dict.values()})\n"
   ]
  },
  {
   "cell_type": "code",
   "execution_count": 85,
   "id": "24fc2527",
   "metadata": {},
   "outputs": [
    {
     "data": {
      "text/html": [
       "<div>\n",
       "<style scoped>\n",
       "    .dataframe tbody tr th:only-of-type {\n",
       "        vertical-align: middle;\n",
       "    }\n",
       "\n",
       "    .dataframe tbody tr th {\n",
       "        vertical-align: top;\n",
       "    }\n",
       "\n",
       "    .dataframe thead th {\n",
       "        text-align: right;\n",
       "    }\n",
       "</style>\n",
       "<table border=\"1\" class=\"dataframe\">\n",
       "  <thead>\n",
       "    <tr style=\"text-align: right;\">\n",
       "      <th></th>\n",
       "      <th>l2_penalty</th>\n",
       "      <th>validation_error</th>\n",
       "    </tr>\n",
       "  </thead>\n",
       "  <tbody>\n",
       "    <tr>\n",
       "      <th>0</th>\n",
       "      <td>1.000000e+01</td>\n",
       "      <td>2.069562e+14</td>\n",
       "    </tr>\n",
       "    <tr>\n",
       "      <th>1</th>\n",
       "      <td>3.162278e+01</td>\n",
       "      <td>2.411083e+14</td>\n",
       "    </tr>\n",
       "    <tr>\n",
       "      <th>2</th>\n",
       "      <td>1.000000e+02</td>\n",
       "      <td>2.572609e+14</td>\n",
       "    </tr>\n",
       "    <tr>\n",
       "      <th>3</th>\n",
       "      <td>3.162278e+02</td>\n",
       "      <td>2.631575e+14</td>\n",
       "    </tr>\n",
       "    <tr>\n",
       "      <th>4</th>\n",
       "      <td>1.000000e+03</td>\n",
       "      <td>2.651126e+14</td>\n",
       "    </tr>\n",
       "    <tr>\n",
       "      <th>5</th>\n",
       "      <td>3.162278e+03</td>\n",
       "      <td>2.657404e+14</td>\n",
       "    </tr>\n",
       "    <tr>\n",
       "      <th>6</th>\n",
       "      <td>1.000000e+04</td>\n",
       "      <td>2.659399e+14</td>\n",
       "    </tr>\n",
       "    <tr>\n",
       "      <th>7</th>\n",
       "      <td>3.162278e+04</td>\n",
       "      <td>2.660030e+14</td>\n",
       "    </tr>\n",
       "    <tr>\n",
       "      <th>8</th>\n",
       "      <td>1.000000e+05</td>\n",
       "      <td>2.660230e+14</td>\n",
       "    </tr>\n",
       "    <tr>\n",
       "      <th>9</th>\n",
       "      <td>3.162278e+05</td>\n",
       "      <td>2.660293e+14</td>\n",
       "    </tr>\n",
       "    <tr>\n",
       "      <th>10</th>\n",
       "      <td>1.000000e+06</td>\n",
       "      <td>2.660313e+14</td>\n",
       "    </tr>\n",
       "    <tr>\n",
       "      <th>11</th>\n",
       "      <td>3.162278e+06</td>\n",
       "      <td>2.660320e+14</td>\n",
       "    </tr>\n",
       "    <tr>\n",
       "      <th>12</th>\n",
       "      <td>1.000000e+07</td>\n",
       "      <td>2.660322e+14</td>\n",
       "    </tr>\n",
       "  </tbody>\n",
       "</table>\n",
       "</div>"
      ],
      "text/plain": [
       "      l2_penalty  validation_error\n",
       "0   1.000000e+01      2.069562e+14\n",
       "1   3.162278e+01      2.411083e+14\n",
       "2   1.000000e+02      2.572609e+14\n",
       "3   3.162278e+02      2.631575e+14\n",
       "4   1.000000e+03      2.651126e+14\n",
       "5   3.162278e+03      2.657404e+14\n",
       "6   1.000000e+04      2.659399e+14\n",
       "7   3.162278e+04      2.660030e+14\n",
       "8   1.000000e+05      2.660230e+14\n",
       "9   3.162278e+05      2.660293e+14\n",
       "10  1.000000e+06      2.660313e+14\n",
       "11  3.162278e+06      2.660320e+14\n",
       "12  1.000000e+07      2.660322e+14"
      ]
     },
     "execution_count": 85,
     "metadata": {},
     "output_type": "execute_result"
    }
   ],
   "source": [
    "df"
   ]
  },
  {
   "cell_type": "code",
   "execution_count": 83,
   "id": "8ffc5d9a",
   "metadata": {},
   "outputs": [
    {
     "data": {
      "image/png": "[encoded data removed]",
      "text/plain": [
       "<Figure size 432x288 with 1 Axes>"
      ]
     },
     "metadata": {
      "needs_background": "light"
     },
     "output_type": "display_data"
    }
   ],
   "source": [
    "# Plot the l2_penalty values in the x axis and the cross-validation error in the y axis.\n",
    "# Using plt.xscale('log') will make your plot more intuitive.\n",
    "\n",
    "plt.plot(df['l2_penalty'],df['validation_error'],'k.')\n",
    "plt.xscale('log')"
   ]
  },
  {
   "cell_type": "markdown",
   "id": "d46f6fc5",
   "metadata": {},
   "source": [
    "Once you found the best value for the L2 penalty using cross-validation, it is important to retrain a final model on all of the training data using this value of l2_penalty. This way, your final model will be trained on the entire dataset."
   ]
  },
  {
   "cell_type": "code",
   "execution_count": 87,
   "id": "93314343",
   "metadata": {},
   "outputs": [],
   "source": [
    "poly_data = polynomial_dataframe(train_valid_shuffled['sqft_living'], 15)\n",
    "features_list = poly_data.columns\n",
    "poly_data['price'] = train_valid_shuffled['price']\n",
    "l2_penalty_best = 206956194229051.2\n",
    "\n",
    "model = Ridge(alpha=l2_penalty_best, normalize=True).fit(poly_data[features_list], poly_data['price'])"
   ]
  },
  {
   "cell_type": "code",
   "execution_count": 92,
   "id": "37078150",
   "metadata": {},
   "outputs": [
    {
     "name": "stdout",
     "output_type": "stream",
     "text": [
      "284682324759334.6\n"
     ]
    }
   ],
   "source": [
    "poly_test = polynomial_dataframe(test_data['sqft_living'], 15)\n",
    "predictions = model.predict(poly_test[features_list])\n",
    "errors = predictions-test_data['price']\n",
    "rss = (errors*errors).sum()\n",
    "print (rss)"
   ]
  },
  {
   "cell_type": "code",
   "execution_count": null,
   "id": "0a0b3639",
   "metadata": {},
   "outputs": [],
   "source": []
  },
  {
   "cell_type": "code",
   "execution_count": null,
   "id": "f488e583",
   "metadata": {},
   "outputs": [],
   "source": []
  },
  {
   "cell_type": "code",
   "execution_count": null,
   "id": "e67531a2",
   "metadata": {},
   "outputs": [],
   "source": []
  },
  {
   "cell_type": "code",
   "execution_count": null,
   "id": "081848c0",
   "metadata": {},
   "outputs": [],
   "source": []
  }
 ],
 "metadata": {
  "kernelspec": {
   "display_name": "Python 3 (ipykernel)",
   "language": "python",
   "name": "python3"
  },
  "language_info": {
   "codemirror_mode": {
    "name": "ipython",
    "version": 3
   },
   "file_extension": ".py",
   "mimetype": "text/x-python",
   "name": "python",
   "nbconvert_exporter": "python",
   "pygments_lexer": "ipython3",
   "version": "3.9.7"
  }
 },
 "nbformat": 4,
 "nbformat_minor": 5
}
