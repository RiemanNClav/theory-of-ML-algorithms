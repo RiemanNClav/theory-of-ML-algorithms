{
 "cells": [
  {
   "cell_type": "code",
   "execution_count": 19,
   "id": "258ca618",
   "metadata": {},
   "outputs": [],
   "source": [
    "import os \n",
    "import pandas as pd \n",
    "import numpy as np \n",
    "import matplotlib.pyplot as plt\n",
    "import seaborn as sns\n",
    "from functools import reduce\n",
    "\n",
    "#librerias para relizar aprendizaje automatico \n",
    "##para separar el conjunto de datos en entrenamiento y test \n",
    "from sklearn.model_selection import train_test_split \n",
    "\n",
    "#construir el modelo con el algoritmo de regresion lineal\n",
    "from sklearn.linear_model import LinearRegression,Ridge\n",
    "\n",
    "#para determinar el rendimiento del modelo con las metricas MSE, MAE y R2\n",
    "from sklearn.metrics import mean_squared_error, mean_absolute_error, r2_score\n",
    "\n",
    "#para sacar un reporte estadistico que podemos usar para determinar la importancia de las variables explicativas \n",
    "import statsmodels.api as sm\n",
    "\n",
    "#Con este paquete crearemos un modelo lineal. \n",
    "import statsmodels.formula.api as smf\n",
    "\n"
   ]
  },
  {
   "cell_type": "code",
   "execution_count": 20,
   "id": "75a6470c",
   "metadata": {},
   "outputs": [],
   "source": [
    "sales = pd.read_csv('C:/Users/XMX5634/Documents/theory-of-ML-algorithms/Datasets/kc_house_data.csv')"
   ]
  },
  {
   "cell_type": "code",
   "execution_count": 21,
   "id": "b888a334",
   "metadata": {},
   "outputs": [],
   "source": [
    "train_data = pd.read_csv('C:/Users/XMX5634/Documents/theory-of-ML-algorithms/Datasets/wk3_kc_house_train_data.csv')"
   ]
  },
  {
   "cell_type": "code",
   "execution_count": 22,
   "id": "dac73a35",
   "metadata": {},
   "outputs": [
    {
     "data": {
      "text/plain": [
       "45.16263360014806"
      ]
     },
     "execution_count": 22,
     "metadata": {},
     "output_type": "execute_result"
    }
   ],
   "source": [
    "(len(train_data) / len(sales)) * 100"
   ]
  },
  {
   "cell_type": "code",
   "execution_count": 23,
   "id": "d83eaa20",
   "metadata": {},
   "outputs": [],
   "source": [
    "valid_data = pd.read_csv('C:/Users/XMX5634/Documents/theory-of-ML-algorithms/Datasets/wk3_kc_house_valid_data.csv')"
   ]
  },
  {
   "cell_type": "code",
   "execution_count": 24,
   "id": "06da5c82",
   "metadata": {},
   "outputs": [
    {
     "data": {
      "text/plain": [
       "44.57965113589044"
      ]
     },
     "execution_count": 24,
     "metadata": {},
     "output_type": "execute_result"
    }
   ],
   "source": [
    "(len(valid_data) / len(sales)) * 100"
   ]
  },
  {
   "cell_type": "code",
   "execution_count": 25,
   "id": "f3ea6ed7",
   "metadata": {},
   "outputs": [],
   "source": [
    "test_data = pd.read_csv('C:/Users/XMX5634/Documents/theory-of-ML-algorithms/Datasets/wk3_kc_house_test_data.csv')"
   ]
  },
  {
   "cell_type": "code",
   "execution_count": 26,
   "id": "d60b7786",
   "metadata": {},
   "outputs": [
    {
     "data": {
      "text/plain": [
       "10.257715263961504"
      ]
     },
     "execution_count": 26,
     "metadata": {},
     "output_type": "execute_result"
    }
   ],
   "source": [
    "(len(test_data) / len(sales)) * 100"
   ]
  },
  {
   "cell_type": "markdown",
   "id": "833e3b75",
   "metadata": {},
   "source": [
    "3. Next, from Module 2, copy and paste the ‘get_numpy_data’ function (or equivalent) that takes a dataframe, a list of features (e.g. [‘sqft_living’, ‘bedrooms’]), to be used as inputs, and a name of the output (e.g. ‘price’). This function returns a ‘feature_matrix’ (2D array) consisting of first a column of ones followed by columns containing the values of the input features in the data set in the same order as the input list. It alsos return an ‘output_array’ which is an array of the values of the output in the data set (e.g. ‘price’)."
   ]
  },
  {
   "cell_type": "code",
   "execution_count": 13,
   "id": "234405b2",
   "metadata": {},
   "outputs": [],
   "source": [
    "def get_numpy_data(data_sframe, features, output):\n",
    "    data_sframe['constant'] = 1 # this is how you add a constant column to an SFrame\n",
    "    # add the column 'constant' to the front of the features list so that we can extract it along with the others:\n",
    "    features = ['constant'] + features # this is how you combine two lists\n",
    "    # select the columns of data_SFrame given by the features list into the SFrame features_sframe (now including constant):\n",
    "    features_sframe = data_sframe[features]\n",
    "    # the following line will convert the features_SFrame into a numpy matrix:\n",
    "    feature_matrix = features_sframe.to_numpy()\n",
    "    # assign the column of data_sframe associated with the output to the SArray output_sarray\n",
    "    output_sarray = data_sframe[output]\n",
    "    # the following will convert the SArray into a numpy array by first converting it to a list\n",
    "    output_array = output_sarray.to_numpy()\n",
    "    return(feature_matrix, output_array)"
   ]
  },
  {
   "cell_type": "code",
   "execution_count": 12,
   "id": "cf86f72d",
   "metadata": {},
   "outputs": [],
   "source": [
    "def predict_output(feature_matrix, weights):\n",
    "    # assume feature_matrix is a numpy matrix containing the features as columns and weights is a corresponding numpy array\n",
    "    # create the predictions vector by using np.dot()\n",
    "    predictions = np.dot(feature_matrix, weights)\n",
    "\n",
    "    return(predictions)"
   ]
  },
  {
   "cell_type": "markdown",
   "id": "c16425d3",
   "metadata": {},
   "source": [
    "Computing the Derivative\n",
    "We are now going to move to computing the derivative of the regression cost function. Recall that the cost function is the sum over the data points of the squared difference between an observed output and a predicted output, plus the L2 penalty term.\n",
    "\n",
    "Cost(w)\n",
    "= SUM[ (prediction - output)^2 ]\n",
    "+ l2_penalty*(w[0]^2 + w[1]^2 + ... + w[k]^2).\n",
    "Since the derivative of a sum is the sum of the derivatives, we can take the derivative of the first part (the RSS) as we did in the notebook for the unregularized case in Week 2 and add the derivative of the regularization part. As we saw, the derivative of the RSS with respect to w[i] can be written as:\n",
    "\n",
    "2*SUM[ error*[feature_i] ].\n",
    "The derivative of the regularization term with respect to w[i] is:\n",
    "\n",
    "2*l2_penalty*w[i].\n",
    "Summing both, we get\n",
    "\n",
    "2*SUM[ error*[feature_i] ] + 2*l2_penalty*w[i].\n",
    "That is, the derivative for the weight for feature i is the sum (over data points) of 2 times the product of the error and the feature itself, plus 2*l2_penalty*w[i].\n",
    "\n",
    "We will not regularize the constant. Thus, in the case of the constant, the derivative is just twice the sum of the errors (without the 2*l2_penalty*w[0] term).\n",
    "\n",
    "Recall that twice the sum of the product of two vectors is just twice the dot product of the two vectors. Therefore the derivative for the weight for feature_i is just two times the dot product between the values of feature_i and the current errors, plus 2*l2_penalty*w[i].\n",
    "\n",
    "With this in mind complete the following derivative function which computes the derivative of the weight given the value of the feature (over all data points) and the errors (over all data points). To decide when to we are dealing with the constant (so we don't regularize it) we added the extra parameter to the call feature_is_constant which you should set to True when computing the derivative of the constant and False otherwise."
   ]
  },
  {
   "cell_type": "code",
   "execution_count": 11,
   "id": "01ce86d5",
   "metadata": {},
   "outputs": [],
   "source": [
    "def feature_derivative_ridge(errors, feature, weight, l2_penalty, feature_is_constant):\n",
    "    # If feature_is_constant is True, derivative is twice the dot product of errors and feature\n",
    "    if feature_is_constant == True:\n",
    "        derivative = 2 * np.dot(errors, feature)\n",
    "    # Otherwise, derivative is twice the dot product plus 2*l2_penalty*weight\n",
    "    else:\n",
    "        derivative = 2 * np.dot(errors, feature) + 2*(l2_penalty*weight)\n",
    "    return derivative"
   ]
  },
  {
   "cell_type": "markdown",
   "id": "4766adc4",
   "metadata": {},
   "source": [
    "To test your feature derivartive run the following:"
   ]
  },
  {
   "cell_type": "code",
   "execution_count": 34,
   "id": "7434583f",
   "metadata": {},
   "outputs": [
    {
     "name": "stdout",
     "output_type": "stream",
     "text": [
      "-56554166815950.0\n",
      "-56554166815950.0\n",
      "\n",
      "-22446749330.0\n",
      "-22446749330.0\n"
     ]
    }
   ],
   "source": [
    "(example_features, example_output) = get_numpy_data(sales, ['sqft_living'], 'price') \n",
    "my_weights = np.array([1., 10.])\n",
    "test_predictions = predict_output(example_features, my_weights) \n",
    "errors = test_predictions - example_output # prediction errors\n",
    "\n",
    "# next two lines should print the same values\n",
    "print(feature_derivative_ridge(errors, example_features[:,1], my_weights[1], 1, False))\n",
    "print(np.sum(errors*example_features[:,1])*2+20)\n",
    "print('')\n",
    "\n",
    "# next two lines should print the same values\n",
    "print(feature_derivative_ridge(errors, example_features[:,0], my_weights[0], 1, True))\n",
    "print(np.sum(errors)*2)"
   ]
  },
  {
   "cell_type": "markdown",
   "id": "00967ca3",
   "metadata": {},
   "source": [
    "# Gradient Descent\n",
    "\n",
    "Now we will write a function that performs a gradient descent. The basic premise is simple. Given a starting point we update the current weights by moving in the negative gradient direction. Recall that the gradient is the direction of increase and therefore the negative gradient is the direction of decrease and we're trying to minimize a cost function.\n",
    "\n",
    "The amount by which we move in the negative gradient direction is called the 'step size'. We stop when we are 'sufficiently close' to the optimum. Unlike in Week 2, this time we will set a maximum number of iterations and take gradient steps until we reach this maximum number. If no maximum number is supplied, the maximum should be set 100 by default. (Use default parameter values in Python.)\n",
    "\n",
    "With this in mind, complete the following gradient descent function below using your derivative function above. For each step in the gradient descent, we update the weight for each feature before computing our stopping criteria.\n",
    "\n",
    "Discussion"
   ]
  },
  {
   "cell_type": "code",
   "execution_count": 35,
   "id": "696237fa",
   "metadata": {},
   "outputs": [],
   "source": [
    "def ridge_regression_gradient_descent(feature_matrix, output, initial_weights, step_size, l2_penalty, max_iterations=100):\n",
    "    weights = np.array(initial_weights) # make sure it's a numpy array\n",
    "    \n",
    "    #while not reached maximum number of iterations:\n",
    "    while max_iterations > 0:\n",
    "        # compute the predictions based on feature_matrix and weights using your predict_output() function\n",
    "        predictions = predict_output(feature_matrix, weights)\n",
    "        # compute the errors as predictions - output\n",
    "        errors = predictions - output\n",
    "        for i in xrange(len(weights)): # loop over each weight\n",
    "            # Recall that feature_matrix[:,i] is the feature column associated with weights[i]\n",
    "            # compute the derivative for weight[i].\n",
    "            #(Remember: when i=0, you are computing the derivative of the constant!)\n",
    "            if i == 0:\n",
    "                feature_is_constant = True\n",
    "            else:\n",
    "                feature_is_constant = False\n",
    "            derivative = feature_derivative_ridge(errors, feature_matrix[:,i], weights[i], l2_penalty, feature_is_constant)\n",
    "\n",
    "            # subtract the step size times the derivative from the current weight\n",
    "            weights[i] = weights[i] - (step_size * derivative)\n",
    "        max_iterations -= 1            \n",
    "    return weights"
   ]
  },
  {
   "cell_type": "markdown",
   "id": "2135279a",
   "metadata": {},
   "source": [
    "11. Convert the training set and test set using the ‘get_numpy_data’ function.e.g. in Python:\n"
   ]
  },
  {
   "cell_type": "code",
   "execution_count": 36,
   "id": "fe502b04",
   "metadata": {},
   "outputs": [],
   "source": [
    "simple_features = ['sqft_living']\n",
    "my_output = 'price'\n",
    "(simple_feature_matrix, output) = get_numpy_data(train_data, simple_features, my_output)\n",
    "(simple_test_feature_matrix, test_output) = get_numpy_data(test_data, simple_features, my_output)"
   ]
  },
  {
   "cell_type": "code",
   "execution_count": null,
   "id": "c8dd3208",
   "metadata": {},
   "outputs": [],
   "source": []
  },
  {
   "cell_type": "code",
   "execution_count": null,
   "id": "e20b85ec",
   "metadata": {},
   "outputs": [],
   "source": []
  },
  {
   "cell_type": "code",
   "execution_count": null,
   "id": "b99001ea",
   "metadata": {},
   "outputs": [],
   "source": []
  },
  {
   "cell_type": "code",
   "execution_count": null,
   "id": "fb57c3e1",
   "metadata": {},
   "outputs": [],
   "source": []
  },
  {
   "cell_type": "code",
   "execution_count": null,
   "id": "08aa2811",
   "metadata": {},
   "outputs": [],
   "source": []
  },
  {
   "cell_type": "code",
   "execution_count": null,
   "id": "9323f6fe",
   "metadata": {},
   "outputs": [],
   "source": []
  }
 ],
 "metadata": {
  "kernelspec": {
   "display_name": "Python 3 (ipykernel)",
   "language": "python",
   "name": "python3"
  },
  "language_info": {
   "codemirror_mode": {
    "name": "ipython",
    "version": 3
   },
   "file_extension": ".py",
   "mimetype": "text/x-python",
   "name": "python",
   "nbconvert_exporter": "python",
   "pygments_lexer": "ipython3",
   "version": "3.9.7"
  }
 },
 "nbformat": 4,
 "nbformat_minor": 5
}
