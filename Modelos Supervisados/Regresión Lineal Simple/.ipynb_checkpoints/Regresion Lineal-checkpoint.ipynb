{
 "cells": [
  {
   "cell_type": "code",
   "execution_count": 37,
   "id": "2a21304d",
   "metadata": {},
   "outputs": [],
   "source": [
    "import os \n",
    "import pandas as pd \n",
    "import numpy as np \n",
    "import matplotlib.pyplot as plt\n",
    "\n",
    "#librerias para relizar aprendizaje automatico \n",
    "##para separar el conjunto de datos en entrenamiento y test \n",
    "from sklearn.model_selection import train_test_split \n",
    "\n",
    "#construir el modelo con el algoritmo de regresion lineal\n",
    "from sklearn.linear_model import LinearRegression\n",
    "\n",
    "#para determinar el rendimiento del modelo con las metricas MSE, MAE y R2\n",
    "from sklearn.metrics import mean_squared_error, mean_absolute_error, r2_score\n",
    "\n",
    "#para sacar un reporte estadistico que podemos usar para determinar la importancia de las variables explicativas \n",
    "import statsmodels.api as sm"
   ]
  },
  {
   "cell_type": "code",
   "execution_count": 86,
   "id": "520187dc",
   "metadata": {},
   "outputs": [],
   "source": [
    "df = pd.read_csv('C:/Users/XMX5634/Documents/Introduccion Ciencia de Datos Aplicada/Modelos Predictivos/inmuebles.csv',encoding='latin-1')"
   ]
  },
  {
   "cell_type": "code",
   "execution_count": 87,
   "id": "828a1cf9",
   "metadata": {},
   "outputs": [
    {
     "data": {
      "text/html": [
       "<div>\n",
       "<style scoped>\n",
       "    .dataframe tbody tr th:only-of-type {\n",
       "        vertical-align: middle;\n",
       "    }\n",
       "\n",
       "    .dataframe tbody tr th {\n",
       "        vertical-align: top;\n",
       "    }\n",
       "\n",
       "    .dataframe thead th {\n",
       "        text-align: right;\n",
       "    }\n",
       "</style>\n",
       "<table border=\"1\" class=\"dataframe\">\n",
       "  <thead>\n",
       "    <tr style=\"text-align: right;\">\n",
       "      <th></th>\n",
       "      <th>numero_cuartos</th>\n",
       "      <th>numero_baños</th>\n",
       "      <th>area_de_ construcción_pie2</th>\n",
       "      <th>area_del lote_pie2</th>\n",
       "      <th>numero_pisos</th>\n",
       "      <th>condición</th>\n",
       "      <th>grado</th>\n",
       "      <th>superficie_sótano_pie2</th>\n",
       "      <th>año_de_construcción</th>\n",
       "      <th>precio</th>\n",
       "    </tr>\n",
       "  </thead>\n",
       "  <tbody>\n",
       "    <tr>\n",
       "      <th>0</th>\n",
       "      <td>3</td>\n",
       "      <td>1</td>\n",
       "      <td>1180</td>\n",
       "      <td>5650</td>\n",
       "      <td>1</td>\n",
       "      <td>3</td>\n",
       "      <td>7</td>\n",
       "      <td>0</td>\n",
       "      <td>1955</td>\n",
       "      <td>221900</td>\n",
       "    </tr>\n",
       "    <tr>\n",
       "      <th>1</th>\n",
       "      <td>2</td>\n",
       "      <td>1</td>\n",
       "      <td>770</td>\n",
       "      <td>10000</td>\n",
       "      <td>1</td>\n",
       "      <td>3</td>\n",
       "      <td>6</td>\n",
       "      <td>0</td>\n",
       "      <td>1933</td>\n",
       "      <td>180000</td>\n",
       "    </tr>\n",
       "    <tr>\n",
       "      <th>2</th>\n",
       "      <td>4</td>\n",
       "      <td>3</td>\n",
       "      <td>1960</td>\n",
       "      <td>5000</td>\n",
       "      <td>1</td>\n",
       "      <td>5</td>\n",
       "      <td>7</td>\n",
       "      <td>910</td>\n",
       "      <td>1965</td>\n",
       "      <td>604000</td>\n",
       "    </tr>\n",
       "    <tr>\n",
       "      <th>3</th>\n",
       "      <td>3</td>\n",
       "      <td>2</td>\n",
       "      <td>1680</td>\n",
       "      <td>8080</td>\n",
       "      <td>1</td>\n",
       "      <td>3</td>\n",
       "      <td>8</td>\n",
       "      <td>0</td>\n",
       "      <td>1987</td>\n",
       "      <td>510000</td>\n",
       "    </tr>\n",
       "    <tr>\n",
       "      <th>4</th>\n",
       "      <td>3</td>\n",
       "      <td>1</td>\n",
       "      <td>1780</td>\n",
       "      <td>7470</td>\n",
       "      <td>1</td>\n",
       "      <td>3</td>\n",
       "      <td>7</td>\n",
       "      <td>730</td>\n",
       "      <td>1960</td>\n",
       "      <td>229500</td>\n",
       "    </tr>\n",
       "  </tbody>\n",
       "</table>\n",
       "</div>"
      ],
      "text/plain": [
       "   numero_cuartos  numero_baños  area_de_ construcción_pie2  \\\n",
       "0               3             1                        1180   \n",
       "1               2             1                         770   \n",
       "2               4             3                        1960   \n",
       "3               3             2                        1680   \n",
       "4               3             1                        1780   \n",
       "\n",
       "   area_del lote_pie2  numero_pisos  condición  grado  superficie_sótano_pie2  \\\n",
       "0                5650             1          3      7                       0   \n",
       "1               10000             1          3      6                       0   \n",
       "2                5000             1          5      7                     910   \n",
       "3                8080             1          3      8                       0   \n",
       "4                7470             1          3      7                     730   \n",
       "\n",
       "   año_de_construcción  precio  \n",
       "0                 1955  221900  \n",
       "1                 1933  180000  \n",
       "2                 1965  604000  \n",
       "3                 1987  510000  \n",
       "4                 1960  229500  "
      ]
     },
     "execution_count": 87,
     "metadata": {},
     "output_type": "execute_result"
    }
   ],
   "source": [
    "df.head()"
   ]
  },
  {
   "cell_type": "code",
   "execution_count": 9,
   "id": "02ec5904",
   "metadata": {},
   "outputs": [
    {
     "data": {
      "text/plain": [
       "(5466, 10)"
      ]
     },
     "execution_count": 9,
     "metadata": {},
     "output_type": "execute_result"
    }
   ],
   "source": [
    "df.shape"
   ]
  },
  {
   "cell_type": "markdown",
   "id": "63d6a4b2",
   "metadata": {},
   "source": [
    "# Preparacion de los datos "
   ]
  },
  {
   "cell_type": "code",
   "execution_count": 10,
   "id": "03705660",
   "metadata": {},
   "outputs": [],
   "source": [
    "\n",
    "df_t = df"
   ]
  },
  {
   "cell_type": "code",
   "execution_count": 11,
   "id": "82008fd3",
   "metadata": {},
   "outputs": [
    {
     "data": {
      "text/plain": [
       "numero_cuartos                0.0\n",
       "numero_baños                  0.0\n",
       "area_de_ construcción_pie2    0.0\n",
       "area_del lote_pie2            0.0\n",
       "numero_pisos                  0.0\n",
       "condición                     0.0\n",
       "grado                         0.0\n",
       "superficie_sótano_pie2        0.0\n",
       "año_de_construcción           0.0\n",
       "precio                        0.0\n",
       "dtype: float64"
      ]
     },
     "execution_count": 11,
     "metadata": {},
     "output_type": "execute_result"
    }
   ],
   "source": [
    "df_t.isna().sum()/len(df_t) #no vay valores con ausencia. "
   ]
  },
  {
   "cell_type": "code",
   "execution_count": 12,
   "id": "2e9dbc9c",
   "metadata": {},
   "outputs": [],
   "source": [
    "# ver los datos duplicados. \n",
    "df_t = df_t.drop_duplicates()"
   ]
  },
  {
   "cell_type": "code",
   "execution_count": 13,
   "id": "811b6bbb",
   "metadata": {},
   "outputs": [
    {
     "data": {
      "text/plain": [
       "(5465, 10)"
      ]
     },
     "execution_count": 13,
     "metadata": {},
     "output_type": "execute_result"
    }
   ],
   "source": [
    "df_t.shape"
   ]
  },
  {
   "cell_type": "markdown",
   "id": "a476fbc0",
   "metadata": {},
   "source": [
    "para el algoritmo de regresion lineal todas las variables del conjunto de datos debe de ser numericas, las variables categoricas deben de convertirse a variables dummie\n",
    "\n",
    "Otro aspecto que se debe de considerar es la eliminación de variables que no aportan a la solución. "
   ]
  },
  {
   "cell_type": "markdown",
   "id": "5ea5aa4e",
   "metadata": {},
   "source": [
    "# Construccion del Modelo"
   ]
  },
  {
   "cell_type": "code",
   "execution_count": null,
   "id": "4a5650da",
   "metadata": {},
   "outputs": [],
   "source": [
    "# se selecciona la variable objetivo\n",
    "Y = df['precio']\n",
    "\n",
    "#del conjunto de datos, se elimina la variable 'precio'\n",
    "X = df.drop(['precio'], axis = 1)"
   ]
  },
  {
   "cell_type": "code",
   "execution_count": null,
   "id": "03d71f3f",
   "metadata": {},
   "outputs": [],
   "source": [
    "## Separacion en conjunto de entrenamiento y test. \n",
    "Entrenamiento: Ajustar un modelo \n",
    "Test: hace predicciones\n",
    "\n",
    "* 1. Train data = Se utiliza para entrenar el modelo con el algoritmo de aprendizaje. \n",
    "* 2. Test data = se utiliz apara evaluar el ajuste del modelo"
   ]
  },
  {
   "cell_type": "code",
   "execution_count": 18,
   "id": "813b6fa1",
   "metadata": {},
   "outputs": [],
   "source": [
    "# se realiza la division entrenamiento, test. El 20% de los datos se deja para el test.\n",
    "\n",
    "X_train, X_test, Y_train, Y_test = train_test_split(X, Y , test_size = 0.2, random_state = 0)"
   ]
  },
  {
   "cell_type": "code",
   "execution_count": 19,
   "id": "c4282a0e",
   "metadata": {},
   "outputs": [
    {
     "data": {
      "text/plain": [
       "LinearRegression()"
      ]
     },
     "execution_count": 19,
     "metadata": {},
     "output_type": "execute_result"
    }
   ],
   "source": [
    "# Antes de construir el modelo debemos de crear un objeto de la clase Linear Regression\n",
    "\n",
    "#Se crear el objeto para construir el modelo \n",
    "modelo_regresion  = LinearRegression()\n",
    "modelo_regresion"
   ]
  },
  {
   "cell_type": "markdown",
   "id": "708d6e34",
   "metadata": {},
   "source": [
    "A continuacion, se entrena el modelo utilizando el conjunto de entrenamiento \n"
   ]
  },
  {
   "cell_type": "code",
   "execution_count": 20,
   "id": "eaf1a150",
   "metadata": {},
   "outputs": [
    {
     "data": {
      "text/plain": [
       "LinearRegression()"
      ]
     },
     "execution_count": 20,
     "metadata": {},
     "output_type": "execute_result"
    }
   ],
   "source": [
    "# Ajustar el modelo con el conjunto de entrenamiento \n",
    "\n",
    "modelo_regresion.fit(X_train, Y_train)"
   ]
  },
  {
   "cell_type": "markdown",
   "id": "72df2697",
   "metadata": {},
   "source": [
    "# Evaluacion del Modelo\n",
    "\n",
    "Nos van a permitir determinar que tan bien se desempeña un modelo, como se ajusta a los datos, utilziando las siguientes metricas: \n",
    "* MSE\n",
    "* MAE \n",
    "* R2"
   ]
  },
  {
   "cell_type": "code",
   "execution_count": 26,
   "id": "79becce7",
   "metadata": {},
   "outputs": [
    {
     "name": "stdout",
     "output_type": "stream",
     "text": [
      "MSE: 15945059675.36\n",
      "RMSE: 126273.75\n",
      "MAE: 96041.85\n",
      "R2: 0.51\n"
     ]
    }
   ],
   "source": [
    "# Se obtienen las predicciones del modelo sobre el conjunto de entrenamiento \n",
    "y_pred  = modelo_regresion.predict(X_train)\n",
    "# se obtienen las metricas a partir de la prediccion y la base de evaluacion (valores reales)\n",
    "print('MSE: %.2f' % mean_squared_error(Y_train, y_pred, squared = True))\n",
    "print('RMSE: %.2f' % mean_squared_error(Y_train, y_pred, squared = False))\n",
    "print('MAE: %.2f' % mean_absolute_error(Y_train, y_pred,))\n",
    "print('R2: %.2f' % r2_score(Y_train, y_pred))"
   ]
  },
  {
   "cell_type": "code",
   "execution_count": 29,
   "id": "db0c84b9",
   "metadata": {},
   "outputs": [
    {
     "name": "stdout",
     "output_type": "stream",
     "text": [
      "MSE: 14832199212.53\n",
      "RMSE: 121787.52\n",
      "MAE: 94037.65\n",
      "R2: 0.51\n"
     ]
    }
   ],
   "source": [
    "# Metricas mas confiables ya que el modelo no conoce estos datos, por ello nos ayudara a verificar que tan buena es su capacidad,\n",
    "#para generalizar. \n",
    "# Se obtienen las predicciones del modelo sobre el conjunto de test\n",
    "y_pred  = modelo_regresion.predict(X_test)\n",
    "# se obtienen las metricas a partir de la prediccion y la base de evaluacion (valores reales)\n",
    "print('MSE: %.2f' % mean_squared_error(Y_test, y_pred, squared = True))\n",
    "print('RMSE: %.2f' % mean_squared_error(Y_test, y_pred, squared = False))\n",
    "print('MAE: %.2f' % mean_absolute_error(Y_test, y_pred,))\n",
    "print('R2: %.2f' % r2_score(Y_test, y_pred))"
   ]
  },
  {
   "cell_type": "markdown",
   "id": "ccc79d79",
   "metadata": {},
   "source": [
    "Una vez determinado el rendimiento de generalizacion utlizando el conjunto test podemos tomar todos los datos \n",
    "y construir el modelo final. "
   ]
  },
  {
   "cell_type": "code",
   "execution_count": 30,
   "id": "4905092b",
   "metadata": {},
   "outputs": [
    {
     "data": {
      "text/plain": [
       "LinearRegression()"
      ]
     },
     "execution_count": 30,
     "metadata": {},
     "output_type": "execute_result"
    }
   ],
   "source": [
    "# Ajustar el modelo con todos los datos \n",
    "modelo_regresion.fit(X,Y)"
   ]
  },
  {
   "cell_type": "code",
   "execution_count": 31,
   "id": "e9df94ab",
   "metadata": {},
   "outputs": [
    {
     "data": {
      "text/plain": [
       "LinearRegression()"
      ]
     },
     "execution_count": 31,
     "metadata": {},
     "output_type": "execute_result"
    }
   ],
   "source": [
    "# Podemos utilizar los parametros de los modelos (coeficientes de regresion)\n",
    "modelo_regresion.fit(X,Y)"
   ]
  },
  {
   "cell_type": "code",
   "execution_count": 32,
   "id": "bc758879",
   "metadata": {},
   "outputs": [
    {
     "data": {
      "text/plain": [
       "4465728.331987247"
      ]
     },
     "execution_count": 32,
     "metadata": {},
     "output_type": "execute_result"
    }
   ],
   "source": [
    "#Para visualizar el intercepto, utiliza el atributo intercept_ del modelo \n",
    "modelo_regresion.intercept_"
   ]
  },
  {
   "cell_type": "markdown",
   "id": "eead3010",
   "metadata": {},
   "source": [
    "# Interpretacion del modelo\n",
    "\n",
    "tambien podemos sacar un reporte que nos va a permitir analizar estadisticos del modelo. "
   ]
  },
  {
   "cell_type": "code",
   "execution_count": 2,
   "id": "32c9306d",
   "metadata": {},
   "outputs": [
    {
     "ename": "NameError",
     "evalue": "name 'sm' is not defined",
     "output_type": "error",
     "traceback": [
      "\u001b[1;31m---------------------------------------------------------------------------\u001b[0m",
      "\u001b[1;31mNameError\u001b[0m                                 Traceback (most recent call last)",
      "\u001b[1;32m~\\AppData\\Local\\Temp/ipykernel_15364/3356665116.py\u001b[0m in \u001b[0;36m<module>\u001b[1;34m\u001b[0m\n\u001b[1;32m----> 1\u001b[1;33m \u001b[0mmodel\u001b[0m \u001b[1;33m=\u001b[0m \u001b[0msm\u001b[0m\u001b[1;33m.\u001b[0m\u001b[0mOLS\u001b[0m\u001b[1;33m(\u001b[0m\u001b[0mY\u001b[0m\u001b[1;33m,\u001b[0m \u001b[0mX\u001b[0m\u001b[1;33m)\u001b[0m\u001b[1;33m.\u001b[0m\u001b[0mfit\u001b[0m\u001b[1;33m(\u001b[0m\u001b[1;33m)\u001b[0m\u001b[1;33m\u001b[0m\u001b[1;33m\u001b[0m\u001b[0m\n\u001b[0m\u001b[0;32m      2\u001b[0m \u001b[1;31m# Add a constant\u001b[0m\u001b[1;33m\u001b[0m\u001b[1;33m\u001b[0m\u001b[0m\n\u001b[0;32m      3\u001b[0m \u001b[0mmodel\u001b[0m \u001b[1;33m=\u001b[0m \u001b[0msm\u001b[0m\u001b[1;33m.\u001b[0m\u001b[0madd_constant\u001b[0m\u001b[1;33m(\u001b[0m\u001b[0mX\u001b[0m\u001b[1;33m)\u001b[0m\u001b[1;33m\u001b[0m\u001b[1;33m\u001b[0m\u001b[0m\n\u001b[0;32m      4\u001b[0m \u001b[1;31m#mostrar los estadisticos del modelo\u001b[0m\u001b[1;33m\u001b[0m\u001b[1;33m\u001b[0m\u001b[0m\n\u001b[0;32m      5\u001b[0m \u001b[0mmodel\u001b[0m\u001b[1;33m.\u001b[0m\u001b[0msummary\u001b[0m\u001b[1;33m(\u001b[0m\u001b[1;33m)\u001b[0m\u001b[1;33m\u001b[0m\u001b[1;33m\u001b[0m\u001b[0m\n",
      "\u001b[1;31mNameError\u001b[0m: name 'sm' is not defined"
     ]
    }
   ],
   "source": [
    "model = sm.OLS(Y, X).fit()\n",
    "# Add a constant\n",
    "model = sm.add_constant(X)\n",
    "#mostrar los estadisticos del modelo\n",
    "model.summary()"
   ]
  },
  {
   "cell_type": "markdown",
   "id": "9ce0ccab",
   "metadata": {},
   "source": [
    "# --------------------------------------------------"
   ]
  },
  {
   "cell_type": "code",
   "execution_count": 80,
   "id": "4301da0c",
   "metadata": {},
   "outputs": [],
   "source": [
    "def models_linear_regression(df,y):\n",
    "    import pandas as pd\n",
    "    #construir el modelo con el algoritmo de regresion lineal\n",
    "    from sklearn.linear_model import LinearRegression\n",
    "    \n",
    "    #para determinar el rendimiento del modelo con las metricas MSE, MAE y R2\n",
    "    from sklearn.metrics import mean_squared_error, mean_absolute_error, r2_score\n",
    "    \n",
    "    models = []\n",
    "    variables = []\n",
    "    R2 = []\n",
    "    MSE = []\n",
    "    RMSE = []\n",
    "    MAE = []\n",
    "    Y = df[y]\n",
    "    set_cols = []\n",
    "    i = 0\n",
    "\n",
    "    # Antes de construir el modelo debemos de crear un objeto de la clase Linear Regression\n",
    "    #Se crear el objeto para construir el modelo \n",
    "    modelo_regresion  = LinearRegression()\n",
    "    modelo_regresion\n",
    "    \n",
    "    for col in df.drop([y], axis = 1).columns:\n",
    "        set_cols.append(col)\n",
    "        #print(set_cols)\n",
    "        X = df[set_cols]\n",
    "        X_train, X_test, Y_train, Y_test = train_test_split(X, Y , test_size = 0.2, random_state = 0)\n",
    "        \n",
    "        # Ajustar el modelo con el conjunto de entrenamiento \n",
    "        modelo_regresion.fit(X_train, Y_train)\n",
    "        \n",
    "        # Se obtienen las predicciones del modelo sobre el conjunto de entrenamiento \n",
    "        y_pred  = modelo_regresion.predict(X_train)\n",
    "        \n",
    "        # se obtienen las metricas a partir de la prediccion y la base de evaluacion (valores reales)\n",
    "        mse =  mean_squared_error(Y_train, y_pred, squared = True)\n",
    "        rmse = mean_squared_error(Y_train, y_pred, squared = False)\n",
    "        mae = mean_absolute_error(Y_train, y_pred)\n",
    "        r2 = r2_score(Y_train, y_pred)\n",
    "        i += 1\n",
    "        models.append(i)\n",
    "        R2.append(r2)\n",
    "        MSE.append(mse)\n",
    "        RMSE.append(rmse)\n",
    "        MAE.append(mae)\n",
    "        variables.append(col)\n",
    "        \n",
    "    df = pd.DataFrame({\n",
    "        'Modelo': models,\n",
    "        'Variables': variables,\n",
    "        'R2': R2,\n",
    "        'MSE': mse,\n",
    "        'RMSE': rmse,\n",
    "        'MAE': mae})\n",
    "    \n",
    "    return df"
   ]
  },
  {
   "cell_type": "code",
   "execution_count": 81,
   "id": "28a9608f",
   "metadata": {},
   "outputs": [
    {
     "data": {
      "text/html": [
       "<div>\n",
       "<style scoped>\n",
       "    .dataframe tbody tr th:only-of-type {\n",
       "        vertical-align: middle;\n",
       "    }\n",
       "\n",
       "    .dataframe tbody tr th {\n",
       "        vertical-align: top;\n",
       "    }\n",
       "\n",
       "    .dataframe thead th {\n",
       "        text-align: right;\n",
       "    }\n",
       "</style>\n",
       "<table border=\"1\" class=\"dataframe\">\n",
       "  <thead>\n",
       "    <tr style=\"text-align: right;\">\n",
       "      <th></th>\n",
       "      <th>Modelo</th>\n",
       "      <th>Variables</th>\n",
       "      <th>R2</th>\n",
       "      <th>MSE</th>\n",
       "      <th>RMSE</th>\n",
       "      <th>MAE</th>\n",
       "    </tr>\n",
       "  </thead>\n",
       "  <tbody>\n",
       "    <tr>\n",
       "      <th>0</th>\n",
       "      <td>1</td>\n",
       "      <td>numero_cuartos</td>\n",
       "      <td>0.084366</td>\n",
       "      <td>1.594506e+10</td>\n",
       "      <td>126273.748956</td>\n",
       "      <td>96041.854183</td>\n",
       "    </tr>\n",
       "    <tr>\n",
       "      <th>1</th>\n",
       "      <td>2</td>\n",
       "      <td>numero_baños</td>\n",
       "      <td>0.206276</td>\n",
       "      <td>1.594506e+10</td>\n",
       "      <td>126273.748956</td>\n",
       "      <td>96041.854183</td>\n",
       "    </tr>\n",
       "    <tr>\n",
       "      <th>2</th>\n",
       "      <td>3</td>\n",
       "      <td>area_de_ construcción_pie2</td>\n",
       "      <td>0.346656</td>\n",
       "      <td>1.594506e+10</td>\n",
       "      <td>126273.748956</td>\n",
       "      <td>96041.854183</td>\n",
       "    </tr>\n",
       "    <tr>\n",
       "      <th>3</th>\n",
       "      <td>4</td>\n",
       "      <td>area_del lote_pie2</td>\n",
       "      <td>0.347328</td>\n",
       "      <td>1.594506e+10</td>\n",
       "      <td>126273.748956</td>\n",
       "      <td>96041.854183</td>\n",
       "    </tr>\n",
       "    <tr>\n",
       "      <th>4</th>\n",
       "      <td>5</td>\n",
       "      <td>numero_pisos</td>\n",
       "      <td>0.354553</td>\n",
       "      <td>1.594506e+10</td>\n",
       "      <td>126273.748956</td>\n",
       "      <td>96041.854183</td>\n",
       "    </tr>\n",
       "    <tr>\n",
       "      <th>5</th>\n",
       "      <td>6</td>\n",
       "      <td>condición</td>\n",
       "      <td>0.360585</td>\n",
       "      <td>1.594506e+10</td>\n",
       "      <td>126273.748956</td>\n",
       "      <td>96041.854183</td>\n",
       "    </tr>\n",
       "    <tr>\n",
       "      <th>6</th>\n",
       "      <td>7</td>\n",
       "      <td>grado</td>\n",
       "      <td>0.414972</td>\n",
       "      <td>1.594506e+10</td>\n",
       "      <td>126273.748956</td>\n",
       "      <td>96041.854183</td>\n",
       "    </tr>\n",
       "    <tr>\n",
       "      <th>7</th>\n",
       "      <td>8</td>\n",
       "      <td>superficie_sótano_pie2</td>\n",
       "      <td>0.420743</td>\n",
       "      <td>1.594506e+10</td>\n",
       "      <td>126273.748956</td>\n",
       "      <td>96041.854183</td>\n",
       "    </tr>\n",
       "    <tr>\n",
       "      <th>8</th>\n",
       "      <td>9</td>\n",
       "      <td>año_de_construcción</td>\n",
       "      <td>0.508284</td>\n",
       "      <td>1.594506e+10</td>\n",
       "      <td>126273.748956</td>\n",
       "      <td>96041.854183</td>\n",
       "    </tr>\n",
       "  </tbody>\n",
       "</table>\n",
       "</div>"
      ],
      "text/plain": [
       "   Modelo                   Variables        R2           MSE           RMSE  \\\n",
       "0       1              numero_cuartos  0.084366  1.594506e+10  126273.748956   \n",
       "1       2                numero_baños  0.206276  1.594506e+10  126273.748956   \n",
       "2       3  area_de_ construcción_pie2  0.346656  1.594506e+10  126273.748956   \n",
       "3       4          area_del lote_pie2  0.347328  1.594506e+10  126273.748956   \n",
       "4       5                numero_pisos  0.354553  1.594506e+10  126273.748956   \n",
       "5       6                   condición  0.360585  1.594506e+10  126273.748956   \n",
       "6       7                       grado  0.414972  1.594506e+10  126273.748956   \n",
       "7       8      superficie_sótano_pie2  0.420743  1.594506e+10  126273.748956   \n",
       "8       9         año_de_construcción  0.508284  1.594506e+10  126273.748956   \n",
       "\n",
       "            MAE  \n",
       "0  96041.854183  \n",
       "1  96041.854183  \n",
       "2  96041.854183  \n",
       "3  96041.854183  \n",
       "4  96041.854183  \n",
       "5  96041.854183  \n",
       "6  96041.854183  \n",
       "7  96041.854183  \n",
       "8  96041.854183  "
      ]
     },
     "execution_count": 81,
     "metadata": {},
     "output_type": "execute_result"
    }
   ],
   "source": [
    "models_linear_regression(df,'precio')"
   ]
  },
  {
   "cell_type": "code",
   "execution_count": null,
   "id": "40e72cab",
   "metadata": {},
   "outputs": [],
   "source": []
  }
 ],
 "metadata": {
  "kernelspec": {
   "display_name": "Python 3 (ipykernel)",
   "language": "python",
   "name": "python3"
  },
  "language_info": {
   "codemirror_mode": {
    "name": "ipython",
    "version": 3
   },
   "file_extension": ".py",
   "mimetype": "text/x-python",
   "name": "python",
   "nbconvert_exporter": "python",
   "pygments_lexer": "ipython3",
   "version": "3.9.7"
  }
 },
 "nbformat": 4,
 "nbformat_minor": 5
}
