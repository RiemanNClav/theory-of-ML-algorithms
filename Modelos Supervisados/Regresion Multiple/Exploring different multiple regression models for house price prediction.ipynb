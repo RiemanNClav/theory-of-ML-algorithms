{
 "cells": [
  {
   "cell_type": "code",
   "execution_count": 56,
   "id": "dd306948",
   "metadata": {},
   "outputs": [],
   "source": [
    "import os \n",
    "import pandas as pd \n",
    "import numpy as np \n",
    "import matplotlib.pyplot as plt\n",
    "import seaborn as sns\n",
    "\n",
    "#librerias para relizar aprendizaje automatico \n",
    "##para separar el conjunto de datos en entrenamiento y test \n",
    "from sklearn.model_selection import train_test_split \n",
    "\n",
    "#construir el modelo con el algoritmo de regresion lineal\n",
    "from sklearn.linear_model import LinearRegression\n",
    "\n",
    "#para determinar el rendimiento del modelo con las metricas MSE, MAE y R2\n",
    "from sklearn.metrics import mean_squared_error, mean_absolute_error, r2_score\n",
    "\n",
    "#para sacar un reporte estadistico que podemos usar para determinar la importancia de las variables explicativas \n",
    "import statsmodels.api as sm\n",
    "\n",
    "#Con este paquete crearemos un modelo lineal. \n",
    "import statsmodels.formula.api as smf "
   ]
  },
  {
   "cell_type": "code",
   "execution_count": 124,
   "id": "dea5b016",
   "metadata": {},
   "outputs": [],
   "source": [
    "def metricas(X,Y,model):\n",
    "    # Se obtienen las predicciones del modelo sobre el conjunto de entrenamiento \n",
    "    y_pred  = model.predict(X)\n",
    "    # se obtienen las metricas a partir de la prediccion y la base de evaluacion (valores reales)\n",
    "    print('MSE: %.2f' % mean_squared_error(Y, y_pred, squared = True))\n",
    "    print('RMSE: %.2f' % mean_squared_error(Y, y_pred, squared = False))\n",
    "    print('MAE: %.2f' % mean_absolute_error(Y, y_pred,))\n",
    "    print('R2: %.2f' % r2_score(Y, y_pred))\n",
    "    RSS = mean_squared_error(Y, y_pred, squared = True) * len(X)\n",
    "    print('RSS: {}'.format(RSS))"
   ]
  },
  {
   "cell_type": "code",
   "execution_count": 4,
   "id": "6647db1a",
   "metadata": {},
   "outputs": [],
   "source": [
    "df = pd.read_csv('C:/Users/XMX5634/Documents/theory-of-ML-algorithms/Datasets/kc_house_data.csv')"
   ]
  },
  {
   "cell_type": "code",
   "execution_count": 5,
   "id": "9f5eb5f1",
   "metadata": {},
   "outputs": [],
   "source": [
    "test_data = pd.read_csv('C:/Users/XMX5634/Documents/theory-of-ML-algorithms/Datasets/kc_house_test_data.csv')"
   ]
  },
  {
   "cell_type": "code",
   "execution_count": 6,
   "id": "09714c83",
   "metadata": {},
   "outputs": [],
   "source": [
    "train_data = pd.read_csv('C:/Users/XMX5634/Documents/theory-of-ML-algorithms/Datasets/kc_house_train_data.csv')"
   ]
  },
  {
   "cell_type": "markdown",
   "id": "05a23b7c",
   "metadata": {},
   "source": [
    "3. Aunque a menudo pensamos en la regresión múltiple como la inclusión de múltiples características diferentes (por ejemplo, # de dormitorios, pies cuadrados y # de baños), pero también podemos considerar transformaciones de las variables existentes, por ejemplo, el logaritmo de los pies cuadrados o incluso variables de \"interacción\" como el producto de dormitorios y baños. Añada 4 nuevas variables a los datos de entrenamiento y a los datos de prueba.\n",
    "\n",
    "* ‘bedrooms_squared’ = ‘bedrooms’*‘bedrooms’: \n",
    "\n",
    "Squaring bedrooms will increase the separation between not many bedrooms (e.g. 1) and lots of bedrooms (e.g. 4) since 1^2 = 1 but 4^2 = 16. Consequently this variable will mostly affect houses with many bedrooms.\n",
    "\n",
    "* ‘bed_bath_rooms’ = ‘bedrooms’*‘bathrooms’:\n",
    "\n",
    "Bedrooms times bathrooms is what's called an \"interaction\" variable. It is large when both of them are large.\n",
    "\n",
    "* ‘log_sqft_living’ = log(‘sqft_living’): \n",
    "\n",
    "Taking the log of square feet has the effect of bringing large values closer together and spreading out small values.\n",
    "\n",
    "* ‘lat_plus_long’ =  ‘lat’ + ‘long’\n",
    "\n",
    "Adding latitude to longitude is non-sensical but we will do it anyway (you'll see why)\n",
    "\n"
   ]
  },
  {
   "cell_type": "code",
   "execution_count": 7,
   "id": "40d812bc",
   "metadata": {},
   "outputs": [],
   "source": [
    "test_data['bedrooms_squared'] = test_data['bedrooms'] * test_data['bedrooms']\n",
    "test_data['bed_bath_rooms'] = test_data['bedrooms'] * test_data['bathrooms']\n",
    "test_data['log_sqft_living'] = np.log(test_data['sqft_living'])\n",
    "test_data['lat_plus_long'] = test_data['lat'] + test_data['long']\n",
    "\n",
    "\n",
    "train_data['bedrooms_squared'] = train_data['bedrooms'] * train_data['bedrooms']\n",
    "train_data['bed_bath_rooms'] = train_data['bedrooms'] * train_data['bathrooms']\n",
    "train_data['log_sqft_living'] = np.log(train_data['sqft_living'])\n",
    "train_data['lat_plus_long'] = train_data['lat'] + train_data['long']"
   ]
  },
  {
   "cell_type": "markdown",
   "id": "1fa58985",
   "metadata": {},
   "source": [
    "4. Quiz Question: what are the mean (arithmetic average) values of your 4 new variables on TEST data? (round to 2 digits)"
   ]
  },
  {
   "cell_type": "code",
   "execution_count": 8,
   "id": "9550efc7",
   "metadata": {},
   "outputs": [
    {
     "data": {
      "text/html": [
       "<div>\n",
       "<style scoped>\n",
       "    .dataframe tbody tr th:only-of-type {\n",
       "        vertical-align: middle;\n",
       "    }\n",
       "\n",
       "    .dataframe tbody tr th {\n",
       "        vertical-align: top;\n",
       "    }\n",
       "\n",
       "    .dataframe thead th {\n",
       "        text-align: right;\n",
       "    }\n",
       "</style>\n",
       "<table border=\"1\" class=\"dataframe\">\n",
       "  <thead>\n",
       "    <tr style=\"text-align: right;\">\n",
       "      <th></th>\n",
       "      <th>id</th>\n",
       "      <th>price</th>\n",
       "      <th>bedrooms</th>\n",
       "      <th>bathrooms</th>\n",
       "      <th>sqft_living</th>\n",
       "      <th>sqft_lot</th>\n",
       "      <th>floors</th>\n",
       "      <th>waterfront</th>\n",
       "      <th>view</th>\n",
       "      <th>condition</th>\n",
       "      <th>...</th>\n",
       "      <th>yr_renovated</th>\n",
       "      <th>zipcode</th>\n",
       "      <th>lat</th>\n",
       "      <th>long</th>\n",
       "      <th>sqft_living15</th>\n",
       "      <th>sqft_lot15</th>\n",
       "      <th>bedrooms_squared</th>\n",
       "      <th>bed_bath_rooms</th>\n",
       "      <th>log_sqft_living</th>\n",
       "      <th>lat_plus_long</th>\n",
       "    </tr>\n",
       "  </thead>\n",
       "  <tbody>\n",
       "    <tr>\n",
       "      <th>mean</th>\n",
       "      <td>4.604771e+09</td>\n",
       "      <td>543054.043036</td>\n",
       "      <td>3.376921</td>\n",
       "      <td>2.113561</td>\n",
       "      <td>2079.36628</td>\n",
       "      <td>15168.859068</td>\n",
       "      <td>1.494561</td>\n",
       "      <td>0.007094</td>\n",
       "      <td>0.227004</td>\n",
       "      <td>3.403878</td>\n",
       "      <td>...</td>\n",
       "      <td>89.722629</td>\n",
       "      <td>98077.951762</td>\n",
       "      <td>47.563092</td>\n",
       "      <td>-122.216426</td>\n",
       "      <td>1988.844171</td>\n",
       "      <td>12735.877749</td>\n",
       "      <td>12.446678</td>\n",
       "      <td>7.503902</td>\n",
       "      <td>7.550275</td>\n",
       "      <td>-74.653334</td>\n",
       "    </tr>\n",
       "  </tbody>\n",
       "</table>\n",
       "<p>1 rows × 24 columns</p>\n",
       "</div>"
      ],
      "text/plain": [
       "                id          price  bedrooms  bathrooms  sqft_living  \\\n",
       "mean  4.604771e+09  543054.043036  3.376921   2.113561   2079.36628   \n",
       "\n",
       "          sqft_lot    floors  waterfront      view  condition  ...  \\\n",
       "mean  15168.859068  1.494561    0.007094  0.227004   3.403878  ...   \n",
       "\n",
       "      yr_renovated       zipcode        lat        long  sqft_living15  \\\n",
       "mean     89.722629  98077.951762  47.563092 -122.216426    1988.844171   \n",
       "\n",
       "        sqft_lot15  bedrooms_squared  bed_bath_rooms  log_sqft_living  \\\n",
       "mean  12735.877749         12.446678        7.503902         7.550275   \n",
       "\n",
       "      lat_plus_long  \n",
       "mean     -74.653334  \n",
       "\n",
       "[1 rows x 24 columns]"
      ]
     },
     "execution_count": 8,
     "metadata": {},
     "output_type": "execute_result"
    }
   ],
   "source": [
    "test_data.describe().loc[['mean'],:]\n",
    "#Las medias son :\n",
    "\n",
    "#bedrooms_squared = 12.446678\n",
    "#bed_bath_rooms = 7.503902\n",
    "#log_sqft_living = 7.550275\n",
    "#lat_plus_long = 74.653334"
   ]
  },
  {
   "cell_type": "markdown",
   "id": "85df7e3f",
   "metadata": {},
   "source": [
    "5. Use `turicreate.linear_regression.create()` (or any other regression library/function) to estimate the regression coefficients/weights for predicting ‘price’ for the following three models:(In all 3 models include an intercept -- most software does this by default).\n",
    "\n",
    "Model 1: ‘sqft_living’, ‘bedrooms’, ‘bathrooms’, ‘lat’, and ‘long’\n",
    "\n",
    "Model 2: ‘sqft_living’, ‘bedrooms’, ‘bathrooms’, ‘lat’,‘long’, and ‘bed_bath_rooms’\n",
    "\n",
    "Model 3: ‘sqft_living’, ‘bedrooms’, ‘bathrooms’, ‘lat’,‘long’, ‘bed_bath_rooms’, ‘bedrooms_squared’, ‘log_sqft_living’, and ‘lat_plus_long’"
   ]
  },
  {
   "cell_type": "code",
   "execution_count": 9,
   "id": "b22fb5f9",
   "metadata": {},
   "outputs": [],
   "source": [
    "Y = train_data['price']"
   ]
  },
  {
   "cell_type": "markdown",
   "id": "87519272",
   "metadata": {},
   "source": [
    "## Modelo 1"
   ]
  },
  {
   "cell_type": "code",
   "execution_count": 111,
   "id": "4bcd89cd",
   "metadata": {},
   "outputs": [],
   "source": [
    "X = train_data[['sqft_living','bedrooms','bathrooms','lat','long']]"
   ]
  },
  {
   "cell_type": "code",
   "execution_count": 112,
   "id": "c4282a0e",
   "metadata": {},
   "outputs": [],
   "source": [
    "# Antes de construir el modelo debemos de crear un objeto de la clase Linear Regression\n",
    "\n",
    "#Se crear el objeto para construir el modelo \n",
    "modelo1 = smf.ols(formula ='price~sqft_living + bedrooms + bathrooms + lat + long' ,data = train_data).fit() "
   ]
  },
  {
   "cell_type": "markdown",
   "id": "708d6e34",
   "metadata": {},
   "source": [
    "A continuacion, se entrena el modelo utilizando el conjunto de entrenamiento \n"
   ]
  },
  {
   "cell_type": "code",
   "execution_count": 113,
   "id": "eaf1a150",
   "metadata": {},
   "outputs": [
    {
     "data": {
      "text/plain": [
       "Intercept     -6.907573e+07\n",
       "sqft_living    3.122586e+02\n",
       "bedrooms      -5.958653e+04\n",
       "bathrooms      1.570674e+04\n",
       "lat            6.586193e+05\n",
       "long          -3.093744e+05\n",
       "dtype: float64"
      ]
     },
     "execution_count": 113,
     "metadata": {},
     "output_type": "execute_result"
    }
   ],
   "source": [
    "# Ajustar el modelo con el conjunto de entrenamiento \n",
    "\n",
    "modelo1.params"
   ]
  },
  {
   "cell_type": "code",
   "execution_count": 97,
   "id": "3dd75222",
   "metadata": {},
   "outputs": [
    {
     "data": {
      "text/html": [
       "<table class=\"simpletable\">\n",
       "<caption>OLS Regression Results</caption>\n",
       "<tr>\n",
       "  <th>Dep. Variable:</th>          <td>price</td>      <th>  R-squared:         </th>  <td>   0.593</td>  \n",
       "</tr>\n",
       "<tr>\n",
       "  <th>Model:</th>                   <td>OLS</td>       <th>  Adj. R-squared:    </th>  <td>   0.592</td>  \n",
       "</tr>\n",
       "<tr>\n",
       "  <th>Method:</th>             <td>Least Squares</td>  <th>  F-statistic:       </th>  <td>   5056.</td>  \n",
       "</tr>\n",
       "<tr>\n",
       "  <th>Date:</th>             <td>Tue, 04 Apr 2023</td> <th>  Prob (F-statistic):</th>   <td>  0.00</td>   \n",
       "</tr>\n",
       "<tr>\n",
       "  <th>Time:</th>                 <td>23:50:07</td>     <th>  Log-Likelihood:    </th> <td>-2.3973e+05</td>\n",
       "</tr>\n",
       "<tr>\n",
       "  <th>No. Observations:</th>      <td> 17384</td>      <th>  AIC:               </th>  <td>4.795e+05</td> \n",
       "</tr>\n",
       "<tr>\n",
       "  <th>Df Residuals:</th>          <td> 17378</td>      <th>  BIC:               </th>  <td>4.795e+05</td> \n",
       "</tr>\n",
       "<tr>\n",
       "  <th>Df Model:</th>              <td>     5</td>      <th>                     </th>      <td> </td>     \n",
       "</tr>\n",
       "<tr>\n",
       "  <th>Covariance Type:</th>      <td>nonrobust</td>    <th>                     </th>      <td> </td>     \n",
       "</tr>\n",
       "</table>\n",
       "<table class=\"simpletable\">\n",
       "<tr>\n",
       "       <td></td>          <th>coef</th>     <th>std err</th>      <th>t</th>      <th>P>|t|</th>  <th>[0.025</th>    <th>0.975]</th>  \n",
       "</tr>\n",
       "<tr>\n",
       "  <th>Intercept</th>   <td>-6.908e+07</td> <td> 1.65e+06</td> <td>  -41.940</td> <td> 0.000</td> <td>-7.23e+07</td> <td>-6.58e+07</td>\n",
       "</tr>\n",
       "<tr>\n",
       "  <th>sqft_living</th> <td>  312.2586</td> <td>    3.183</td> <td>   98.097</td> <td> 0.000</td> <td>  306.019</td> <td>  318.498</td>\n",
       "</tr>\n",
       "<tr>\n",
       "  <th>bedrooms</th>    <td>-5.959e+04</td> <td> 2482.861</td> <td>  -23.999</td> <td> 0.000</td> <td>-6.45e+04</td> <td>-5.47e+04</td>\n",
       "</tr>\n",
       "<tr>\n",
       "  <th>bathrooms</th>   <td> 1.571e+04</td> <td> 3587.158</td> <td>    4.379</td> <td> 0.000</td> <td> 8675.552</td> <td> 2.27e+04</td>\n",
       "</tr>\n",
       "<tr>\n",
       "  <th>lat</th>         <td> 6.586e+05</td> <td> 1.31e+04</td> <td>   50.286</td> <td> 0.000</td> <td> 6.33e+05</td> <td> 6.84e+05</td>\n",
       "</tr>\n",
       "<tr>\n",
       "  <th>long</th>        <td>-3.094e+05</td> <td> 1.33e+04</td> <td>  -23.331</td> <td> 0.000</td> <td>-3.35e+05</td> <td>-2.83e+05</td>\n",
       "</tr>\n",
       "</table>\n",
       "<table class=\"simpletable\">\n",
       "<tr>\n",
       "  <th>Omnibus:</th>       <td>12962.917</td> <th>  Durbin-Watson:     </th>  <td>   2.008</td> \n",
       "</tr>\n",
       "<tr>\n",
       "  <th>Prob(Omnibus):</th>  <td> 0.000</td>   <th>  Jarque-Bera (JB):  </th> <td>615844.364</td>\n",
       "</tr>\n",
       "<tr>\n",
       "  <th>Skew:</th>           <td> 3.114</td>   <th>  Prob(JB):          </th>  <td>    0.00</td> \n",
       "</tr>\n",
       "<tr>\n",
       "  <th>Kurtosis:</th>       <td>31.486</td>   <th>  Cond. No.          </th>  <td>2.10e+06</td> \n",
       "</tr>\n",
       "</table><br/><br/>Notes:<br/>[1] Standard Errors assume that the covariance matrix of the errors is correctly specified.<br/>[2] The condition number is large, 2.1e+06. This might indicate that there are<br/>strong multicollinearity or other numerical problems."
      ],
      "text/plain": [
       "<class 'statsmodels.iolib.summary.Summary'>\n",
       "\"\"\"\n",
       "                            OLS Regression Results                            \n",
       "==============================================================================\n",
       "Dep. Variable:                  price   R-squared:                       0.593\n",
       "Model:                            OLS   Adj. R-squared:                  0.592\n",
       "Method:                 Least Squares   F-statistic:                     5056.\n",
       "Date:                Tue, 04 Apr 2023   Prob (F-statistic):               0.00\n",
       "Time:                        23:50:07   Log-Likelihood:            -2.3973e+05\n",
       "No. Observations:               17384   AIC:                         4.795e+05\n",
       "Df Residuals:                   17378   BIC:                         4.795e+05\n",
       "Df Model:                           5                                         \n",
       "Covariance Type:            nonrobust                                         \n",
       "===============================================================================\n",
       "                  coef    std err          t      P>|t|      [0.025      0.975]\n",
       "-------------------------------------------------------------------------------\n",
       "Intercept   -6.908e+07   1.65e+06    -41.940      0.000   -7.23e+07   -6.58e+07\n",
       "sqft_living   312.2586      3.183     98.097      0.000     306.019     318.498\n",
       "bedrooms    -5.959e+04   2482.861    -23.999      0.000   -6.45e+04   -5.47e+04\n",
       "bathrooms    1.571e+04   3587.158      4.379      0.000    8675.552    2.27e+04\n",
       "lat          6.586e+05   1.31e+04     50.286      0.000    6.33e+05    6.84e+05\n",
       "long        -3.094e+05   1.33e+04    -23.331      0.000   -3.35e+05   -2.83e+05\n",
       "==============================================================================\n",
       "Omnibus:                    12962.917   Durbin-Watson:                   2.008\n",
       "Prob(Omnibus):                  0.000   Jarque-Bera (JB):           615844.364\n",
       "Skew:                           3.114   Prob(JB):                         0.00\n",
       "Kurtosis:                      31.486   Cond. No.                     2.10e+06\n",
       "==============================================================================\n",
       "\n",
       "Notes:\n",
       "[1] Standard Errors assume that the covariance matrix of the errors is correctly specified.\n",
       "[2] The condition number is large, 2.1e+06. This might indicate that there are\n",
       "strong multicollinearity or other numerical problems.\n",
       "\"\"\""
      ]
     },
     "execution_count": 97,
     "metadata": {},
     "output_type": "execute_result"
    }
   ],
   "source": [
    "# Se obtienen las predicciones del modelo sobre el conjunto de entrenamiento \n",
    "modelo1.summary()"
   ]
  },
  {
   "cell_type": "markdown",
   "id": "1e5812f3",
   "metadata": {},
   "source": [
    "## Modelo 2"
   ]
  },
  {
   "cell_type": "code",
   "execution_count": 89,
   "id": "aaac14de",
   "metadata": {},
   "outputs": [],
   "source": [
    "X2 = train_data[['sqft_living','bedrooms','bathrooms','lat','long','bed_bath_rooms']]"
   ]
  },
  {
   "cell_type": "code",
   "execution_count": 90,
   "id": "5ad364e1",
   "metadata": {},
   "outputs": [],
   "source": [
    "# Antes de construir el modelo debemos de crear un objeto de la clase Linear Regression\n",
    "\n",
    "#Se crear el objeto para construir el modelo \n",
    "modelo2 = smf.ols(formula ='price~sqft_living + bedrooms + bathrooms + lat + long + bed_bath_rooms' ,data = train_data).fit() "
   ]
  },
  {
   "cell_type": "markdown",
   "id": "708d6e34",
   "metadata": {},
   "source": [
    "A continuacion, se entrena el modelo utilizando el conjunto de entrenamiento \n"
   ]
  },
  {
   "cell_type": "code",
   "execution_count": 91,
   "id": "eaf1a150",
   "metadata": {},
   "outputs": [
    {
     "data": {
      "text/plain": [
       "Intercept        -6.686797e+07\n",
       "sqft_living       3.066101e+02\n",
       "bedrooms         -1.134464e+05\n",
       "bathrooms        -7.146131e+04\n",
       "lat               6.548446e+05\n",
       "long             -2.942990e+05\n",
       "bed_bath_rooms    2.557965e+04\n",
       "dtype: float64"
      ]
     },
     "execution_count": 91,
     "metadata": {},
     "output_type": "execute_result"
    }
   ],
   "source": [
    "# Ajustar el modelo con el conjunto de entrenamiento \n",
    "\n",
    "modelo2.params"
   ]
  },
  {
   "cell_type": "code",
   "execution_count": 96,
   "id": "4e118fde",
   "metadata": {},
   "outputs": [
    {
     "data": {
      "text/html": [
       "<table class=\"simpletable\">\n",
       "<caption>OLS Regression Results</caption>\n",
       "<tr>\n",
       "  <th>Dep. Variable:</th>          <td>price</td>      <th>  R-squared:         </th>  <td>   0.597</td>  \n",
       "</tr>\n",
       "<tr>\n",
       "  <th>Model:</th>                   <td>OLS</td>       <th>  Adj. R-squared:    </th>  <td>   0.596</td>  \n",
       "</tr>\n",
       "<tr>\n",
       "  <th>Method:</th>             <td>Least Squares</td>  <th>  F-statistic:       </th>  <td>   4283.</td>  \n",
       "</tr>\n",
       "<tr>\n",
       "  <th>Date:</th>             <td>Tue, 04 Apr 2023</td> <th>  Prob (F-statistic):</th>   <td>  0.00</td>   \n",
       "</tr>\n",
       "<tr>\n",
       "  <th>Time:</th>                 <td>23:49:51</td>     <th>  Log-Likelihood:    </th> <td>-2.3965e+05</td>\n",
       "</tr>\n",
       "<tr>\n",
       "  <th>No. Observations:</th>      <td> 17384</td>      <th>  AIC:               </th>  <td>4.793e+05</td> \n",
       "</tr>\n",
       "<tr>\n",
       "  <th>Df Residuals:</th>          <td> 17377</td>      <th>  BIC:               </th>  <td>4.794e+05</td> \n",
       "</tr>\n",
       "<tr>\n",
       "  <th>Df Model:</th>              <td>     6</td>      <th>                     </th>      <td> </td>     \n",
       "</tr>\n",
       "<tr>\n",
       "  <th>Covariance Type:</th>      <td>nonrobust</td>    <th>                     </th>      <td> </td>     \n",
       "</tr>\n",
       "</table>\n",
       "<table class=\"simpletable\">\n",
       "<tr>\n",
       "         <td></td>           <th>coef</th>     <th>std err</th>      <th>t</th>      <th>P>|t|</th>  <th>[0.025</th>    <th>0.975]</th>  \n",
       "</tr>\n",
       "<tr>\n",
       "  <th>Intercept</th>      <td>-6.687e+07</td> <td> 1.65e+06</td> <td>  -40.584</td> <td> 0.000</td> <td>-7.01e+07</td> <td>-6.36e+07</td>\n",
       "</tr>\n",
       "<tr>\n",
       "  <th>sqft_living</th>    <td>  306.6101</td> <td>    3.197</td> <td>   95.909</td> <td> 0.000</td> <td>  300.344</td> <td>  312.876</td>\n",
       "</tr>\n",
       "<tr>\n",
       "  <th>bedrooms</th>       <td>-1.134e+05</td> <td> 4797.612</td> <td>  -23.646</td> <td> 0.000</td> <td>-1.23e+05</td> <td>-1.04e+05</td>\n",
       "</tr>\n",
       "<tr>\n",
       "  <th>bathrooms</th>      <td>-7.146e+04</td> <td> 7552.563</td> <td>   -9.462</td> <td> 0.000</td> <td>-8.63e+04</td> <td>-5.67e+04</td>\n",
       "</tr>\n",
       "<tr>\n",
       "  <th>lat</th>            <td> 6.548e+05</td> <td>  1.3e+04</td> <td>   50.230</td> <td> 0.000</td> <td> 6.29e+05</td> <td>  6.8e+05</td>\n",
       "</tr>\n",
       "<tr>\n",
       "  <th>long</th>           <td>-2.943e+05</td> <td> 1.32e+04</td> <td>  -22.218</td> <td> 0.000</td> <td> -3.2e+05</td> <td>-2.68e+05</td>\n",
       "</tr>\n",
       "<tr>\n",
       "  <th>bed_bath_rooms</th> <td> 2.558e+04</td> <td> 1953.134</td> <td>   13.097</td> <td> 0.000</td> <td> 2.18e+04</td> <td> 2.94e+04</td>\n",
       "</tr>\n",
       "</table>\n",
       "<table class=\"simpletable\">\n",
       "<tr>\n",
       "  <th>Omnibus:</th>       <td>12343.124</td> <th>  Durbin-Watson:     </th>  <td>   2.010</td> \n",
       "</tr>\n",
       "<tr>\n",
       "  <th>Prob(Omnibus):</th>  <td> 0.000</td>   <th>  Jarque-Bera (JB):  </th> <td>533516.100</td>\n",
       "</tr>\n",
       "<tr>\n",
       "  <th>Skew:</th>           <td> 2.916</td>   <th>  Prob(JB):          </th>  <td>    0.00</td> \n",
       "</tr>\n",
       "<tr>\n",
       "  <th>Kurtosis:</th>       <td>29.506</td>   <th>  Cond. No.          </th>  <td>2.11e+06</td> \n",
       "</tr>\n",
       "</table><br/><br/>Notes:<br/>[1] Standard Errors assume that the covariance matrix of the errors is correctly specified.<br/>[2] The condition number is large, 2.11e+06. This might indicate that there are<br/>strong multicollinearity or other numerical problems."
      ],
      "text/plain": [
       "<class 'statsmodels.iolib.summary.Summary'>\n",
       "\"\"\"\n",
       "                            OLS Regression Results                            \n",
       "==============================================================================\n",
       "Dep. Variable:                  price   R-squared:                       0.597\n",
       "Model:                            OLS   Adj. R-squared:                  0.596\n",
       "Method:                 Least Squares   F-statistic:                     4283.\n",
       "Date:                Tue, 04 Apr 2023   Prob (F-statistic):               0.00\n",
       "Time:                        23:49:51   Log-Likelihood:            -2.3965e+05\n",
       "No. Observations:               17384   AIC:                         4.793e+05\n",
       "Df Residuals:                   17377   BIC:                         4.794e+05\n",
       "Df Model:                           6                                         \n",
       "Covariance Type:            nonrobust                                         \n",
       "==================================================================================\n",
       "                     coef    std err          t      P>|t|      [0.025      0.975]\n",
       "----------------------------------------------------------------------------------\n",
       "Intercept      -6.687e+07   1.65e+06    -40.584      0.000   -7.01e+07   -6.36e+07\n",
       "sqft_living      306.6101      3.197     95.909      0.000     300.344     312.876\n",
       "bedrooms       -1.134e+05   4797.612    -23.646      0.000   -1.23e+05   -1.04e+05\n",
       "bathrooms      -7.146e+04   7552.563     -9.462      0.000   -8.63e+04   -5.67e+04\n",
       "lat             6.548e+05    1.3e+04     50.230      0.000    6.29e+05     6.8e+05\n",
       "long           -2.943e+05   1.32e+04    -22.218      0.000    -3.2e+05   -2.68e+05\n",
       "bed_bath_rooms  2.558e+04   1953.134     13.097      0.000    2.18e+04    2.94e+04\n",
       "==============================================================================\n",
       "Omnibus:                    12343.124   Durbin-Watson:                   2.010\n",
       "Prob(Omnibus):                  0.000   Jarque-Bera (JB):           533516.100\n",
       "Skew:                           2.916   Prob(JB):                         0.00\n",
       "Kurtosis:                      29.506   Cond. No.                     2.11e+06\n",
       "==============================================================================\n",
       "\n",
       "Notes:\n",
       "[1] Standard Errors assume that the covariance matrix of the errors is correctly specified.\n",
       "[2] The condition number is large, 2.11e+06. This might indicate that there are\n",
       "strong multicollinearity or other numerical problems.\n",
       "\"\"\""
      ]
     },
     "execution_count": 96,
     "metadata": {},
     "output_type": "execute_result"
    }
   ],
   "source": [
    "# Se obtienen las predicciones del modelo sobre el conjunto de entrenamiento \n",
    "modelo2.summary()"
   ]
  },
  {
   "cell_type": "markdown",
   "id": "f31fcdb2",
   "metadata": {},
   "source": [
    "## Modelo 3"
   ]
  },
  {
   "cell_type": "code",
   "execution_count": 74,
   "id": "4c32fb9d",
   "metadata": {},
   "outputs": [],
   "source": [
    "X3 = train_data[['sqft_living','bedrooms','bathrooms','lat','long','bed_bath_rooms','bedrooms_squared',\n",
    "                'log_sqft_living','lat_plus_long']]"
   ]
  },
  {
   "cell_type": "code",
   "execution_count": 62,
   "id": "c4282a0e",
   "metadata": {},
   "outputs": [],
   "source": [
    "# Antes de construir el modelo debemos de crear un objeto de la clase Linear Regression\n",
    "\n",
    "#Se crear el objeto para construir el modelo \n",
    "modelo3 = smf.ols(formula ='price~sqft_living + bedrooms + bathrooms + lat + long + bed_bath_rooms + bedrooms_squared + log_sqft_living + lat_plus_long' ,data = train_data).fit() "
   ]
  },
  {
   "cell_type": "markdown",
   "id": "708d6e34",
   "metadata": {},
   "source": [
    "A continuacion, se entrena el modelo utilizando el conjunto de entrenamiento \n"
   ]
  },
  {
   "cell_type": "code",
   "execution_count": 63,
   "id": "eaf1a150",
   "metadata": {},
   "outputs": [
    {
     "data": {
      "text/plain": [
       "Intercept          -6.203608e+07\n",
       "sqft_living         5.294228e+02\n",
       "bedrooms            3.451423e+04\n",
       "bathrooms           6.706078e+04\n",
       "lat                 5.340856e+05\n",
       "long               -4.067507e+05\n",
       "bed_bath_rooms     -8.570504e+03\n",
       "bedrooms_squared   -6.788587e+03\n",
       "log_sqft_living    -5.618315e+05\n",
       "lat_plus_long       1.273349e+05\n",
       "dtype: float64"
      ]
     },
     "execution_count": 63,
     "metadata": {},
     "output_type": "execute_result"
    }
   ],
   "source": [
    "# Ajustar el modelo con el conjunto de entrenamiento \n",
    "\n",
    "modelo3.params"
   ]
  },
  {
   "cell_type": "code",
   "execution_count": 65,
   "id": "bd7b852b",
   "metadata": {},
   "outputs": [
    {
     "data": {
      "text/html": [
       "<table class=\"simpletable\">\n",
       "<caption>OLS Regression Results</caption>\n",
       "<tr>\n",
       "  <th>Dep. Variable:</th>          <td>price</td>      <th>  R-squared:         </th>  <td>   0.620</td>  \n",
       "</tr>\n",
       "<tr>\n",
       "  <th>Model:</th>                   <td>OLS</td>       <th>  Adj. R-squared:    </th>  <td>   0.620</td>  \n",
       "</tr>\n",
       "<tr>\n",
       "  <th>Method:</th>             <td>Least Squares</td>  <th>  F-statistic:       </th>  <td>   3539.</td>  \n",
       "</tr>\n",
       "<tr>\n",
       "  <th>Date:</th>             <td>Tue, 04 Apr 2023</td> <th>  Prob (F-statistic):</th>   <td>  0.00</td>   \n",
       "</tr>\n",
       "<tr>\n",
       "  <th>Time:</th>                 <td>23:30:06</td>     <th>  Log-Likelihood:    </th> <td>-2.3913e+05</td>\n",
       "</tr>\n",
       "<tr>\n",
       "  <th>No. Observations:</th>      <td> 17384</td>      <th>  AIC:               </th>  <td>4.783e+05</td> \n",
       "</tr>\n",
       "<tr>\n",
       "  <th>Df Residuals:</th>          <td> 17375</td>      <th>  BIC:               </th>  <td>4.784e+05</td> \n",
       "</tr>\n",
       "<tr>\n",
       "  <th>Df Model:</th>              <td>     8</td>      <th>                     </th>      <td> </td>     \n",
       "</tr>\n",
       "<tr>\n",
       "  <th>Covariance Type:</th>      <td>nonrobust</td>    <th>                     </th>      <td> </td>     \n",
       "</tr>\n",
       "</table>\n",
       "<table class=\"simpletable\">\n",
       "<tr>\n",
       "          <td></td>            <th>coef</th>     <th>std err</th>      <th>t</th>      <th>P>|t|</th>  <th>[0.025</th>    <th>0.975]</th>  \n",
       "</tr>\n",
       "<tr>\n",
       "  <th>Intercept</th>        <td>-6.204e+07</td> <td> 1.61e+06</td> <td>  -38.449</td> <td> 0.000</td> <td>-6.52e+07</td> <td>-5.89e+07</td>\n",
       "</tr>\n",
       "<tr>\n",
       "  <th>sqft_living</th>      <td>  529.4228</td> <td>    7.691</td> <td>   68.836</td> <td> 0.000</td> <td>  514.348</td> <td>  544.498</td>\n",
       "</tr>\n",
       "<tr>\n",
       "  <th>bedrooms</th>         <td> 3.451e+04</td> <td> 9385.891</td> <td>    3.677</td> <td> 0.000</td> <td> 1.61e+04</td> <td> 5.29e+04</td>\n",
       "</tr>\n",
       "<tr>\n",
       "  <th>bathrooms</th>        <td> 6.706e+04</td> <td> 1.08e+04</td> <td>    6.219</td> <td> 0.000</td> <td> 4.59e+04</td> <td> 8.82e+04</td>\n",
       "</tr>\n",
       "<tr>\n",
       "  <th>lat</th>              <td> 5.341e+05</td> <td> 8907.125</td> <td>   59.962</td> <td> 0.000</td> <td> 5.17e+05</td> <td> 5.52e+05</td>\n",
       "</tr>\n",
       "<tr>\n",
       "  <th>long</th>             <td>-4.068e+05</td> <td> 9007.995</td> <td>  -45.154</td> <td> 0.000</td> <td>-4.24e+05</td> <td>-3.89e+05</td>\n",
       "</tr>\n",
       "<tr>\n",
       "  <th>bed_bath_rooms</th>   <td>-8570.5044</td> <td> 2855.965</td> <td>   -3.001</td> <td> 0.003</td> <td>-1.42e+04</td> <td>-2972.526</td>\n",
       "</tr>\n",
       "<tr>\n",
       "  <th>bedrooms_squared</th> <td>-6788.5867</td> <td> 1493.406</td> <td>   -4.546</td> <td> 0.000</td> <td>-9715.813</td> <td>-3861.360</td>\n",
       "</tr>\n",
       "<tr>\n",
       "  <th>log_sqft_living</th>  <td>-5.618e+05</td> <td> 1.75e+04</td> <td>  -32.014</td> <td> 0.000</td> <td>-5.96e+05</td> <td>-5.27e+05</td>\n",
       "</tr>\n",
       "<tr>\n",
       "  <th>lat_plus_long</th>    <td> 1.273e+05</td> <td> 6450.344</td> <td>   19.741</td> <td> 0.000</td> <td> 1.15e+05</td> <td>  1.4e+05</td>\n",
       "</tr>\n",
       "</table>\n",
       "<table class=\"simpletable\">\n",
       "<tr>\n",
       "  <th>Omnibus:</th>       <td>10094.582</td> <th>  Durbin-Watson:     </th>  <td>   2.005</td> \n",
       "</tr>\n",
       "<tr>\n",
       "  <th>Prob(Omnibus):</th>  <td> 0.000</td>   <th>  Jarque-Bera (JB):  </th> <td>319322.176</td>\n",
       "</tr>\n",
       "<tr>\n",
       "  <th>Skew:</th>           <td> 2.240</td>   <th>  Prob(JB):          </th>  <td>    0.00</td> \n",
       "</tr>\n",
       "<tr>\n",
       "  <th>Kurtosis:</th>       <td>23.513</td>   <th>  Cond. No.          </th>  <td>4.64e+17</td> \n",
       "</tr>\n",
       "</table><br/><br/>Notes:<br/>[1] Standard Errors assume that the covariance matrix of the errors is correctly specified.<br/>[2] The smallest eigenvalue is 4.2e-25. This might indicate that there are<br/>strong multicollinearity problems or that the design matrix is singular."
      ],
      "text/plain": [
       "<class 'statsmodels.iolib.summary.Summary'>\n",
       "\"\"\"\n",
       "                            OLS Regression Results                            \n",
       "==============================================================================\n",
       "Dep. Variable:                  price   R-squared:                       0.620\n",
       "Model:                            OLS   Adj. R-squared:                  0.620\n",
       "Method:                 Least Squares   F-statistic:                     3539.\n",
       "Date:                Tue, 04 Apr 2023   Prob (F-statistic):               0.00\n",
       "Time:                        23:30:06   Log-Likelihood:            -2.3913e+05\n",
       "No. Observations:               17384   AIC:                         4.783e+05\n",
       "Df Residuals:                   17375   BIC:                         4.784e+05\n",
       "Df Model:                           8                                         \n",
       "Covariance Type:            nonrobust                                         \n",
       "====================================================================================\n",
       "                       coef    std err          t      P>|t|      [0.025      0.975]\n",
       "------------------------------------------------------------------------------------\n",
       "Intercept        -6.204e+07   1.61e+06    -38.449      0.000   -6.52e+07   -5.89e+07\n",
       "sqft_living        529.4228      7.691     68.836      0.000     514.348     544.498\n",
       "bedrooms          3.451e+04   9385.891      3.677      0.000    1.61e+04    5.29e+04\n",
       "bathrooms         6.706e+04   1.08e+04      6.219      0.000    4.59e+04    8.82e+04\n",
       "lat               5.341e+05   8907.125     59.962      0.000    5.17e+05    5.52e+05\n",
       "long             -4.068e+05   9007.995    -45.154      0.000   -4.24e+05   -3.89e+05\n",
       "bed_bath_rooms   -8570.5044   2855.965     -3.001      0.003   -1.42e+04   -2972.526\n",
       "bedrooms_squared -6788.5867   1493.406     -4.546      0.000   -9715.813   -3861.360\n",
       "log_sqft_living  -5.618e+05   1.75e+04    -32.014      0.000   -5.96e+05   -5.27e+05\n",
       "lat_plus_long     1.273e+05   6450.344     19.741      0.000    1.15e+05     1.4e+05\n",
       "==============================================================================\n",
       "Omnibus:                    10094.582   Durbin-Watson:                   2.005\n",
       "Prob(Omnibus):                  0.000   Jarque-Bera (JB):           319322.176\n",
       "Skew:                           2.240   Prob(JB):                         0.00\n",
       "Kurtosis:                      23.513   Cond. No.                     4.64e+17\n",
       "==============================================================================\n",
       "\n",
       "Notes:\n",
       "[1] Standard Errors assume that the covariance matrix of the errors is correctly specified.\n",
       "[2] The smallest eigenvalue is 4.2e-25. This might indicate that there are\n",
       "strong multicollinearity problems or that the design matrix is singular.\n",
       "\"\"\""
      ]
     },
     "execution_count": 65,
     "metadata": {},
     "output_type": "execute_result"
    }
   ],
   "source": [
    "# Se obtienen las predicciones del modelo sobre el conjunto de entrenamiento \n",
    "modelo3.summary()"
   ]
  },
  {
   "cell_type": "markdown",
   "id": "c3e2d44f",
   "metadata": {},
   "source": [
    "6. Quiz Question: What is the sign (positive or negative) for the coefficient/weight for ‘bathrooms’ in Model 1? \n",
    "\n",
    "R = Positivo\n",
    "\n",
    "bathrooms    1.571e+04 \n"
   ]
  },
  {
   "cell_type": "markdown",
   "id": "d40d484b",
   "metadata": {},
   "source": [
    "7. Quiz Question: What is the sign (positive or negative) for the coefficient/weight for ‘bathrooms’ in Model 2?\n",
    "\n",
    "R = Negativo\n",
    "\n",
    "bathrooms      -7.146e+04"
   ]
  },
  {
   "cell_type": "markdown",
   "id": "60b83ced",
   "metadata": {},
   "source": [
    "9. Now using your three estimated models compute the RSS (Residual Sum of Squares) on the Training data."
   ]
  },
  {
   "cell_type": "code",
   "execution_count": 128,
   "id": "2c0be7df",
   "metadata": {},
   "outputs": [
    {
     "name": "stdout",
     "output_type": "stream",
     "text": [
      "MSE: 55676481997.79\n",
      "RMSE: 235958.64\n",
      "MAE: 148356.91\n",
      "R2: 0.59\n",
      "RSS: 967879963049546.1\n"
     ]
    }
   ],
   "source": [
    "#Modelo 1 \n",
    "metricas(X,Y,modelo1)"
   ]
  },
  {
   "cell_type": "code",
   "execution_count": 130,
   "id": "09121f37",
   "metadata": {},
   "outputs": [
    {
     "name": "stdout",
     "output_type": "stream",
     "text": [
      "MSE: 55132284576.28\n",
      "RMSE: 234802.65\n",
      "MAE: 147253.48\n",
      "R2: 0.60\n",
      "RSS: 958419635074068.8\n"
     ]
    }
   ],
   "source": [
    "# Modelo 2 \n",
    "metricas(X2,Y,modelo2)"
   ]
  },
  {
   "cell_type": "code",
   "execution_count": 132,
   "id": "1071a30a",
   "metadata": {},
   "outputs": [
    {
     "name": "stdout",
     "output_type": "stream",
     "text": [
      "MSE: 51969423323.20\n",
      "RMSE: 227968.03\n",
      "MAE: 141902.82\n",
      "R2: 0.62\n",
      "RSS: 903436455050477.8\n"
     ]
    }
   ],
   "source": [
    "# Modelo 3 \n",
    "metricas(X3,Y,modelo3)"
   ]
  },
  {
   "cell_type": "markdown",
   "id": "711baa45",
   "metadata": {},
   "source": [
    "10. Quiz Question: Which model (1, 2 or 3) had the lowest RSS on TRAINING data?\n",
    "\n",
    "El Modelo 3 tiene el RSS mas bajo"
   ]
  },
  {
   "cell_type": "markdown",
   "id": "d26a3aa9",
   "metadata": {},
   "source": [
    "11. Now using your three estimated models compute the RSS on the Testing data"
   ]
  },
  {
   "cell_type": "code",
   "execution_count": 133,
   "id": "259e6e9a",
   "metadata": {},
   "outputs": [],
   "source": [
    "Y_test = test_data[['price']]"
   ]
  },
  {
   "cell_type": "code",
   "execution_count": 134,
   "id": "d2b69c28",
   "metadata": {},
   "outputs": [
    {
     "name": "stdout",
     "output_type": "stream",
     "text": [
      "MSE: 53322409504.73\n",
      "RMSE: 230916.46\n",
      "MAE: 148068.18\n",
      "R2: 0.58\n",
      "RSS: 225500469795490.8\n"
     ]
    }
   ],
   "source": [
    "#Modelo 1 \n",
    "X_test = test_data[['sqft_living','bedrooms','bathrooms','lat','long']]\n",
    "metricas(X_test,Y_test,modelo1)"
   ]
  },
  {
   "cell_type": "code",
   "execution_count": 135,
   "id": "849b8da0",
   "metadata": {},
   "outputs": [
    {
     "name": "stdout",
     "output_type": "stream",
     "text": [
      "MSE: 52820397960.86\n",
      "RMSE: 229826.89\n",
      "MAE: 147139.64\n",
      "R2: 0.58\n",
      "RSS: 223377462976467.47\n"
     ]
    }
   ],
   "source": [
    "# Modelo 2 \n",
    "X2_test = test_data[['sqft_living','bedrooms','bathrooms','lat','long','bed_bath_rooms']]\n",
    "metricas(X2_test,Y_test,modelo2)"
   ]
  },
  {
   "cell_type": "code",
   "execution_count": 139,
   "id": "4fab6cb2",
   "metadata": {},
   "outputs": [
    {
     "name": "stdout",
     "output_type": "stream",
     "text": [
      "MSE: 61299673494.25\n",
      "RMSE: 247587.71\n",
      "MAE: 145316.27\n",
      "R2: 0.52\n",
      "RSS: 259236319207169.97\n"
     ]
    }
   ],
   "source": [
    "# Modelo 3 \n",
    "X3_test = test_data[['sqft_living','bedrooms','bathrooms','lat','long','bed_bath_rooms','bedrooms_squared',\n",
    "                'log_sqft_living','lat_plus_long']]\n",
    "\n",
    "metricas(X3_test,Y_test,modelo3)"
   ]
  },
  {
   "cell_type": "markdown",
   "id": "c11717a9",
   "metadata": {},
   "source": [
    "12. Quiz Question: Which model (1, 2, or 3) had the lowest RSS on TESTING data?\n",
    "\n",
    "El Modelo 2 tiene el RSS mas bajo sobre el testing_data"
   ]
  },
  {
   "cell_type": "markdown",
   "id": "bb67033b",
   "metadata": {},
   "source": [
    "13. Did you get the same answer for 9 and 11? Think about why this might be the case.\n",
    "\n",
    "No, no obtuve la misma respuesta, "
   ]
  },
  {
   "cell_type": "code",
   "execution_count": null,
   "id": "7fd7d1c7",
   "metadata": {},
   "outputs": [],
   "source": []
  }
 ],
 "metadata": {
  "kernelspec": {
   "display_name": "Python 3 (ipykernel)",
   "language": "python",
   "name": "python3"
  },
  "language_info": {
   "codemirror_mode": {
    "name": "ipython",
    "version": 3
   },
   "file_extension": ".py",
   "mimetype": "text/x-python",
   "name": "python",
   "nbconvert_exporter": "python",
   "pygments_lexer": "ipython3",
   "version": "3.9.7"
  }
 },
 "nbformat": 4,
 "nbformat_minor": 5
}
