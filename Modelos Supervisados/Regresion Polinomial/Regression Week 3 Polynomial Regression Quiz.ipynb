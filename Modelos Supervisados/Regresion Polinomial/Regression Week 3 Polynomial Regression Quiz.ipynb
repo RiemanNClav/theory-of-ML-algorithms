{
 "cells": [
  {
   "cell_type": "code",
   "execution_count": 83,
   "id": "258ca618",
   "metadata": {},
   "outputs": [],
   "source": [
    "import os \n",
    "import pandas as pd \n",
    "import numpy as np \n",
    "import matplotlib.pyplot as plt\n",
    "import seaborn as sns\n",
    "from functools import reduce\n",
    "\n",
    "#librerias para relizar aprendizaje automatico \n",
    "##para separar el conjunto de datos en entrenamiento y test \n",
    "from sklearn.model_selection import train_test_split \n",
    "\n",
    "#construir el modelo con el algoritmo de regresion lineal\n",
    "from sklearn.linear_model import LinearRegression\n",
    "\n",
    "#para determinar el rendimiento del modelo con las metricas MSE, MAE y R2\n",
    "from sklearn.metrics import mean_squared_error, mean_absolute_error, r2_score\n",
    "\n",
    "#para sacar un reporte estadistico que podemos usar para determinar la importancia de las variables explicativas \n",
    "import statsmodels.api as sm\n",
    "\n",
    "#Con este paquete crearemos un modelo lineal. \n",
    "import statsmodels.formula.api as smf\n"
   ]
  },
  {
   "cell_type": "code",
   "execution_count": 28,
   "id": "75a6470c",
   "metadata": {},
   "outputs": [],
   "source": [
    "df = pd.read_csv('C:/Users/XMX5634/Documents/theory-of-ML-algorithms/Datasets/kc_house_data.csv')"
   ]
  },
  {
   "cell_type": "code",
   "execution_count": 3,
   "id": "fd0c0e38",
   "metadata": {},
   "outputs": [
    {
     "data": {
      "text/html": [
       "<div>\n",
       "<style scoped>\n",
       "    .dataframe tbody tr th:only-of-type {\n",
       "        vertical-align: middle;\n",
       "    }\n",
       "\n",
       "    .dataframe tbody tr th {\n",
       "        vertical-align: top;\n",
       "    }\n",
       "\n",
       "    .dataframe thead th {\n",
       "        text-align: right;\n",
       "    }\n",
       "</style>\n",
       "<table border=\"1\" class=\"dataframe\">\n",
       "  <thead>\n",
       "    <tr style=\"text-align: right;\">\n",
       "      <th></th>\n",
       "      <th>id</th>\n",
       "      <th>date</th>\n",
       "      <th>price</th>\n",
       "      <th>bedrooms</th>\n",
       "      <th>bathrooms</th>\n",
       "      <th>sqft_living</th>\n",
       "      <th>sqft_lot</th>\n",
       "      <th>floors</th>\n",
       "      <th>waterfront</th>\n",
       "      <th>view</th>\n",
       "      <th>...</th>\n",
       "      <th>grade</th>\n",
       "      <th>sqft_above</th>\n",
       "      <th>sqft_basement</th>\n",
       "      <th>yr_built</th>\n",
       "      <th>yr_renovated</th>\n",
       "      <th>zipcode</th>\n",
       "      <th>lat</th>\n",
       "      <th>long</th>\n",
       "      <th>sqft_living15</th>\n",
       "      <th>sqft_lot15</th>\n",
       "    </tr>\n",
       "  </thead>\n",
       "  <tbody>\n",
       "    <tr>\n",
       "      <th>0</th>\n",
       "      <td>7129300520</td>\n",
       "      <td>20141013T000000</td>\n",
       "      <td>221900.0</td>\n",
       "      <td>3</td>\n",
       "      <td>1.00</td>\n",
       "      <td>1180</td>\n",
       "      <td>5650</td>\n",
       "      <td>1.0</td>\n",
       "      <td>0</td>\n",
       "      <td>0</td>\n",
       "      <td>...</td>\n",
       "      <td>7</td>\n",
       "      <td>1180</td>\n",
       "      <td>0</td>\n",
       "      <td>1955</td>\n",
       "      <td>0</td>\n",
       "      <td>98178</td>\n",
       "      <td>47.5112</td>\n",
       "      <td>-122.257</td>\n",
       "      <td>1340</td>\n",
       "      <td>5650</td>\n",
       "    </tr>\n",
       "    <tr>\n",
       "      <th>1</th>\n",
       "      <td>6414100192</td>\n",
       "      <td>20141209T000000</td>\n",
       "      <td>538000.0</td>\n",
       "      <td>3</td>\n",
       "      <td>2.25</td>\n",
       "      <td>2570</td>\n",
       "      <td>7242</td>\n",
       "      <td>2.0</td>\n",
       "      <td>0</td>\n",
       "      <td>0</td>\n",
       "      <td>...</td>\n",
       "      <td>7</td>\n",
       "      <td>2170</td>\n",
       "      <td>400</td>\n",
       "      <td>1951</td>\n",
       "      <td>1991</td>\n",
       "      <td>98125</td>\n",
       "      <td>47.7210</td>\n",
       "      <td>-122.319</td>\n",
       "      <td>1690</td>\n",
       "      <td>7639</td>\n",
       "    </tr>\n",
       "    <tr>\n",
       "      <th>2</th>\n",
       "      <td>5631500400</td>\n",
       "      <td>20150225T000000</td>\n",
       "      <td>180000.0</td>\n",
       "      <td>2</td>\n",
       "      <td>1.00</td>\n",
       "      <td>770</td>\n",
       "      <td>10000</td>\n",
       "      <td>1.0</td>\n",
       "      <td>0</td>\n",
       "      <td>0</td>\n",
       "      <td>...</td>\n",
       "      <td>6</td>\n",
       "      <td>770</td>\n",
       "      <td>0</td>\n",
       "      <td>1933</td>\n",
       "      <td>0</td>\n",
       "      <td>98028</td>\n",
       "      <td>47.7379</td>\n",
       "      <td>-122.233</td>\n",
       "      <td>2720</td>\n",
       "      <td>8062</td>\n",
       "    </tr>\n",
       "    <tr>\n",
       "      <th>3</th>\n",
       "      <td>2487200875</td>\n",
       "      <td>20141209T000000</td>\n",
       "      <td>604000.0</td>\n",
       "      <td>4</td>\n",
       "      <td>3.00</td>\n",
       "      <td>1960</td>\n",
       "      <td>5000</td>\n",
       "      <td>1.0</td>\n",
       "      <td>0</td>\n",
       "      <td>0</td>\n",
       "      <td>...</td>\n",
       "      <td>7</td>\n",
       "      <td>1050</td>\n",
       "      <td>910</td>\n",
       "      <td>1965</td>\n",
       "      <td>0</td>\n",
       "      <td>98136</td>\n",
       "      <td>47.5208</td>\n",
       "      <td>-122.393</td>\n",
       "      <td>1360</td>\n",
       "      <td>5000</td>\n",
       "    </tr>\n",
       "    <tr>\n",
       "      <th>4</th>\n",
       "      <td>1954400510</td>\n",
       "      <td>20150218T000000</td>\n",
       "      <td>510000.0</td>\n",
       "      <td>3</td>\n",
       "      <td>2.00</td>\n",
       "      <td>1680</td>\n",
       "      <td>8080</td>\n",
       "      <td>1.0</td>\n",
       "      <td>0</td>\n",
       "      <td>0</td>\n",
       "      <td>...</td>\n",
       "      <td>8</td>\n",
       "      <td>1680</td>\n",
       "      <td>0</td>\n",
       "      <td>1987</td>\n",
       "      <td>0</td>\n",
       "      <td>98074</td>\n",
       "      <td>47.6168</td>\n",
       "      <td>-122.045</td>\n",
       "      <td>1800</td>\n",
       "      <td>7503</td>\n",
       "    </tr>\n",
       "  </tbody>\n",
       "</table>\n",
       "<p>5 rows × 21 columns</p>\n",
       "</div>"
      ],
      "text/plain": [
       "           id             date     price  bedrooms  bathrooms  sqft_living  \\\n",
       "0  7129300520  20141013T000000  221900.0         3       1.00         1180   \n",
       "1  6414100192  20141209T000000  538000.0         3       2.25         2570   \n",
       "2  5631500400  20150225T000000  180000.0         2       1.00          770   \n",
       "3  2487200875  20141209T000000  604000.0         4       3.00         1960   \n",
       "4  1954400510  20150218T000000  510000.0         3       2.00         1680   \n",
       "\n",
       "   sqft_lot  floors  waterfront  view  ...  grade  sqft_above  sqft_basement  \\\n",
       "0      5650     1.0           0     0  ...      7        1180              0   \n",
       "1      7242     2.0           0     0  ...      7        2170            400   \n",
       "2     10000     1.0           0     0  ...      6         770              0   \n",
       "3      5000     1.0           0     0  ...      7        1050            910   \n",
       "4      8080     1.0           0     0  ...      8        1680              0   \n",
       "\n",
       "   yr_built  yr_renovated  zipcode      lat     long  sqft_living15  \\\n",
       "0      1955             0    98178  47.5112 -122.257           1340   \n",
       "1      1951          1991    98125  47.7210 -122.319           1690   \n",
       "2      1933             0    98028  47.7379 -122.233           2720   \n",
       "3      1965             0    98136  47.5208 -122.393           1360   \n",
       "4      1987             0    98074  47.6168 -122.045           1800   \n",
       "\n",
       "   sqft_lot15  \n",
       "0        5650  \n",
       "1        7639  \n",
       "2        8062  \n",
       "3        5000  \n",
       "4        7503  \n",
       "\n",
       "[5 rows x 21 columns]"
      ]
     },
     "execution_count": 3,
     "metadata": {},
     "output_type": "execute_result"
    }
   ],
   "source": [
    "df.head(5)"
   ]
  },
  {
   "cell_type": "code",
   "execution_count": 188,
   "id": "b888a334",
   "metadata": {},
   "outputs": [],
   "source": [
    "training = pd.read_csv('C:/Users/XMX5634/Documents/theory-of-ML-algorithms/Datasets/wk3_kc_house_train_data.csv')"
   ]
  },
  {
   "cell_type": "code",
   "execution_count": 9,
   "id": "dac73a35",
   "metadata": {},
   "outputs": [
    {
     "data": {
      "text/plain": [
       "45.16263360014806"
      ]
     },
     "execution_count": 9,
     "metadata": {},
     "output_type": "execute_result"
    }
   ],
   "source": [
    "(len(train_data) / len(df)) * 100"
   ]
  },
  {
   "cell_type": "code",
   "execution_count": 186,
   "id": "d83eaa20",
   "metadata": {},
   "outputs": [],
   "source": [
    "validation = pd.read_csv('C:/Users/XMX5634/Documents/theory-of-ML-algorithms/Datasets/wk3_kc_house_valid_data.csv')"
   ]
  },
  {
   "cell_type": "code",
   "execution_count": 13,
   "id": "06da5c82",
   "metadata": {},
   "outputs": [
    {
     "data": {
      "text/plain": [
       "44.57965113589044"
      ]
     },
     "execution_count": 13,
     "metadata": {},
     "output_type": "execute_result"
    }
   ],
   "source": [
    "(len(valid_data) / len(df)) * 100"
   ]
  },
  {
   "cell_type": "code",
   "execution_count": 187,
   "id": "f3ea6ed7",
   "metadata": {},
   "outputs": [],
   "source": [
    "test_data = pd.read_csv('C:/Users/XMX5634/Documents/theory-of-ML-algorithms/Datasets/wk3_kc_house_test_data.csv')"
   ]
  },
  {
   "cell_type": "code",
   "execution_count": 15,
   "id": "d60b7786",
   "metadata": {},
   "outputs": [
    {
     "data": {
      "text/plain": [
       "10.257715263961504"
      ]
     },
     "execution_count": 15,
     "metadata": {},
     "output_type": "execute_result"
    }
   ],
   "source": [
    "(len(test_data) / len(df)) * 100"
   ]
  },
  {
   "cell_type": "code",
   "execution_count": 17,
   "id": "28bf7e2a",
   "metadata": {},
   "outputs": [],
   "source": [
    "set1 = pd.read_csv('C:/Users/XMX5634/Documents/theory-of-ML-algorithms/Datasets/wk3_kc_house_set_1_data.csv')"
   ]
  },
  {
   "cell_type": "code",
   "execution_count": 18,
   "id": "8380c725",
   "metadata": {},
   "outputs": [],
   "source": [
    "set2 = pd.read_csv('C:/Users/XMX5634/Documents/theory-of-ML-algorithms/Datasets/wk3_kc_house_set_2_data.csv')"
   ]
  },
  {
   "cell_type": "code",
   "execution_count": 19,
   "id": "6dc4faae",
   "metadata": {},
   "outputs": [],
   "source": [
    "set3 = pd.read_csv('C:/Users/XMX5634/Documents/theory-of-ML-algorithms/Datasets/wk3_kc_house_set_3_data.csv')"
   ]
  },
  {
   "cell_type": "code",
   "execution_count": 20,
   "id": "06a17a0f",
   "metadata": {},
   "outputs": [],
   "source": [
    "set4 = pd.read_csv('C:/Users/XMX5634/Documents/theory-of-ML-algorithms/Datasets/wk3_kc_house_set_4_data.csv')"
   ]
  },
  {
   "cell_type": "code",
   "execution_count": null,
   "id": "fe8bdbc8",
   "metadata": {},
   "outputs": [],
   "source": []
  },
  {
   "cell_type": "markdown",
   "id": "fd53a504",
   "metadata": {},
   "source": [
    "2. Write your own function called ‘polynomial_sframe’ (or otherwise) which accepts an array ‘feature’ and a maximal ‘degree’ and returns an data frame (e.g. SFrame) with the first column equal to ‘feature’ and the remaining columns equal to ‘feature’ to increasing integer powers up to ‘degree’."
   ]
  },
  {
   "cell_type": "code",
   "execution_count": 24,
   "id": "80e03d86",
   "metadata": {},
   "outputs": [],
   "source": [
    "def polynomial_dataframe(feature, degree): # feature is pandas.Series type\n",
    "    import pandas\n",
    "    # assume that degree >= 1\n",
    "    # initialize the dataframe:\n",
    "    poly_dataframe = pandas.DataFrame()\n",
    "    # and set poly_dataframe['power_1'] equal to the passed feature\n",
    "    poly_dataframe['power_1'] = feature\n",
    "    # first check if degree > 1\n",
    "    if degree > 1:\n",
    "        # then loop over the remaining degrees:\n",
    "        for power in range(2, degree+1):\n",
    "            # first we'll give the column a name:\n",
    "            name = 'power_' + str(power)\n",
    "            # assign poly_dataframe[name] to be feature^power; use apply(*)\n",
    "            poly_dataframe[name] = feature ** power\n",
    "    return poly_dataframe"
   ]
  },
  {
   "cell_type": "code",
   "execution_count": 26,
   "id": "80371c7a",
   "metadata": {},
   "outputs": [
    {
     "data": {
      "text/html": [
       "<div>\n",
       "<style scoped>\n",
       "    .dataframe tbody tr th:only-of-type {\n",
       "        vertical-align: middle;\n",
       "    }\n",
       "\n",
       "    .dataframe tbody tr th {\n",
       "        vertical-align: top;\n",
       "    }\n",
       "\n",
       "    .dataframe thead th {\n",
       "        text-align: right;\n",
       "    }\n",
       "</style>\n",
       "<table border=\"1\" class=\"dataframe\">\n",
       "  <thead>\n",
       "    <tr style=\"text-align: right;\">\n",
       "      <th></th>\n",
       "      <th>power_1</th>\n",
       "      <th>power_2</th>\n",
       "      <th>power_3</th>\n",
       "      <th>power_4</th>\n",
       "      <th>power_5</th>\n",
       "    </tr>\n",
       "  </thead>\n",
       "  <tbody>\n",
       "    <tr>\n",
       "      <th>0</th>\n",
       "      <td>221900.0</td>\n",
       "      <td>4.923961e+10</td>\n",
       "      <td>1.092627e+16</td>\n",
       "      <td>2.424539e+21</td>\n",
       "      <td>5.380052e+26</td>\n",
       "    </tr>\n",
       "    <tr>\n",
       "      <th>1</th>\n",
       "      <td>538000.0</td>\n",
       "      <td>2.894440e+11</td>\n",
       "      <td>1.557209e+17</td>\n",
       "      <td>8.377783e+22</td>\n",
       "      <td>4.507247e+28</td>\n",
       "    </tr>\n",
       "    <tr>\n",
       "      <th>2</th>\n",
       "      <td>180000.0</td>\n",
       "      <td>3.240000e+10</td>\n",
       "      <td>5.832000e+15</td>\n",
       "      <td>1.049760e+21</td>\n",
       "      <td>1.889568e+26</td>\n",
       "    </tr>\n",
       "    <tr>\n",
       "      <th>3</th>\n",
       "      <td>604000.0</td>\n",
       "      <td>3.648160e+11</td>\n",
       "      <td>2.203489e+17</td>\n",
       "      <td>1.330907e+23</td>\n",
       "      <td>8.038679e+28</td>\n",
       "    </tr>\n",
       "    <tr>\n",
       "      <th>4</th>\n",
       "      <td>510000.0</td>\n",
       "      <td>2.601000e+11</td>\n",
       "      <td>1.326510e+17</td>\n",
       "      <td>6.765201e+22</td>\n",
       "      <td>3.450253e+28</td>\n",
       "    </tr>\n",
       "    <tr>\n",
       "      <th>...</th>\n",
       "      <td>...</td>\n",
       "      <td>...</td>\n",
       "      <td>...</td>\n",
       "      <td>...</td>\n",
       "      <td>...</td>\n",
       "    </tr>\n",
       "    <tr>\n",
       "      <th>21608</th>\n",
       "      <td>360000.0</td>\n",
       "      <td>1.296000e+11</td>\n",
       "      <td>4.665600e+16</td>\n",
       "      <td>1.679616e+22</td>\n",
       "      <td>6.046618e+27</td>\n",
       "    </tr>\n",
       "    <tr>\n",
       "      <th>21609</th>\n",
       "      <td>400000.0</td>\n",
       "      <td>1.600000e+11</td>\n",
       "      <td>6.400000e+16</td>\n",
       "      <td>2.560000e+22</td>\n",
       "      <td>1.024000e+28</td>\n",
       "    </tr>\n",
       "    <tr>\n",
       "      <th>21610</th>\n",
       "      <td>402101.0</td>\n",
       "      <td>1.616852e+11</td>\n",
       "      <td>6.501379e+16</td>\n",
       "      <td>2.614211e+22</td>\n",
       "      <td>1.051177e+28</td>\n",
       "    </tr>\n",
       "    <tr>\n",
       "      <th>21611</th>\n",
       "      <td>400000.0</td>\n",
       "      <td>1.600000e+11</td>\n",
       "      <td>6.400000e+16</td>\n",
       "      <td>2.560000e+22</td>\n",
       "      <td>1.024000e+28</td>\n",
       "    </tr>\n",
       "    <tr>\n",
       "      <th>21612</th>\n",
       "      <td>325000.0</td>\n",
       "      <td>1.056250e+11</td>\n",
       "      <td>3.432812e+16</td>\n",
       "      <td>1.115664e+22</td>\n",
       "      <td>3.625908e+27</td>\n",
       "    </tr>\n",
       "  </tbody>\n",
       "</table>\n",
       "<p>21613 rows × 5 columns</p>\n",
       "</div>"
      ],
      "text/plain": [
       "        power_1       power_2       power_3       power_4       power_5\n",
       "0      221900.0  4.923961e+10  1.092627e+16  2.424539e+21  5.380052e+26\n",
       "1      538000.0  2.894440e+11  1.557209e+17  8.377783e+22  4.507247e+28\n",
       "2      180000.0  3.240000e+10  5.832000e+15  1.049760e+21  1.889568e+26\n",
       "3      604000.0  3.648160e+11  2.203489e+17  1.330907e+23  8.038679e+28\n",
       "4      510000.0  2.601000e+11  1.326510e+17  6.765201e+22  3.450253e+28\n",
       "...         ...           ...           ...           ...           ...\n",
       "21608  360000.0  1.296000e+11  4.665600e+16  1.679616e+22  6.046618e+27\n",
       "21609  400000.0  1.600000e+11  6.400000e+16  2.560000e+22  1.024000e+28\n",
       "21610  402101.0  1.616852e+11  6.501379e+16  2.614211e+22  1.051177e+28\n",
       "21611  400000.0  1.600000e+11  6.400000e+16  2.560000e+22  1.024000e+28\n",
       "21612  325000.0  1.056250e+11  3.432812e+16  1.115664e+22  3.625908e+27\n",
       "\n",
       "[21613 rows x 5 columns]"
      ]
     },
     "execution_count": 26,
     "metadata": {},
     "output_type": "execute_result"
    }
   ],
   "source": [
    "polynomial_dataframe(df['price'],5)"
   ]
  },
  {
   "cell_type": "markdown",
   "id": "d2e17db4",
   "metadata": {},
   "source": [
    "3. For the remainder of the assignment we will be working with the house Sales data as in the previous notebooks. Load in the data and also sort the sales SFrame by ‘sqft_living’. When we plot the fitted values we want to join them up in a line and this works best if the variable on the X-axis (which will be ‘sqft_living’) is sorted. For houses with identical square footage, we break the tie by their prices."
   ]
  },
  {
   "cell_type": "code",
   "execution_count": 31,
   "id": "4ee03ac5",
   "metadata": {},
   "outputs": [],
   "source": [
    "df = df.sort_values(['sqft_living','price'])"
   ]
  },
  {
   "cell_type": "markdown",
   "id": "0345088e",
   "metadata": {},
   "source": [
    "4. Make a 1 degree polynomial SFrame with sales[‘sqft_living’] as the the feature. Call it ‘poly1_data’.\n"
   ]
  },
  {
   "cell_type": "code",
   "execution_count": 34,
   "id": "0abd6114",
   "metadata": {},
   "outputs": [],
   "source": [
    "poly1_data = polynomial_dataframe(df['sqft_living'],1)"
   ]
  },
  {
   "cell_type": "markdown",
   "id": "eaf18e0f",
   "metadata": {},
   "source": [
    "5. Add sales[‘price’] to poly1_data as this will be our output variable. e.g. if you’re using SFrames\n"
   ]
  },
  {
   "cell_type": "code",
   "execution_count": 35,
   "id": "428279a2",
   "metadata": {},
   "outputs": [],
   "source": [
    "poly1_data['price'] = df['price']"
   ]
  },
  {
   "cell_type": "markdown",
   "id": "99d97204",
   "metadata": {},
   "source": [
    "6. Use `turicreate.linear_regression.create` (or another linear regression library) to compute the regression weights for predicting sales[‘price’] based on the 1 degree polynomial feature ‘sqft_living’. The result should be an intercept and slope. e.g if you’re using Turi Create:"
   ]
  },
  {
   "cell_type": "code",
   "execution_count": 37,
   "id": "9a74b333",
   "metadata": {},
   "outputs": [],
   "source": [
    "modelo = smf.ols(formula ='price ~ power_1' ,data = poly1_data).fit() "
   ]
  },
  {
   "cell_type": "markdown",
   "id": "a75544b4",
   "metadata": {},
   "source": [
    "7. Next use the produce a scatter plot of the training data (just square feet vs price) and add the fitted model. e.g. with matplotlib and SFrames:"
   ]
  },
  {
   "cell_type": "code",
   "execution_count": 41,
   "id": "1f7ccc89",
   "metadata": {},
   "outputs": [
    {
     "data": {
      "text/plain": [
       "[<matplotlib.lines.Line2D at 0x1b8d76b7c70>,\n",
       " <matplotlib.lines.Line2D at 0x1b8d76b7d00>]"
      ]
     },
     "execution_count": 41,
     "metadata": {},
     "output_type": "execute_result"
    },
    {
     "data": {
      "image/png": "[encoded data removed]",
      "text/plain": [
       "<Figure size 432x288 with 1 Axes>"
      ]
     },
     "metadata": {
      "needs_background": "light"
     },
     "output_type": "display_data"
    }
   ],
   "source": [
    "plt.plot(poly1_data['power_1'],poly1_data['price'],'.',\n",
    "poly1_data['power_1'], modelo.predict(poly1_data),'-')"
   ]
  },
  {
   "cell_type": "markdown",
   "id": "d4e36c22",
   "metadata": {},
   "source": [
    "8. Now that you have plotted the results using a 1st degree polynomial, try it again using a 2nd degree and 3rd degree polynomial. Look at the fitted lines, do they appear as you would expect?"
   ]
  },
  {
   "cell_type": "code",
   "execution_count": 42,
   "id": "153244f5",
   "metadata": {},
   "outputs": [],
   "source": [
    "poly2_data = polynomial_dataframe(df['sqft_living'],2)"
   ]
  },
  {
   "cell_type": "code",
   "execution_count": 43,
   "id": "375dff6c",
   "metadata": {},
   "outputs": [],
   "source": [
    "poly2_data['price'] = df['price']"
   ]
  },
  {
   "cell_type": "code",
   "execution_count": 44,
   "id": "5efd3173",
   "metadata": {},
   "outputs": [],
   "source": [
    "modelo2 = smf.ols(formula ='price ~ power_1 + power_2' ,data = poly2_data).fit() "
   ]
  },
  {
   "cell_type": "code",
   "execution_count": 46,
   "id": "553eaf89",
   "metadata": {},
   "outputs": [
    {
     "data": {
      "text/plain": [
       "[<matplotlib.lines.Line2D at 0x1b8d8278700>,\n",
       " <matplotlib.lines.Line2D at 0x1b8d82787c0>]"
      ]
     },
     "execution_count": 46,
     "metadata": {},
     "output_type": "execute_result"
    },
    {
     "data": {
      "image/png": "[encoded data removed]",
      "text/plain": [
       "<Figure size 432x288 with 1 Axes>"
      ]
     },
     "metadata": {
      "needs_background": "light"
     },
     "output_type": "display_data"
    }
   ],
   "source": [
    "plt.plot(poly2_data['power_1'],poly1_data['price'],'.',\n",
    "poly1_data['power_1'], modelo2.predict(poly2_data),'-')"
   ]
  },
  {
   "cell_type": "code",
   "execution_count": 48,
   "id": "8859895f",
   "metadata": {},
   "outputs": [],
   "source": [
    "poly3_data = polynomial_dataframe(df['sqft_living'],3)"
   ]
  },
  {
   "cell_type": "code",
   "execution_count": 49,
   "id": "3cd0f927",
   "metadata": {},
   "outputs": [],
   "source": [
    "poly3_data['price'] = df['price']"
   ]
  },
  {
   "cell_type": "code",
   "execution_count": 50,
   "id": "c01c7567",
   "metadata": {},
   "outputs": [],
   "source": [
    "modelo3 = smf.ols(formula ='price ~ power_1 + power_2 + power_3' ,data = poly3_data).fit() "
   ]
  },
  {
   "cell_type": "code",
   "execution_count": 52,
   "id": "60320600",
   "metadata": {},
   "outputs": [
    {
     "data": {
      "text/plain": [
       "[<matplotlib.lines.Line2D at 0x1b8d87b2490>,\n",
       " <matplotlib.lines.Line2D at 0x1b8d87b2550>]"
      ]
     },
     "execution_count": 52,
     "metadata": {},
     "output_type": "execute_result"
    },
    {
     "data": {
      "image/png": "[encoded data removed]",
      "text/plain": [
       "<Figure size 432x288 with 1 Axes>"
      ]
     },
     "metadata": {
      "needs_background": "light"
     },
     "output_type": "display_data"
    }
   ],
   "source": [
    "plt.plot(poly3_data['power_1'],poly3_data['price'],'.',\n",
    "poly3_data['power_1'], modelo3.predict(poly3_data),'-')"
   ]
  },
  {
   "cell_type": "code",
   "execution_count": null,
   "id": "afdd462a",
   "metadata": {},
   "outputs": [],
   "source": [
    "poly2_data = polynomial_dataframe(df['sqft_living'],2)\n",
    "\n",
    "poly2_data['price'] = df['price']\n",
    "\n",
    "modelo2 = smf.ols(formula ='price ~ power_1 + power_2' ,data = poly2_data).fit() \n",
    "\n",
    "plt.plot(poly2_data['power_1'],poly1_data['price'],'.',\n",
    "poly1_data['power_1'], modelo2.predict(poly2_data),'-')"
   ]
  },
  {
   "cell_type": "markdown",
   "id": "ab1c4d59",
   "metadata": {},
   "source": [
    "9. Now try a 15th degree polynomial. Print out the coefficients and look at the resulted fitted line. Do you think this degree is appropriate for these data? If we were to use a different subset of the data do you think we would get pretty much the same curve?"
   ]
  },
  {
   "cell_type": "code",
   "execution_count": 53,
   "id": "c02d5800",
   "metadata": {},
   "outputs": [],
   "source": [
    "poly15_data = polynomial_dataframe(df['sqft_living'],15)"
   ]
  },
  {
   "cell_type": "code",
   "execution_count": 54,
   "id": "5b3325cb",
   "metadata": {},
   "outputs": [],
   "source": [
    "poly15_data['price'] = df['price']"
   ]
  },
  {
   "cell_type": "code",
   "execution_count": 56,
   "id": "a229040f",
   "metadata": {},
   "outputs": [],
   "source": [
    "modelo15 = smf.ols(formula ='price ~ power_1 + power_2 + power_3 + power_4 + power_5 + power_6 + power_7 + power_8 + power_9 + power_10 + power_11 + power_12 + power_13 + power_14 + power_15' ,data = poly15_data).fit() "
   ]
  },
  {
   "cell_type": "code",
   "execution_count": 64,
   "id": "840ba290",
   "metadata": {},
   "outputs": [
    {
     "data": {
      "text/plain": [
       "[<matplotlib.lines.Line2D at 0x1b8d8b7a1c0>,\n",
       " <matplotlib.lines.Line2D at 0x1b8d8b7a280>]"
      ]
     },
     "execution_count": 64,
     "metadata": {},
     "output_type": "execute_result"
    },
    {
     "data": {
      "image/png": "[encoded data removed]",
      "text/plain": [
       "<Figure size 432x288 with 1 Axes>"
      ]
     },
     "metadata": {
      "needs_background": "light"
     },
     "output_type": "display_data"
    }
   ],
   "source": [
    "plt.plot(poly15_data['power_1'],poly15_data['price'],'.',\n",
    "poly15_data['power_1'], modelo15.predict(poly15_data),'-')"
   ]
  },
  {
   "cell_type": "markdown",
   "id": "1256e1cd",
   "metadata": {},
   "source": [
    "11. Estimate a 15th degree polynomial on all 4 sets, plot the results and view the coefficients for all four models."
   ]
  },
  {
   "cell_type": "code",
   "execution_count": 158,
   "id": "cebe292a",
   "metadata": {},
   "outputs": [],
   "source": [
    "poly15_set1 = polynomial_dataframe(set1['sqft_living'],15)\n",
    "poly15_set2 = polynomial_dataframe(set2['sqft_living'],15)\n",
    "poly15_set3 = polynomial_dataframe(set3['sqft_living'],15)\n",
    "poly15_set4 = polynomial_dataframe(set4['sqft_living'],15)\n",
    "Y = poly15_set1"
   ]
  },
  {
   "cell_type": "code",
   "execution_count": 159,
   "id": "22f1c648",
   "metadata": {},
   "outputs": [],
   "source": [
    "poly15_set1['price'] = set1['price']\n",
    "poly15_set2['price'] = set2['price']\n",
    "poly15_set3['price'] = set3['price']\n",
    "poly15_set4['price'] = set4['price']"
   ]
  },
  {
   "cell_type": "code",
   "execution_count": 160,
   "id": "7505e300",
   "metadata": {},
   "outputs": [],
   "source": [
    "modelo15_set1 = smf.ols(formula ='price ~ power_1 + power_2 + power_3 + power_4 + power_5 + power_6 + power_7 + power_8 + power_9 + power_10 + power_11 + power_12 + power_13 + power_14 + power_15' ,data = poly15_set1).fit() \n",
    "modelo15_set2 = smf.ols(formula ='price ~ power_1 + power_2 + power_3 + power_4 + power_5 + power_6 + power_7 + power_8 + power_9 + power_10 + power_11 + power_12 + power_13 + power_14 + power_15' ,data = poly15_set2).fit() \n",
    "modelo15_set3 = smf.ols(formula ='price ~ power_1 + power_2 + power_3 + power_4 + power_5 + power_6 + power_7 + power_8 + power_9 + power_10 + power_11 + power_12 + power_13 + power_14 + power_15' ,data = poly15_set3).fit() \n",
    "modelo15_set4 = smf.ols(formula ='price ~ power_1 + power_2 + power_3 + power_4 + power_5 + power_6 + power_7 + power_8 + power_9 + power_10 + power_11 + power_12 + power_13 + power_14 + power_15' ,data = poly15_set4).fit() "
   ]
  },
  {
   "cell_type": "code",
   "execution_count": 162,
   "id": "c8f7bf6a",
   "metadata": {},
   "outputs": [
    {
     "data": {
      "text/plain": [
       "[<matplotlib.lines.Line2D at 0x1b8de597160>,\n",
       " <matplotlib.lines.Line2D at 0x1b8de597220>]"
      ]
     },
     "execution_count": 162,
     "metadata": {},
     "output_type": "execute_result"
    },
    {
     "data": {
      "image/png": "[encoded data removed]",
      "text/plain": [
       "<Figure size 432x288 with 1 Axes>"
      ]
     },
     "metadata": {
      "needs_background": "light"
     },
     "output_type": "display_data"
    }
   ],
   "source": [
    "plt.plot(poly15_set1['power_1'],poly15_set1['price'],'.',\n",
    "poly15_set1['power_1'], modelo15_set1.predict(poly15_set1[Y.columns]),'-')"
   ]
  },
  {
   "cell_type": "code",
   "execution_count": 163,
   "id": "c9641db6",
   "metadata": {},
   "outputs": [
    {
     "data": {
      "text/plain": [
       "[<matplotlib.lines.Line2D at 0x1b8de659ac0>,\n",
       " <matplotlib.lines.Line2D at 0x1b8de659b80>]"
      ]
     },
     "execution_count": 163,
     "metadata": {},
     "output_type": "execute_result"
    },
    {
     "data": {
      "image/png": "[encoded data removed]",
      "text/plain": [
       "<Figure size 432x288 with 1 Axes>"
      ]
     },
     "metadata": {
      "needs_background": "light"
     },
     "output_type": "display_data"
    }
   ],
   "source": [
    "plt.plot(poly15_set2['power_1'],poly15_set2['price'],'.',\n",
    "poly15_set2['power_1'], modelo15_set2.predict(poly15_set2[Y.columns]),'-')"
   ]
  },
  {
   "cell_type": "code",
   "execution_count": 167,
   "id": "a33c35ba",
   "metadata": {},
   "outputs": [
    {
     "data": {
      "text/plain": [
       "[<matplotlib.lines.Line2D at 0x1b8dec97ac0>,\n",
       " <matplotlib.lines.Line2D at 0x1b8dec97b80>]"
      ]
     },
     "execution_count": 167,
     "metadata": {},
     "output_type": "execute_result"
    },
    {
     "data": {
      "image/png": "[encoded data removed]",
      "text/plain": [
       "<Figure size 432x288 with 1 Axes>"
      ]
     },
     "metadata": {
      "needs_background": "light"
     },
     "output_type": "display_data"
    }
   ],
   "source": [
    "plt.plot(poly15_set3['power_1'],poly15_set3['price'],'.',\n",
    "poly15_set3['power_1'], modelo15_set3.predict(poly15_set3[Y.columns]),'-')"
   ]
  },
  {
   "cell_type": "code",
   "execution_count": 166,
   "id": "507c7338",
   "metadata": {},
   "outputs": [
    {
     "data": {
      "text/plain": [
       "[<matplotlib.lines.Line2D at 0x1b8de439250>,\n",
       " <matplotlib.lines.Line2D at 0x1b8de439fa0>]"
      ]
     },
     "execution_count": 166,
     "metadata": {},
     "output_type": "execute_result"
    },
    {
     "data": {
      "image/png": "[encoded data removed]",
      "text/plain": [
       "<Figure size 432x288 with 1 Axes>"
      ]
     },
     "metadata": {
      "needs_background": "light"
     },
     "output_type": "display_data"
    }
   ],
   "source": [
    "plt.plot(poly15_set4['power_1'],poly15_set4['price'],'.',\n",
    "poly15_set4['power_1'], modelo15_set4.predict(poly15_set4[Y.columns]),'-')"
   ]
  },
  {
   "cell_type": "markdown",
   "id": "e15b0a8f",
   "metadata": {},
   "source": [
    "12. Quiz Question: Is the sign (positive or negative) for power_15 the same in all four models?\n"
   ]
  },
  {
   "cell_type": "code",
   "execution_count": 168,
   "id": "87c5865f",
   "metadata": {},
   "outputs": [
    {
     "data": {
      "text/plain": [
       "Intercept    5.129208e-08\n",
       "power_1      7.805440e-05\n",
       "power_2      1.430240e-01\n",
       "power_3     -1.830874e-05\n",
       "power_4      7.049617e-10\n",
       "power_5     -6.156852e-14\n",
       "power_6      3.375028e-15\n",
       "power_7     -1.926597e-15\n",
       "power_8      3.873944e-16\n",
       "power_9     -5.165938e-16\n",
       "power_10     2.188708e-16\n",
       "power_11    -7.485338e-17\n",
       "power_12     5.350833e-16\n",
       "power_13     1.661765e-15\n",
       "power_14     4.322797e-16\n",
       "power_15     2.569308e-15\n",
       "dtype: float64"
      ]
     },
     "execution_count": 168,
     "metadata": {},
     "output_type": "execute_result"
    }
   ],
   "source": [
    "modelo15_set1.params"
   ]
  },
  {
   "cell_type": "code",
   "execution_count": 169,
   "id": "b876df87",
   "metadata": {},
   "outputs": [
    {
     "data": {
      "text/plain": [
       "Intercept    1.191450e-07\n",
       "power_1      1.691618e-04\n",
       "power_2      2.079171e-01\n",
       "power_3     -5.174926e-05\n",
       "power_4      4.026588e-09\n",
       "power_5      3.972603e-14\n",
       "power_6      3.719472e-15\n",
       "power_7     -3.132519e-16\n",
       "power_8     -3.137985e-16\n",
       "power_9     -1.000855e-15\n",
       "power_10     1.266849e-15\n",
       "power_11     1.269448e-15\n",
       "power_12    -8.239069e-17\n",
       "power_13     2.504306e-15\n",
       "power_14    -4.428074e-16\n",
       "power_15     3.291306e-15\n",
       "dtype: float64"
      ]
     },
     "execution_count": 169,
     "metadata": {},
     "output_type": "execute_result"
    }
   ],
   "source": [
    "modelo15_set2.params"
   ]
  },
  {
   "cell_type": "code",
   "execution_count": 170,
   "id": "90d361be",
   "metadata": {},
   "outputs": [
    {
     "data": {
      "text/plain": [
       "Intercept    8.736419e-08\n",
       "power_1      1.542513e-04\n",
       "power_2      1.860223e-01\n",
       "power_3     -3.964489e-05\n",
       "power_4      2.808048e-09\n",
       "power_5     -6.750717e-15\n",
       "power_6      2.450619e-15\n",
       "power_7     -3.221147e-16\n",
       "power_8      9.220606e-16\n",
       "power_9      2.586787e-16\n",
       "power_10     1.490358e-15\n",
       "power_11    -1.032541e-16\n",
       "power_12     1.245235e-15\n",
       "power_13     2.088827e-15\n",
       "power_14     8.374820e-16\n",
       "power_15     2.264346e-15\n",
       "dtype: float64"
      ]
     },
     "execution_count": 170,
     "metadata": {},
     "output_type": "execute_result"
    }
   ],
   "source": [
    "modelo15_set3.params"
   ]
  },
  {
   "cell_type": "code",
   "execution_count": 171,
   "id": "8f6259d0",
   "metadata": {},
   "outputs": [
    {
     "data": {
      "text/plain": [
       "Intercept    1.547014e-07\n",
       "power_1      2.844736e-04\n",
       "power_2      2.334824e-01\n",
       "power_3     -6.733245e-05\n",
       "power_4      5.938916e-09\n",
       "power_5      1.053636e-13\n",
       "power_6      1.239642e-15\n",
       "power_7     -2.068322e-16\n",
       "power_8      7.559676e-16\n",
       "power_9     -8.908624e-16\n",
       "power_10     3.203824e-16\n",
       "power_11     7.151429e-16\n",
       "power_12    -2.819301e-16\n",
       "power_13     1.769987e-15\n",
       "power_14    -1.138479e-15\n",
       "power_15     1.390301e-15\n",
       "dtype: float64"
      ]
     },
     "execution_count": 171,
     "metadata": {},
     "output_type": "execute_result"
    }
   ],
   "source": [
    "modelo15_set4.params"
   ]
  },
  {
   "cell_type": "markdown",
   "id": "ed2d72c1",
   "metadata": {},
   "source": [
    "13. Quiz Question: True/False the plotted fitted lines look the same in all four plots\n",
    "\n"
   ]
  },
  {
   "cell_type": "markdown",
   "id": "59cf17dc",
   "metadata": {},
   "source": [
    "No es el mismo"
   ]
  },
  {
   "cell_type": "markdown",
   "id": "a663d004",
   "metadata": {},
   "source": [
    "14. Since the “best” polynomial degree is unknown to us we will use cross validation to select the best degree. If you’re using SFrames then create a training, validation and testing subsets as follows: \n",
    "\n",
    "First split sales into training_and_validation and testing with sales.random_split(0.9) use seed = 1!\n",
    "\n",
    "Next split training_and_validation into training and validation using .random_split(0.5) use seed = 1!\n",
    "\n",
    "If you’re not using SFrames then please download the provided csv files for training, validation and test data."
   ]
  },
  {
   "cell_type": "markdown",
   "id": "01ee5dd7",
   "metadata": {},
   "source": [
    "15. Now for each degree from 1 to 15:\n",
    "\n",
    "Build an polynomial data set using training_data[‘sqft_living’] as the feature and the current degree\n",
    "\n",
    "Add training_data[‘price’] as a column to your polynomial data set\n",
    "\n",
    "Learn a model on TRAINING data to predict ‘price’ based on your polynomial data set at the current degree\n",
    "\n",
    "Compute the RSS on VALIDATION for the current model (print or save the RSS)\n",
    "\n",
    "\tHint: in turicreate.linear_regression.create() you can set verbose = False if you want to suppress the interim output of linear_regression.create()."
   ]
  },
  {
   "cell_type": "code",
   "execution_count": 195,
   "id": "4eff395f",
   "metadata": {},
   "outputs": [],
   "source": [
    "def metricas(X,Y,model):\n",
    "    # Se obtienen las predicciones del modelo sobre los conjuntos\n",
    "    y_pred  = model.predict(X)\n",
    "    # se obtienen las metricas a partir de la prediccion y la base de evaluacion (valores reales)\n",
    "    #print('MSE: %.2f' % mean_squared_error(Y, y_pred, squared = True))\n",
    "    #print('RMSE: %.2f' % mean_squared_error(Y, y_pred, squared = False))\n",
    "    #print('MAE: %.2f' % mean_absolute_error(Y, y_pred,))\n",
    "    #print('R2: %.2f' % r2_score(Y, y_pred))\n",
    "    RSS = mean_squared_error(Y, y_pred, squared = True) * len(X)\n",
    "    #print('RSS: {}'.format(RSS))\n",
    "    return RSS"
   ]
  },
  {
   "cell_type": "code",
   "execution_count": 196,
   "id": "9086737e",
   "metadata": {},
   "outputs": [
    {
     "ename": "SyntaxError",
     "evalue": "Missing parentheses in call to 'print'. Did you mean print(\"RSS of \" +)? (Temp/ipykernel_21192/106299134.py, line 16)",
     "output_type": "error",
     "traceback": [
      "\u001b[1;36m  File \u001b[1;32m\"C:\\Users\\XMX5634\\AppData\\Local\\Temp/ipykernel_21192/106299134.py\"\u001b[1;36m, line \u001b[1;32m16\u001b[0m\n\u001b[1;33m    print \"RSS of \" +\u001b[0m\n\u001b[1;37m          ^\u001b[0m\n\u001b[1;31mSyntaxError\u001b[0m\u001b[1;31m:\u001b[0m Missing parentheses in call to 'print'. Did you mean print(\"RSS of \" +)?\n"
     ]
    }
   ],
   "source": [
    "import numpy as np # note this allows us to refer to numpy as np instead \n",
    "empty_vector = np.empty(15)\n",
    "for degree in range(1,15+1):\n",
    "    train_data = polynomial_sframe(training['sqft_living'], degree)\n",
    "    validation_data = polynomial_sframe(validation['sqft_living'], degree)\n",
    "    my_features = train_data.column_names() # get the name of the features\n",
    "    train_data['price'] = training['price'] # add price to the data since it's the target\n",
    "    train_model = graphlab.linear_regression.create(train_data, target = 'price', features = my_features, validation_set = None)\n",
    "    predictions = train_model.predict(validation_data)\n",
    "    \n",
    "    errors = validation['price'] - predictions\n",
    "    square_errors = errors ** 2\n",
    "    RSS = square_errors.sum()\n",
    "    empty_vector[degree-1] = RSS\n",
    "    #model.get(\"coefficients\").print_rows(num_rows = degree)\n",
    "    print \"RSS of \" + "
   ]
  },
  {
   "cell_type": "code",
   "execution_count": 197,
   "id": "280a237d",
   "metadata": {},
   "outputs": [
    {
     "name": "stdout",
     "output_type": "stream",
     "text": [
      "-------------------\n",
      "modelo_1\n",
      "\n",
      "RSS: 629097886299585.8\n",
      "-------------------\n",
      "modelo_2\n",
      "\n",
      "RSS: 623955062706540.6\n",
      "-------------------\n",
      "modelo_3\n",
      "\n",
      "RSS: 625820281589975.6\n",
      "-------------------\n",
      "modelo_4\n",
      "\n",
      "RSS: 607734532790162.5\n",
      "-------------------\n",
      "modelo_5\n",
      "\n",
      "RSS: 868914581892052.5\n",
      "-------------------\n",
      "modelo_6\n",
      "\n",
      "RSS: 866560606015365.6\n",
      "-------------------\n",
      "modelo_7\n",
      "\n",
      "RSS: 865570518680306.6\n",
      "-------------------\n",
      "modelo_8\n",
      "\n",
      "RSS: 865695206707451.8\n",
      "-------------------\n",
      "modelo_9\n",
      "\n",
      "RSS: 865752068732341.9\n",
      "-------------------\n",
      "modelo_10\n",
      "\n",
      "RSS: 866021448713488.1\n",
      "-------------------\n",
      "modelo_11\n",
      "\n",
      "RSS: 866827275764283.0\n",
      "-------------------\n",
      "modelo_12\n",
      "\n",
      "RSS: 866527498205500.4\n",
      "-------------------\n",
      "modelo_13\n",
      "\n",
      "RSS: 865557073892646.2\n",
      "-------------------\n",
      "modelo_14\n",
      "\n",
      "RSS: 865610525578520.2\n",
      "-------------------\n",
      "modelo_15\n",
      "\n",
      "RSS: 861851273002053.0\n",
      "El RSS minimo es el 607734532790162.5 del modelo_4\n"
     ]
    }
   ],
   "source": [
    "# entrenamos cada modelo sobre el dataframe poly y lo evaluamos sobre el dataframe de poly_valid\n",
    "rss_1 = {}\n",
    "rss_2 = []\n",
    "for i in range(1,16):\n",
    "    train_data = polynomial_dataframe(training['sqft_living'],i)\n",
    "    validation_data = polynomial_dataframe(validation['sqft_living'],i)\n",
    "    my_features = train_data.columns\n",
    "    train_data['price'] = training['price']\n",
    "\n",
    "    \n",
    "    modelo_polinomial = 'price ~ ' + reduce(lambda x, y: x + ' + ' + y, my_features)\n",
    "    train_model = smf.ols(formula = modelo_polinomial ,data = train_data).fit() \n",
    "    \n",
    "    predictions = train_model.predict(validation_data)\n",
    "    errors = validation['price'] - predictions\n",
    "    square_errors = errors ** 2\n",
    "    rss = square_errors.sum()\n",
    "    \n",
    "    rss_2.append(rss)\n",
    "    rss_1[rss] = 'modelo_'+str(i)\n",
    "    print('-------------------')\n",
    "    print('modelo_'+str(i))\n",
    "    print('')\n",
    "    print('RSS: '+str(rss))\n",
    "    \n",
    "print('El RSS minimo es el {} del {}'.format(min(rss_2), rss_1[min(rss_2)]))"
   ]
  },
  {
   "cell_type": "markdown",
   "id": "0e8c5b8b",
   "metadata": {},
   "source": [
    "16. Quiz Question: Which degree (1, 2, …, 15) had the lowest RSS on Validation data?\n",
    "\n",
    "El modelo 4\n"
   ]
  },
  {
   "cell_type": "markdown",
   "id": "2be99c1b",
   "metadata": {},
   "source": [
    "17. Now that you have selected a degree compute the RSS on TEST data for the model with the best degree from the Validation data."
   ]
  },
  {
   "cell_type": "markdown",
   "id": "dd3e8de1",
   "metadata": {},
   "source": [
    "18. Quiz Question: what is the RSS on TEST data for the model with the degree selected from Validation data? (Make sure you got the correct degree from the previous question)"
   ]
  },
  {
   "cell_type": "markdown",
   "id": "db17784a",
   "metadata": {},
   "source": [
    "629097886299585.8 "
   ]
  },
  {
   "cell_type": "code",
   "execution_count": null,
   "id": "26981204",
   "metadata": {},
   "outputs": [],
   "source": []
  }
 ],
 "metadata": {
  "kernelspec": {
   "display_name": "Python 3 (ipykernel)",
   "language": "python",
   "name": "python3"
  },
  "language_info": {
   "codemirror_mode": {
    "name": "ipython",
    "version": 3
   },
   "file_extension": ".py",
   "mimetype": "text/x-python",
   "name": "python",
   "nbconvert_exporter": "python",
   "pygments_lexer": "ipython3",
   "version": "3.9.7"
  }
 },
 "nbformat": 4,
 "nbformat_minor": 5
}
