{
 "cells": [
  {
   "cell_type": "markdown",
   "metadata": {
    "id": "S9Z6PYgdgHGI"
   },
   "source": [
    "# Selección de Características: Numérico\n"
   ]
  },
  {
   "cell_type": "code",
   "execution_count": 1,
   "metadata": {
    "executionInfo": {
     "elapsed": 1227,
     "status": "ok",
     "timestamp": 1656725264772,
     "user": {
      "displayName": "Didier Gamboa",
      "userId": "10298588528589042889"
     },
     "user_tz": 300
    },
    "id": "2J9faUqJgHGV"
   },
   "outputs": [],
   "source": [
    "%matplotlib inline\n",
    "import numpy as np\n",
    "import pandas as pd\n",
    "import matplotlib.pyplot as plt\n",
    "\n",
    "from sklearn.datasets import load_boston\n",
    "from sklearn.model_selection import train_test_split\n",
    "from sklearn.feature_selection import SelectKBest, f_regression, RFE\n",
    "from sklearn.linear_model import LinearRegression"
   ]
  },
  {
   "cell_type": "markdown",
   "metadata": {
    "id": "6Ax3DS8IgHGm"
   },
   "source": [
    "## Boston Housing Dataset\n",
    "\n",
    "El Boston Housing [Dataset](https://www.cs.toronto.edu/~delve/data/boston/bostonDetail.html) contiene información recolecatada por el Servicio de Censo de EE.UU. concerniente a las viviendas en el área de Boston Mass. El objetivo de este dataset es la predicción del precio promedio de una viviendo en esta área."
   ]
  },
  {
   "cell_type": "code",
   "execution_count": 2,
   "metadata": {
    "colab": {
     "base_uri": "https://localhost:8080/",
     "height": 836
    },
    "executionInfo": {
     "elapsed": 345,
     "status": "ok",
     "timestamp": 1656725335777,
     "user": {
      "displayName": "Didier Gamboa",
      "userId": "10298588528589042889"
     },
     "user_tz": 300
    },
    "id": "nHs1S3HLgHGo",
    "outputId": "433179f2-d7e4-48e8-8a32-f4909bf4de74"
   },
   "outputs": [
    {
     "data": {
      "text/html": [
       "<div>\n",
       "<style scoped>\n",
       "    .dataframe tbody tr th:only-of-type {\n",
       "        vertical-align: middle;\n",
       "    }\n",
       "\n",
       "    .dataframe tbody tr th {\n",
       "        vertical-align: top;\n",
       "    }\n",
       "\n",
       "    .dataframe thead th {\n",
       "        text-align: right;\n",
       "    }\n",
       "</style>\n",
       "<table border=\"1\" class=\"dataframe\">\n",
       "  <thead>\n",
       "    <tr style=\"text-align: right;\">\n",
       "      <th></th>\n",
       "      <th>CRIM</th>\n",
       "      <th>ZN</th>\n",
       "      <th>INDUS</th>\n",
       "      <th>CHAS</th>\n",
       "      <th>NOX</th>\n",
       "      <th>RM</th>\n",
       "      <th>AGE</th>\n",
       "      <th>DIS</th>\n",
       "      <th>RAD</th>\n",
       "      <th>TAX</th>\n",
       "      <th>PTRATIO</th>\n",
       "      <th>B</th>\n",
       "      <th>LSTAT</th>\n",
       "      <th>Price</th>\n",
       "    </tr>\n",
       "  </thead>\n",
       "  <tbody>\n",
       "    <tr>\n",
       "      <th>0</th>\n",
       "      <td>0.00632</td>\n",
       "      <td>18.0</td>\n",
       "      <td>2.31</td>\n",
       "      <td>0.0</td>\n",
       "      <td>0.538</td>\n",
       "      <td>6.575</td>\n",
       "      <td>65.2</td>\n",
       "      <td>4.0900</td>\n",
       "      <td>1.0</td>\n",
       "      <td>296.0</td>\n",
       "      <td>15.3</td>\n",
       "      <td>396.90</td>\n",
       "      <td>4.98</td>\n",
       "      <td>24.0</td>\n",
       "    </tr>\n",
       "    <tr>\n",
       "      <th>1</th>\n",
       "      <td>0.02731</td>\n",
       "      <td>0.0</td>\n",
       "      <td>7.07</td>\n",
       "      <td>0.0</td>\n",
       "      <td>0.469</td>\n",
       "      <td>6.421</td>\n",
       "      <td>78.9</td>\n",
       "      <td>4.9671</td>\n",
       "      <td>2.0</td>\n",
       "      <td>242.0</td>\n",
       "      <td>17.8</td>\n",
       "      <td>396.90</td>\n",
       "      <td>9.14</td>\n",
       "      <td>21.6</td>\n",
       "    </tr>\n",
       "    <tr>\n",
       "      <th>2</th>\n",
       "      <td>0.02729</td>\n",
       "      <td>0.0</td>\n",
       "      <td>7.07</td>\n",
       "      <td>0.0</td>\n",
       "      <td>0.469</td>\n",
       "      <td>7.185</td>\n",
       "      <td>61.1</td>\n",
       "      <td>4.9671</td>\n",
       "      <td>2.0</td>\n",
       "      <td>242.0</td>\n",
       "      <td>17.8</td>\n",
       "      <td>392.83</td>\n",
       "      <td>4.03</td>\n",
       "      <td>34.7</td>\n",
       "    </tr>\n",
       "    <tr>\n",
       "      <th>3</th>\n",
       "      <td>0.03237</td>\n",
       "      <td>0.0</td>\n",
       "      <td>2.18</td>\n",
       "      <td>0.0</td>\n",
       "      <td>0.458</td>\n",
       "      <td>6.998</td>\n",
       "      <td>45.8</td>\n",
       "      <td>6.0622</td>\n",
       "      <td>3.0</td>\n",
       "      <td>222.0</td>\n",
       "      <td>18.7</td>\n",
       "      <td>394.63</td>\n",
       "      <td>2.94</td>\n",
       "      <td>33.4</td>\n",
       "    </tr>\n",
       "    <tr>\n",
       "      <th>4</th>\n",
       "      <td>0.06905</td>\n",
       "      <td>0.0</td>\n",
       "      <td>2.18</td>\n",
       "      <td>0.0</td>\n",
       "      <td>0.458</td>\n",
       "      <td>7.147</td>\n",
       "      <td>54.2</td>\n",
       "      <td>6.0622</td>\n",
       "      <td>3.0</td>\n",
       "      <td>222.0</td>\n",
       "      <td>18.7</td>\n",
       "      <td>396.90</td>\n",
       "      <td>5.33</td>\n",
       "      <td>36.2</td>\n",
       "    </tr>\n",
       "  </tbody>\n",
       "</table>\n",
       "</div>"
      ],
      "text/plain": [
       "      CRIM    ZN  INDUS  CHAS    NOX     RM   AGE     DIS  RAD    TAX  \\\n",
       "0  0.00632  18.0   2.31   0.0  0.538  6.575  65.2  4.0900  1.0  296.0   \n",
       "1  0.02731   0.0   7.07   0.0  0.469  6.421  78.9  4.9671  2.0  242.0   \n",
       "2  0.02729   0.0   7.07   0.0  0.469  7.185  61.1  4.9671  2.0  242.0   \n",
       "3  0.03237   0.0   2.18   0.0  0.458  6.998  45.8  6.0622  3.0  222.0   \n",
       "4  0.06905   0.0   2.18   0.0  0.458  7.147  54.2  6.0622  3.0  222.0   \n",
       "\n",
       "   PTRATIO       B  LSTAT  Price  \n",
       "0     15.3  396.90   4.98   24.0  \n",
       "1     17.8  396.90   9.14   21.6  \n",
       "2     17.8  392.83   4.03   34.7  \n",
       "3     18.7  394.63   2.94   33.4  \n",
       "4     18.7  396.90   5.33   36.2  "
      ]
     },
     "execution_count": 2,
     "metadata": {},
     "output_type": "execute_result"
    }
   ],
   "source": [
    "boston_raw = load_boston()\n",
    "boston = pd.DataFrame(boston_raw.data, columns = boston_raw.feature_names)\n",
    "                                                #boston_raw[\"feature_names\"]\n",
    "    \n",
    "boston['Price'] = boston_raw.target\n",
    "                 #boston_raw[\"target\"]\n",
    "boston.head()"
   ]
  },
  {
   "cell_type": "code",
   "execution_count": 3,
   "metadata": {
    "colab": {
     "base_uri": "https://localhost:8080/"
    },
    "executionInfo": {
     "elapsed": 270,
     "status": "ok",
     "timestamp": 1656725413013,
     "user": {
      "displayName": "Didier Gamboa",
      "userId": "10298588528589042889"
     },
     "user_tz": 300
    },
    "id": "edK8eZd5gHJx",
    "outputId": "65446fca-ba83-4956-e8a4-dcb8a0387ee2"
   },
   "outputs": [
    {
     "name": "stdout",
     "output_type": "stream",
     "text": [
      "dict_keys(['data', 'target', 'feature_names', 'DESCR', 'filename', 'data_module'])\n"
     ]
    }
   ],
   "source": [
    "print(boston_raw.keys())"
   ]
  },
  {
   "cell_type": "code",
   "execution_count": 4,
   "metadata": {
    "colab": {
     "base_uri": "https://localhost:8080/"
    },
    "executionInfo": {
     "elapsed": 260,
     "status": "ok",
     "timestamp": 1656725417649,
     "user": {
      "displayName": "Didier Gamboa",
      "userId": "10298588528589042889"
     },
     "user_tz": 300
    },
    "id": "xXCbAnqsgHJ3",
    "outputId": "90606da6-504f-4bf7-990a-3fe328b991ea"
   },
   "outputs": [
    {
     "name": "stdout",
     "output_type": "stream",
     "text": [
      ".. _boston_dataset:\n",
      "\n",
      "Boston house prices dataset\n",
      "---------------------------\n",
      "\n",
      "**Data Set Characteristics:**  \n",
      "\n",
      "    :Number of Instances: 506 \n",
      "\n",
      "    :Number of Attributes: 13 numeric/categorical predictive. Median Value (attribute 14) is usually the target.\n",
      "\n",
      "    :Attribute Information (in order):\n",
      "        - CRIM     per capita crime rate by town\n",
      "        - ZN       proportion of residential land zoned for lots over 25,000 sq.ft.\n",
      "        - INDUS    proportion of non-retail business acres per town\n",
      "        - CHAS     Charles River dummy variable (= 1 if tract bounds river; 0 otherwise)\n",
      "        - NOX      nitric oxides concentration (parts per 10 million)\n",
      "        - RM       average number of rooms per dwelling\n",
      "        - AGE      proportion of owner-occupied units built prior to 1940\n",
      "        - DIS      weighted distances to five Boston employment centres\n",
      "        - RAD      index of accessibility to radial highways\n",
      "        - TAX      full-value property-tax rate per $10,000\n",
      "        - PTRATIO  pupil-teacher ratio by town\n",
      "        - B        1000(Bk - 0.63)^2 where Bk is the proportion of black people by town\n",
      "        - LSTAT    % lower status of the population\n",
      "        - MEDV     Median value of owner-occupied homes in $1000's\n",
      "\n",
      "    :Missing Attribute Values: None\n",
      "\n",
      "    :Creator: Harrison, D. and Rubinfeld, D.L.\n",
      "\n",
      "This is a copy of UCI ML housing dataset.\n",
      "https://archive.ics.uci.edu/ml/machine-learning-databases/housing/\n",
      "\n",
      "\n",
      "This dataset was taken from the StatLib library which is maintained at Carnegie Mellon University.\n",
      "\n",
      "The Boston house-price data of Harrison, D. and Rubinfeld, D.L. 'Hedonic\n",
      "prices and the demand for clean air', J. Environ. Economics & Management,\n",
      "vol.5, 81-102, 1978.   Used in Belsley, Kuh & Welsch, 'Regression diagnostics\n",
      "...', Wiley, 1980.   N.B. Various transformations are used in the table on\n",
      "pages 244-261 of the latter.\n",
      "\n",
      "The Boston house-price data has been used in many machine learning papers that address regression\n",
      "problems.   \n",
      "     \n",
      ".. topic:: References\n",
      "\n",
      "   - Belsley, Kuh & Welsch, 'Regression diagnostics: Identifying Influential Data and Sources of Collinearity', Wiley, 1980. 244-261.\n",
      "   - Quinlan,R. (1993). Combining Instance-Based and Model-Based Learning. In Proceedings on the Tenth International Conference of Machine Learning, 236-243, University of Massachusetts, Amherst. Morgan Kaufmann.\n",
      "\n"
     ]
    }
   ],
   "source": [
    "print(boston_raw[\"DESCR\"])"
   ]
  },
  {
   "cell_type": "code",
   "execution_count": 5,
   "metadata": {
    "colab": {
     "base_uri": "https://localhost:8080/"
    },
    "executionInfo": {
     "elapsed": 295,
     "status": "ok",
     "timestamp": 1656725426807,
     "user": {
      "displayName": "Didier Gamboa",
      "userId": "10298588528589042889"
     },
     "user_tz": 300
    },
    "id": "94QMLaHugHJ-",
    "outputId": "4a9f430e-4041-4213-c453-05787cbcad8f"
   },
   "outputs": [
    {
     "name": "stdout",
     "output_type": "stream",
     "text": [
      "['CRIM' 'ZN' 'INDUS' 'CHAS' 'NOX' 'RM' 'AGE' 'DIS' 'RAD' 'TAX' 'PTRATIO'\n",
      " 'B' 'LSTAT']\n"
     ]
    }
   ],
   "source": [
    "print(boston_raw[\"feature_names\"])"
   ]
  },
  {
   "cell_type": "markdown",
   "metadata": {
    "id": "pQ54CUeYgHKC"
   },
   "source": [
    "Se dividen las variables de entrada y la de salida"
   ]
  },
  {
   "cell_type": "code",
   "execution_count": 5,
   "metadata": {
    "executionInfo": {
     "elapsed": 6,
     "status": "ok",
     "timestamp": 1656725443077,
     "user": {
      "displayName": "Didier Gamboa",
      "userId": "10298588528589042889"
     },
     "user_tz": 300
    },
    "id": "tNGmKGbygHKF"
   },
   "outputs": [],
   "source": [
    "data = boston_raw.data\n",
    "target = boston_raw.target"
   ]
  },
  {
   "cell_type": "code",
   "execution_count": 6,
   "metadata": {
    "colab": {
     "base_uri": "https://localhost:8080/"
    },
    "executionInfo": {
     "elapsed": 266,
     "status": "ok",
     "timestamp": 1656725464966,
     "user": {
      "displayName": "Didier Gamboa",
      "userId": "10298588528589042889"
     },
     "user_tz": 300
    },
    "id": "-gesgEoVgHKJ",
    "outputId": "aba60c1e-a33c-4b8a-eb32-188b2e4139d5"
   },
   "outputs": [
    {
     "data": {
      "text/plain": [
       "array([[6.3200e-03, 1.8000e+01, 2.3100e+00, ..., 1.5300e+01, 3.9690e+02,\n",
       "        4.9800e+00],\n",
       "       [2.7310e-02, 0.0000e+00, 7.0700e+00, ..., 1.7800e+01, 3.9690e+02,\n",
       "        9.1400e+00],\n",
       "       [2.7290e-02, 0.0000e+00, 7.0700e+00, ..., 1.7800e+01, 3.9283e+02,\n",
       "        4.0300e+00],\n",
       "       ...,\n",
       "       [6.0760e-02, 0.0000e+00, 1.1930e+01, ..., 2.1000e+01, 3.9690e+02,\n",
       "        5.6400e+00],\n",
       "       [1.0959e-01, 0.0000e+00, 1.1930e+01, ..., 2.1000e+01, 3.9345e+02,\n",
       "        6.4800e+00],\n",
       "       [4.7410e-02, 0.0000e+00, 1.1930e+01, ..., 2.1000e+01, 3.9690e+02,\n",
       "        7.8800e+00]])"
      ]
     },
     "execution_count": 6,
     "metadata": {},
     "output_type": "execute_result"
    }
   ],
   "source": [
    "data"
   ]
  },
  {
   "cell_type": "code",
   "execution_count": 7,
   "metadata": {
    "colab": {
     "base_uri": "https://localhost:8080/"
    },
    "executionInfo": {
     "elapsed": 264,
     "status": "ok",
     "timestamp": 1656725492830,
     "user": {
      "displayName": "Didier Gamboa",
      "userId": "10298588528589042889"
     },
     "user_tz": 300
    },
    "id": "tT2s7_KlgHKO",
    "outputId": "eaa7ce44-2b3c-4981-af08-e173f43874f1"
   },
   "outputs": [
    {
     "data": {
      "text/plain": [
       "array([24. , 21.6, 34.7, 33.4, 36.2, 28.7, 22.9, 27.1, 16.5, 18.9, 15. ,\n",
       "       18.9, 21.7, 20.4, 18.2, 19.9, 23.1, 17.5, 20.2, 18.2, 13.6, 19.6,\n",
       "       15.2, 14.5, 15.6, 13.9, 16.6, 14.8, 18.4, 21. , 12.7, 14.5, 13.2,\n",
       "       13.1, 13.5, 18.9, 20. , 21. , 24.7, 30.8, 34.9, 26.6, 25.3, 24.7,\n",
       "       21.2, 19.3, 20. , 16.6, 14.4, 19.4, 19.7, 20.5, 25. , 23.4, 18.9,\n",
       "       35.4, 24.7, 31.6, 23.3, 19.6, 18.7, 16. , 22.2, 25. , 33. , 23.5,\n",
       "       19.4, 22. , 17.4, 20.9, 24.2, 21.7, 22.8, 23.4, 24.1, 21.4, 20. ,\n",
       "       20.8, 21.2, 20.3, 28. , 23.9, 24.8, 22.9, 23.9, 26.6, 22.5, 22.2,\n",
       "       23.6, 28.7, 22.6, 22. , 22.9, 25. , 20.6, 28.4, 21.4, 38.7, 43.8,\n",
       "       33.2, 27.5, 26.5, 18.6, 19.3, 20.1, 19.5, 19.5, 20.4, 19.8, 19.4,\n",
       "       21.7, 22.8, 18.8, 18.7, 18.5, 18.3, 21.2, 19.2, 20.4, 19.3, 22. ,\n",
       "       20.3, 20.5, 17.3, 18.8, 21.4, 15.7, 16.2, 18. , 14.3, 19.2, 19.6,\n",
       "       23. , 18.4, 15.6, 18.1, 17.4, 17.1, 13.3, 17.8, 14. , 14.4, 13.4,\n",
       "       15.6, 11.8, 13.8, 15.6, 14.6, 17.8, 15.4, 21.5, 19.6, 15.3, 19.4,\n",
       "       17. , 15.6, 13.1, 41.3, 24.3, 23.3, 27. , 50. , 50. , 50. , 22.7,\n",
       "       25. , 50. , 23.8, 23.8, 22.3, 17.4, 19.1, 23.1, 23.6, 22.6, 29.4,\n",
       "       23.2, 24.6, 29.9, 37.2, 39.8, 36.2, 37.9, 32.5, 26.4, 29.6, 50. ,\n",
       "       32. , 29.8, 34.9, 37. , 30.5, 36.4, 31.1, 29.1, 50. , 33.3, 30.3,\n",
       "       34.6, 34.9, 32.9, 24.1, 42.3, 48.5, 50. , 22.6, 24.4, 22.5, 24.4,\n",
       "       20. , 21.7, 19.3, 22.4, 28.1, 23.7, 25. , 23.3, 28.7, 21.5, 23. ,\n",
       "       26.7, 21.7, 27.5, 30.1, 44.8, 50. , 37.6, 31.6, 46.7, 31.5, 24.3,\n",
       "       31.7, 41.7, 48.3, 29. , 24. , 25.1, 31.5, 23.7, 23.3, 22. , 20.1,\n",
       "       22.2, 23.7, 17.6, 18.5, 24.3, 20.5, 24.5, 26.2, 24.4, 24.8, 29.6,\n",
       "       42.8, 21.9, 20.9, 44. , 50. , 36. , 30.1, 33.8, 43.1, 48.8, 31. ,\n",
       "       36.5, 22.8, 30.7, 50. , 43.5, 20.7, 21.1, 25.2, 24.4, 35.2, 32.4,\n",
       "       32. , 33.2, 33.1, 29.1, 35.1, 45.4, 35.4, 46. , 50. , 32.2, 22. ,\n",
       "       20.1, 23.2, 22.3, 24.8, 28.5, 37.3, 27.9, 23.9, 21.7, 28.6, 27.1,\n",
       "       20.3, 22.5, 29. , 24.8, 22. , 26.4, 33.1, 36.1, 28.4, 33.4, 28.2,\n",
       "       22.8, 20.3, 16.1, 22.1, 19.4, 21.6, 23.8, 16.2, 17.8, 19.8, 23.1,\n",
       "       21. , 23.8, 23.1, 20.4, 18.5, 25. , 24.6, 23. , 22.2, 19.3, 22.6,\n",
       "       19.8, 17.1, 19.4, 22.2, 20.7, 21.1, 19.5, 18.5, 20.6, 19. , 18.7,\n",
       "       32.7, 16.5, 23.9, 31.2, 17.5, 17.2, 23.1, 24.5, 26.6, 22.9, 24.1,\n",
       "       18.6, 30.1, 18.2, 20.6, 17.8, 21.7, 22.7, 22.6, 25. , 19.9, 20.8,\n",
       "       16.8, 21.9, 27.5, 21.9, 23.1, 50. , 50. , 50. , 50. , 50. , 13.8,\n",
       "       13.8, 15. , 13.9, 13.3, 13.1, 10.2, 10.4, 10.9, 11.3, 12.3,  8.8,\n",
       "        7.2, 10.5,  7.4, 10.2, 11.5, 15.1, 23.2,  9.7, 13.8, 12.7, 13.1,\n",
       "       12.5,  8.5,  5. ,  6.3,  5.6,  7.2, 12.1,  8.3,  8.5,  5. , 11.9,\n",
       "       27.9, 17.2, 27.5, 15. , 17.2, 17.9, 16.3,  7. ,  7.2,  7.5, 10.4,\n",
       "        8.8,  8.4, 16.7, 14.2, 20.8, 13.4, 11.7,  8.3, 10.2, 10.9, 11. ,\n",
       "        9.5, 14.5, 14.1, 16.1, 14.3, 11.7, 13.4,  9.6,  8.7,  8.4, 12.8,\n",
       "       10.5, 17.1, 18.4, 15.4, 10.8, 11.8, 14.9, 12.6, 14.1, 13. , 13.4,\n",
       "       15.2, 16.1, 17.8, 14.9, 14.1, 12.7, 13.5, 14.9, 20. , 16.4, 17.7,\n",
       "       19.5, 20.2, 21.4, 19.9, 19. , 19.1, 19.1, 20.1, 19.9, 19.6, 23.2,\n",
       "       29.8, 13.8, 13.3, 16.7, 12. , 14.6, 21.4, 23. , 23.7, 25. , 21.8,\n",
       "       20.6, 21.2, 19.1, 20.6, 15.2,  7. ,  8.1, 13.6, 20.1, 21.8, 24.5,\n",
       "       23.1, 19.7, 18.3, 21.2, 17.5, 16.8, 22.4, 20.6, 23.9, 22. , 11.9])"
      ]
     },
     "execution_count": 7,
     "metadata": {},
     "output_type": "execute_result"
    }
   ],
   "source": [
    "target"
   ]
  },
  {
   "cell_type": "markdown",
   "metadata": {
    "id": "MFNftzK_gHKV"
   },
   "source": [
    "Y luego entre datos de entrenamiento y de prueba"
   ]
  },
  {
   "cell_type": "code",
   "execution_count": 8,
   "metadata": {
    "executionInfo": {
     "elapsed": 268,
     "status": "ok",
     "timestamp": 1656725528060,
     "user": {
      "displayName": "Didier Gamboa",
      "userId": "10298588528589042889"
     },
     "user_tz": 300
    },
    "id": "xn_N8rRSgHKZ"
   },
   "outputs": [],
   "source": [
    "data_train, data_test, target_train, target_test = train_test_split(data, target, test_size=.2, random_state=0)"
   ]
  },
  {
   "cell_type": "code",
   "execution_count": 10,
   "metadata": {
    "colab": {
     "base_uri": "https://localhost:8080/"
    },
    "executionInfo": {
     "elapsed": 266,
     "status": "ok",
     "timestamp": 1656725569957,
     "user": {
      "displayName": "Didier Gamboa",
      "userId": "10298588528589042889"
     },
     "user_tz": 300
    },
    "id": "_3KuJpYTgHKe",
    "outputId": "d67e22ff-95f6-4b36-deef-0d6e6d673fa8"
   },
   "outputs": [
    {
     "name": "stdout",
     "output_type": "stream",
     "text": [
      "Train: (404, 13) (404,)\n",
      "Test:  (102, 13) (102,)\n"
     ]
    }
   ],
   "source": [
    "print(\"Train:\", data_train.shape, target_train.shape)\n",
    "print(\"Test: \", data_test.shape, target_test.shape)"
   ]
  },
  {
   "cell_type": "markdown",
   "metadata": {
    "id": "jljI2H3WgHKo"
   },
   "source": [
    "### KBest con Correlación de Pearson\n",
    "La correlación permite medir el cambio de dos variables en conjunto. Una de las correlaciones más comunes es la de Pearson que supone una distribución Gaussiana para cada variable y devuelve la relación lineal entre ellas. En el caso de predictores numéricos, lo usual es usar este tipo de estadísticas. \n",
    "\n",
    "`SelectKBest` permite seleccionar las $k$ características más relevantes, es decir, las características con mayor dependencia a la variable objetivo."
   ]
  },
  {
   "cell_type": "code",
   "execution_count": 9,
   "metadata": {
    "colab": {
     "base_uri": "https://localhost:8080/"
    },
    "executionInfo": {
     "elapsed": 284,
     "status": "ok",
     "timestamp": 1656725851788,
     "user": {
      "displayName": "Didier Gamboa",
      "userId": "10298588528589042889"
     },
     "user_tz": 300
    },
    "id": "Kzx-0mHbgHKs",
    "outputId": "bc3297ef-27cd-4c3b-c1c1-d70ef28e002c"
   },
   "outputs": [
    {
     "data": {
      "text/plain": [
       "SelectKBest(k=8, score_func=<function f_regression at 0x000002AB4C1E68B0>)"
      ]
     },
     "execution_count": 9,
     "metadata": {},
     "output_type": "execute_result"
    }
   ],
   "source": [
    "feature_selector = SelectKBest(score_func=f_regression, k=8) \n",
    "feature_selector.fit(data_train, target_train)"
   ]
  },
  {
   "cell_type": "markdown",
   "metadata": {
    "id": "8wrOCeS8gHKw"
   },
   "source": [
    "Con la función de `transform()` seleccionamos de nuestro conjunto original de características aquellas $k$ primeras que fueron seleccionadas de acuerdo a lo definido en el selector."
   ]
  },
  {
   "cell_type": "code",
   "execution_count": 12,
   "metadata": {
    "executionInfo": {
     "elapsed": 469,
     "status": "ok",
     "timestamp": 1656725857644,
     "user": {
      "displayName": "Didier Gamboa",
      "userId": "10298588528589042889"
     },
     "user_tz": 300
    },
    "id": "wE1L-2WogHKz"
   },
   "outputs": [],
   "source": [
    "data_train_fs = feature_selector.transform(data_train)\n",
    "data_test_fs = feature_selector.transform(data_test)"
   ]
  },
  {
   "cell_type": "code",
   "execution_count": 13,
   "metadata": {
    "colab": {
     "base_uri": "https://localhost:8080/"
    },
    "executionInfo": {
     "elapsed": 317,
     "status": "ok",
     "timestamp": 1656725923929,
     "user": {
      "displayName": "Didier Gamboa",
      "userId": "10298588528589042889"
     },
     "user_tz": 300
    },
    "id": "DM6FzIeXgHK2",
    "outputId": "64d82b4f-e6ee-4796-ab67-ef89c85ca3e3"
   },
   "outputs": [
    {
     "name": "stdout",
     "output_type": "stream",
     "text": [
      "Train Original:     (404, 13)\n",
      "Test Original:      (102, 13)\n",
      "Train Transformado: (404, 8)\n",
      "Test Transformado:  (102, 8)\n"
     ]
    }
   ],
   "source": [
    "print(\"Train Original:    \", data_train.shape)\n",
    "print(\"Test Original:     \", data_test.shape)\n",
    "print(\"Train Transformado:\", data_train_fs.shape)\n",
    "print(\"Test Transformado: \", data_test_fs.shape)"
   ]
  },
  {
   "cell_type": "code",
   "execution_count": 14,
   "metadata": {
    "colab": {
     "base_uri": "https://localhost:8080/"
    },
    "executionInfo": {
     "elapsed": 284,
     "status": "ok",
     "timestamp": 1656725933090,
     "user": {
      "displayName": "Didier Gamboa",
      "userId": "10298588528589042889"
     },
     "user_tz": 300
    },
    "id": "9fOVyfX5gHK6",
    "outputId": "c154b2dc-9deb-449a-b501-a04057c17d36"
   },
   "outputs": [
    {
     "data": {
      "text/plain": [
       "array([ 81.77212064,  81.1475855 , 153.00493431,  13.09583263,\n",
       "       107.63575126, 397.33191725,  82.83387891,  34.46704936,\n",
       "        88.68548609, 142.08609712, 187.10308463,  57.67850087,\n",
       "       535.13194094])"
      ]
     },
     "execution_count": 14,
     "metadata": {},
     "output_type": "execute_result"
    }
   ],
   "source": [
    "feature_selector.scores_"
   ]
  },
  {
   "cell_type": "markdown",
   "metadata": {
    "id": "SDncUXDIgHK8"
   },
   "source": [
    "Independiente de la cantidad de características seleccionadas, los resultados de la función de calificación pueden ser visualizados."
   ]
  },
  {
   "cell_type": "code",
   "execution_count": 15,
   "metadata": {
    "colab": {
     "base_uri": "https://localhost:8080/"
    },
    "executionInfo": {
     "elapsed": 294,
     "status": "ok",
     "timestamp": 1656725958787,
     "user": {
      "displayName": "Didier Gamboa",
      "userId": "10298588528589042889"
     },
     "user_tz": 300
    },
    "id": "YICPCFQogHLC",
    "outputId": "4ca2effa-bc0b-4cdd-da4c-4273b30f1d3d"
   },
   "outputs": [
    {
     "name": "stdout",
     "output_type": "stream",
     "text": [
      "Score obtenido de cada característica (mayor es mejor)\n",
      "============================================================\n",
      "Característica  0:  81.772121\n",
      "Característica  1:  81.147585\n",
      "Característica  2: 153.004934\n",
      "Característica  3:  13.095833\n",
      "Característica  4: 107.635751\n",
      "Característica  5: 397.331917\n",
      "Característica  6:  82.833879\n",
      "Característica  7:  34.467049\n",
      "Característica  8:  88.685486\n",
      "Característica  9: 142.086097\n",
      "Característica 10: 187.103085\n",
      "Característica 11:  57.678501\n",
      "Característica 12: 535.131941\n"
     ]
    }
   ],
   "source": [
    "# Iterando por sobre todas las características e imprimiendo la calificación correspondiente\n",
    "print(\"Score obtenido de cada característica (mayor es mejor)\")\n",
    "print(\"============================================================\")\n",
    "for i in range(len(feature_selector.scores_)):\n",
    "    print(\"Característica {:2d}: {:10f}\".format(i, feature_selector.scores_[i]))"
   ]
  },
  {
   "cell_type": "code",
   "execution_count": 16,
   "metadata": {
    "colab": {
     "base_uri": "https://localhost:8080/",
     "height": 313
    },
    "executionInfo": {
     "elapsed": 323,
     "status": "ok",
     "timestamp": 1656725996333,
     "user": {
      "displayName": "Didier Gamboa",
      "userId": "10298588528589042889"
     },
     "user_tz": 300
    },
    "id": "KCYDaATIgHLH",
    "outputId": "7b6db964-b16c-4619-d1a5-3568ec083a4e"
   },
   "outputs": [
    {
     "data": {
      "image/png": "[encoded data removed]",
      "text/plain": [
       "<Figure size 432x288 with 1 Axes>"
      ]
     },
     "metadata": {
      "needs_background": "light"
     },
     "output_type": "display_data"
    }
   ],
   "source": [
    "# Gráfica de barras con el nombre de las características y la calificación obtenida\n",
    "plt.bar([boston.columns[i] for i in range(len(feature_selector.scores_))], feature_selector.scores_)\n",
    "plt.xticks(rotation=90)\n",
    "plt.title(\"Resultados de importancia de las caracterísitcas\")\n",
    "plt.show()"
   ]
  },
  {
   "cell_type": "markdown",
   "metadata": {
    "id": "YwSI2AUNgHLM"
   },
   "source": [
    "### RFE\n",
    "La Eliminación Recursiva de Características (RFE por sus siglas en inglés) es u algoritmo de búsqueda de características que utiliza un modelo de predicción para realizar un ajuste, establece el órden de importancia de las variables y elimina la menos relevante. Posteriormente, vuelve a clasificar el modelo con las características restantes y repite el proceso iterativamente hasta que queden el número deseado de variables de entradas.\n",
    "\n",
    "Para este ejemplo, se utiliza un modelo de regresión lineal que acepta valores numéricos de entrada y produce un valor numérico de salida. Otra opción viable son árboles de decisión como regresores."
   ]
  },
  {
   "cell_type": "code",
   "execution_count": 17,
   "metadata": {
    "colab": {
     "base_uri": "https://localhost:8080/"
    },
    "executionInfo": {
     "elapsed": 279,
     "status": "ok",
     "timestamp": 1656726521902,
     "user": {
      "displayName": "Didier Gamboa",
      "userId": "10298588528589042889"
     },
     "user_tz": 300
    },
    "id": "4qCW-yfBgHLP",
    "outputId": "f6fdf1a6-ac12-4741-acb2-70bbc038b69b"
   },
   "outputs": [
    {
     "data": {
      "text/plain": [
       "RFE(estimator=LinearRegression(), n_features_to_select=8)"
      ]
     },
     "execution_count": 17,
     "metadata": {},
     "output_type": "execute_result"
    }
   ],
   "source": [
    "rfe = RFE(estimator=LinearRegression(), n_features_to_select=8)\n",
    "rfe.fit(data_train, target_train)"
   ]
  },
  {
   "cell_type": "code",
   "execution_count": 18,
   "metadata": {
    "executionInfo": {
     "elapsed": 258,
     "status": "ok",
     "timestamp": 1656726523496,
     "user": {
      "displayName": "Didier Gamboa",
      "userId": "10298588528589042889"
     },
     "user_tz": 300
    },
    "id": "DR_4xXUBgHLV"
   },
   "outputs": [],
   "source": [
    "data_train_rfe = rfe.transform(data_train)\n",
    "data_test_rfe = rfe.transform(data_test)"
   ]
  },
  {
   "cell_type": "code",
   "execution_count": 19,
   "metadata": {
    "colab": {
     "base_uri": "https://localhost:8080/"
    },
    "executionInfo": {
     "elapsed": 293,
     "status": "ok",
     "timestamp": 1656726525996,
     "user": {
      "displayName": "Didier Gamboa",
      "userId": "10298588528589042889"
     },
     "user_tz": 300
    },
    "id": "X1vPGcRlgHLY",
    "outputId": "20776655-2815-4188-9308-ba651cc095d2"
   },
   "outputs": [
    {
     "name": "stdout",
     "output_type": "stream",
     "text": [
      "Train Original:     (404, 13)\n",
      "Test Original:      (102, 13)\n",
      "Train Transformado: (404, 8)\n",
      "Test Transformado:  (102, 8)\n"
     ]
    }
   ],
   "source": [
    "print(\"Train Original:    \", data_train.shape)\n",
    "print(\"Test Original:     \", data_test.shape)\n",
    "print(\"Train Transformado:\", data_train_rfe.shape)\n",
    "print(\"Test Transformado: \", data_test_rfe.shape)"
   ]
  },
  {
   "cell_type": "code",
   "execution_count": 20,
   "metadata": {
    "colab": {
     "base_uri": "https://localhost:8080/"
    },
    "executionInfo": {
     "elapsed": 268,
     "status": "ok",
     "timestamp": 1656726646986,
     "user": {
      "displayName": "Didier Gamboa",
      "userId": "10298588528589042889"
     },
     "user_tz": 300
    },
    "id": "OhJ6XHH-gHLc",
    "outputId": "2bcabd09-7212-48d3-9bb4-0b32fc774102"
   },
   "outputs": [
    {
     "data": {
      "text/plain": [
       "array([1, 2, 5, 1, 1, 1, 6, 1, 1, 3, 1, 4, 1])"
      ]
     },
     "execution_count": 20,
     "metadata": {},
     "output_type": "execute_result"
    }
   ],
   "source": [
    "rfe.ranking_"
   ]
  },
  {
   "cell_type": "code",
   "execution_count": 21,
   "metadata": {
    "colab": {
     "base_uri": "https://localhost:8080/"
    },
    "executionInfo": {
     "elapsed": 256,
     "status": "ok",
     "timestamp": 1656726656818,
     "user": {
      "displayName": "Didier Gamboa",
      "userId": "10298588528589042889"
     },
     "user_tz": 300
    },
    "id": "EToUv2ZngHLe",
    "outputId": "8bd1e207-d50f-4093-c5f9-519074340f3a"
   },
   "outputs": [
    {
     "data": {
      "text/plain": [
       "array(['CRIM', 'ZN', 'INDUS', 'CHAS', 'NOX', 'RM', 'AGE', 'DIS', 'RAD',\n",
       "       'TAX', 'PTRATIO', 'B', 'LSTAT'], dtype='<U7')"
      ]
     },
     "execution_count": 21,
     "metadata": {},
     "output_type": "execute_result"
    }
   ],
   "source": [
    "boston_raw.feature_names"
   ]
  },
  {
   "cell_type": "code",
   "execution_count": 25,
   "metadata": {
    "colab": {
     "base_uri": "https://localhost:8080/"
    },
    "executionInfo": {
     "elapsed": 249,
     "status": "ok",
     "timestamp": 1656726705894,
     "user": {
      "displayName": "Didier Gamboa",
      "userId": "10298588528589042889"
     },
     "user_tz": 300
    },
    "id": "OSKzWiJjgHLh",
    "outputId": "e7fb1ebd-865b-4d9a-d59f-b7c39967dbc6"
   },
   "outputs": [
    {
     "name": "stdout",
     "output_type": "stream",
     "text": [
      "Clasifiación de cada característica (menor es mejor)\n",
      "====================================================\n",
      "Característica CRIM: 1\n",
      "Característica ZN: 2\n",
      "Característica INDUS: 5\n",
      "Característica CHAS: 1\n",
      "Característica NOX: 1\n",
      "Característica RM: 1\n",
      "Característica AGE: 6\n",
      "Característica DIS: 1\n",
      "Característica RAD: 1\n",
      "Característica TAX: 3\n",
      "Característica PTRATIO: 1\n",
      "Característica B: 4\n",
      "Característica LSTAT: 1\n"
     ]
    }
   ],
   "source": [
    "# Iterando por sobre todas las características e imprimiendo la clasificación correspondiente\n",
    "print(\"Clasifiación de cada característica (menor es mejor)\")\n",
    "print(\"====================================================\")\n",
    "for i in range(len(rfe.ranking_)):\n",
    "    print(\"Característica {:s}: {:d}\".format(boston_raw.feature_names[i], rfe.ranking_[i]))"
   ]
  },
  {
   "cell_type": "markdown",
   "metadata": {
    "id": "uXroztO9gHLk"
   },
   "source": [
    "> Código basado en el libro _**Data Preparation for Machine Learning:** Data Cleaning, Feature Selection, and Data Transforms in Python_ por Jason Brownlee."
   ]
  }
 ],
 "metadata": {
  "colab": {
   "name": "NB8.2 Feature Selection-Numerico.ipynb",
   "provenance": []
  },
  "kernelspec": {
   "display_name": "Python 3",
   "language": "python",
   "name": "python3"
  },
  "language_info": {
   "codemirror_mode": {
    "name": "ipython",
    "version": 3
   },
   "file_extension": ".py",
   "mimetype": "text/x-python",
   "name": "python",
   "nbconvert_exporter": "python",
   "pygments_lexer": "ipython3",
   "version": "3.8.3"
  }
 },
 "nbformat": 4,
 "nbformat_minor": 1
}
